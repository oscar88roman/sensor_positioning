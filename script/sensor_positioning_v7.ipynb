{
 "cells": [
  {
   "cell_type": "code",
   "execution_count": 16,
   "metadata": {},
   "outputs": [],
   "source": [
    "import os\n",
    "import re\n",
    "from pathlib import Path\n",
    "from rdflib import Graph\n",
    "\n",
    "import numpy as np\n",
    "import pandas as pd\n",
    "\n",
    "import laspy\n",
    "\n",
    "import pvlib\n",
    "from datetime import datetime\n",
    "import cv2\n",
    "import json\n",
    "\n",
    "import math\n",
    "from copy import deepcopy\n",
    "\n",
    "import trimesh\n",
    "import plotly.graph_objects as go\n",
    "\n",
    "from sklearn.decomposition import PCA\n",
    "from sklearn.cluster import DBSCAN\n",
    "from sklearn.preprocessing import StandardScaler\n",
    "import open3d as o3d\n",
    "\n",
    "from topologicpy.Vertex import Vertex\n",
    "from topologicpy.Face import Face\n",
    "from topologicpy.Cell import Cell\n",
    "from matplotlib import cm\n",
    "\n",
    "import geomapi.tools as tl\n",
    "from geomapi.nodes import PointCloudNode\n",
    "from geomapi.utils import geometryutils as gmu\n",
    "\n",
    "from scipy.spatial import Delaunay\n",
    "from scipy.spatial import ConvexHull\n",
    "\n",
    "from geopy.geocoders import Nominatim\n",
    "\n",
    "import matplotlib.pyplot as plt\n",
    "from matplotlib.colors import ListedColormap\n",
    "\n",
    "import utils\n",
    "from utils import utils as ut\n"
   ]
  },
  {
   "cell_type": "code",
   "execution_count": 4,
   "metadata": {},
   "outputs": [
    {
     "name": "stdout",
     "output_type": "stream",
     "text": [
      "Current folder c:\\Users\\oscar\\OneDrive - Fondazione Bruno Kessler\\sensor_positioning\\script\n",
      "Pcd_input_path: c:\\Users\\oscar\\OneDrive - Fondazione Bruno Kessler\\sensor_positioning\\data\n",
      "File name c:\\Users\\oscar\\OneDrive - Fondazione Bruno Kessler\\sensor_positioning\\data\\Theatre.las\n",
      "class_file: c:\\Users\\oscar\\OneDrive - Fondazione Bruno Kessler\\sensor_positioning\\script\\_classes_expanded.json\n",
      "class file not found: c:\\Users\\oscar\\OneDrive - Fondazione Bruno Kessler\\sensor_positioning\\script\\_classes_expanded.json\n"
     ]
    }
   ],
   "source": [
    "current_directory=Path(os.getcwd()) \n",
    "print(f'Current folder {current_directory}')\n",
    "\n",
    "name = 'Theatre'\n",
    "\n",
    "path = Path(os.getcwd()).parents[0] / 'data'\n",
    "pcd_input_path = path\n",
    "file_name = pcd_input_path / f'{name}.las'\n",
    "print(f'Pcd_input_path: {pcd_input_path}\\nFile name {file_name}')\n",
    "\n",
    "class_file = Path(os.getcwd()) / '_classes_expanded.json'\n",
    "print('class_file:', class_file)\n",
    "\n",
    "if not class_file.exists():\n",
    "    print(f\"class file not found: {class_file}\")\n",
    "else:\n",
    "    print(f\"class file exists: {class_file}\")"
   ]
  },
  {
   "cell_type": "code",
   "execution_count": 5,
   "metadata": {},
   "outputs": [
    {
     "name": "stdout",
     "output_type": "stream",
     "text": [
      "Graph .ttl file uploaded!\n",
      "Graph parsed successfully\n"
     ]
    }
   ],
   "source": [
    "input_folder_ttl = path / 'graph_files'\n",
    "graph_path = input_folder_ttl / f'{name}_graph.ttl'\n",
    "graph_path_uri = graph_path.as_uri()\n",
    "\n",
    "if graph_path.exists():\n",
    "    print(\"Graph .ttl file uploaded!\")\n",
    "else:\n",
    "    print(\"File not found!\")\n",
    "\n",
    "graph = Graph()\n",
    "graph.parse(graph_path_uri, format = \"turtle\")\n",
    "print(\"Graph parsed successfully\")\n",
    "nodes = tl.graph_to_nodes(graph)\n"
   ]
  },
  {
   "cell_type": "code",
   "execution_count": 6,
   "metadata": {},
   "outputs": [
    {
     "name": "stdout",
     "output_type": "stream",
     "text": [
      "File exists: c:\\Users\\oscar\\OneDrive - Fondazione Bruno Kessler\\sensor_positioning\\model\\Walls.obj\n",
      "File exists: c:\\Users\\oscar\\OneDrive - Fondazione Bruno Kessler\\sensor_positioning\\model\\Windows.obj\n",
      "File not found: c:\\Users\\oscar\\OneDrive - Fondazione Bruno Kessler\\sensor_positioning\\model\\Ceilings.obj\n",
      "Processing walls...\n",
      "Processing windows...\n"
     ]
    }
   ],
   "source": [
    "mash_path = r\"C:\\Users\\oscar\\OneDrive - Fondazione Bruno Kessler\\sensor_positioning\\model\\Theatre_volume.obj\"\n",
    "mesh = trimesh.load_mesh(mash_path)\n",
    "\n",
    "model_path = Path(os.getcwd()).parents[0] / 'model' \n",
    "\n",
    "walls_obj_path = model_path/'Walls.obj' \n",
    "windows_obj_path =  model_path/'Windows.obj'\n",
    "ceiling_obj_path =  model_path/'Ceilings.obj'\n",
    "\n",
    "areas = ut.check_files(walls_obj_path, windows_obj_path, ceiling_obj_path) \n",
    "\n",
    "walls_mesh = trimesh.load(walls_obj_path)\n",
    "walls_area = walls_mesh.area  # m²\n",
    "windows_mesh = trimesh.load(windows_obj_path)\n",
    "windows_area = windows_mesh.area  # m²\n",
    "#ceiling_mesh = trimesh.load(ceiling_obj_path)\n"
   ]
  },
  {
   "cell_type": "code",
   "execution_count": 7,
   "metadata": {},
   "outputs": [
    {
     "name": "stdout",
     "output_type": "stream",
     "text": [
      "Loaded 14 vertices.\n",
      "Computed volume: 267.42 m³\n"
     ]
    },
    {
     "data": {
      "application/vnd.plotly.v1+json": {
       "config": {
        "plotlyServerURL": "https://plot.ly"
       },
       "data": [
        {
         "color": "red",
         "i": [
          11,
          9,
          3,
          0,
          0,
          7,
          7,
          7,
          10,
          10,
          10,
          10,
          9,
          9,
          7,
          7,
          7,
          10,
          10,
          10
         ],
         "j": [
          8,
          5,
          5,
          4,
          8,
          13,
          0,
          0,
          3,
          3,
          13,
          11,
          4,
          4,
          4,
          3,
          3,
          9,
          11,
          9
         ],
         "k": [
          1,
          12,
          12,
          8,
          1,
          1,
          1,
          4,
          13,
          5,
          1,
          1,
          12,
          8,
          12,
          12,
          13,
          8,
          8,
          5
         ],
         "name": "Solid",
         "opacity": 0.5,
         "type": "mesh3d",
         "x": [
          136.0935059,
          111.10808370000001,
          118.8144989,
          118.8144989,
          136.0935059,
          119.4579488,
          119.4579488,
          111.51349640000001,
          136.1325073,
          136.1325073,
          111.2525024,
          111.22049709999999,
          136.0935059,
          111.51349640000001
         ],
         "y": [
          21.6753268,
          22.0786419,
          14.540848800000001,
          14.540848800000001,
          14.540848800000001,
          28.8098049,
          28.8098049,
          14.540848800000001,
          28.8098049,
          28.8098049,
          28.8098049,
          28.8098049,
          14.540848800000001,
          14.540848800000001
         ],
         "z": [
          16.5971623,
          16.5971623,
          8.217,
          7.0149999,
          13.8358858,
          6.9959998,
          8.1199999,
          13.8358858,
          14.033,
          6.9959998,
          8.0509118,
          14.033,
          6.9749999,
          8.217
         ]
        },
        {
         "marker": {
          "color": "blue",
          "opacity": 0.7,
          "size": 5
         },
         "mode": "markers",
         "name": "Point Cloud",
         "type": "scatter3d",
         "x": [
          136.0935059,
          111.10808370000001,
          118.8144989,
          118.8144989,
          136.0935059,
          119.4579488,
          119.4579488,
          111.51349640000001,
          136.1325073,
          136.1325073,
          111.2525024,
          111.22049709999999,
          136.0935059,
          111.51349640000001
         ],
         "y": [
          21.6753268,
          22.0786419,
          14.540848800000001,
          14.540848800000001,
          14.540848800000001,
          28.8098049,
          28.8098049,
          14.540848800000001,
          28.8098049,
          28.8098049,
          28.8098049,
          28.8098049,
          14.540848800000001,
          14.540848800000001
         ],
         "z": [
          16.5971623,
          16.5971623,
          8.217,
          7.0149999,
          13.8358858,
          6.9959998,
          8.1199999,
          13.8358858,
          14.033,
          6.9959998,
          8.0509118,
          14.033,
          6.9749999,
          8.217
         ]
        }
       ],
       "layout": {
        "height": 800,
        "scene": {
         "camera": {
          "eye": {
           "x": 1.5,
           "y": 1.5,
           "z": 1.5
          }
         },
         "xaxis": {
          "tickfont": {
           "size": 8
          },
          "title": {
           "font": {
            "size": 8
           },
           "text": "x"
          }
         },
         "yaxis": {
          "tickfont": {
           "size": 8
          },
          "title": {
           "font": {
            "size": 8
           },
           "text": "y"
          }
         },
         "zaxis": {
          "tickfont": {
           "size": 8
          },
          "title": {
           "font": {
            "size": 8
           },
           "text": "z"
          }
         }
        },
        "template": {
         "data": {
          "bar": [
           {
            "error_x": {
             "color": "#2a3f5f"
            },
            "error_y": {
             "color": "#2a3f5f"
            },
            "marker": {
             "line": {
              "color": "#E5ECF6",
              "width": 0.5
             },
             "pattern": {
              "fillmode": "overlay",
              "size": 10,
              "solidity": 0.2
             }
            },
            "type": "bar"
           }
          ],
          "barpolar": [
           {
            "marker": {
             "line": {
              "color": "#E5ECF6",
              "width": 0.5
             },
             "pattern": {
              "fillmode": "overlay",
              "size": 10,
              "solidity": 0.2
             }
            },
            "type": "barpolar"
           }
          ],
          "carpet": [
           {
            "aaxis": {
             "endlinecolor": "#2a3f5f",
             "gridcolor": "white",
             "linecolor": "white",
             "minorgridcolor": "white",
             "startlinecolor": "#2a3f5f"
            },
            "baxis": {
             "endlinecolor": "#2a3f5f",
             "gridcolor": "white",
             "linecolor": "white",
             "minorgridcolor": "white",
             "startlinecolor": "#2a3f5f"
            },
            "type": "carpet"
           }
          ],
          "choropleth": [
           {
            "colorbar": {
             "outlinewidth": 0,
             "ticks": ""
            },
            "type": "choropleth"
           }
          ],
          "contour": [
           {
            "colorbar": {
             "outlinewidth": 0,
             "ticks": ""
            },
            "colorscale": [
             [
              0,
              "#0d0887"
             ],
             [
              0.1111111111111111,
              "#46039f"
             ],
             [
              0.2222222222222222,
              "#7201a8"
             ],
             [
              0.3333333333333333,
              "#9c179e"
             ],
             [
              0.4444444444444444,
              "#bd3786"
             ],
             [
              0.5555555555555556,
              "#d8576b"
             ],
             [
              0.6666666666666666,
              "#ed7953"
             ],
             [
              0.7777777777777778,
              "#fb9f3a"
             ],
             [
              0.8888888888888888,
              "#fdca26"
             ],
             [
              1,
              "#f0f921"
             ]
            ],
            "type": "contour"
           }
          ],
          "contourcarpet": [
           {
            "colorbar": {
             "outlinewidth": 0,
             "ticks": ""
            },
            "type": "contourcarpet"
           }
          ],
          "heatmap": [
           {
            "colorbar": {
             "outlinewidth": 0,
             "ticks": ""
            },
            "colorscale": [
             [
              0,
              "#0d0887"
             ],
             [
              0.1111111111111111,
              "#46039f"
             ],
             [
              0.2222222222222222,
              "#7201a8"
             ],
             [
              0.3333333333333333,
              "#9c179e"
             ],
             [
              0.4444444444444444,
              "#bd3786"
             ],
             [
              0.5555555555555556,
              "#d8576b"
             ],
             [
              0.6666666666666666,
              "#ed7953"
             ],
             [
              0.7777777777777778,
              "#fb9f3a"
             ],
             [
              0.8888888888888888,
              "#fdca26"
             ],
             [
              1,
              "#f0f921"
             ]
            ],
            "type": "heatmap"
           }
          ],
          "heatmapgl": [
           {
            "colorbar": {
             "outlinewidth": 0,
             "ticks": ""
            },
            "colorscale": [
             [
              0,
              "#0d0887"
             ],
             [
              0.1111111111111111,
              "#46039f"
             ],
             [
              0.2222222222222222,
              "#7201a8"
             ],
             [
              0.3333333333333333,
              "#9c179e"
             ],
             [
              0.4444444444444444,
              "#bd3786"
             ],
             [
              0.5555555555555556,
              "#d8576b"
             ],
             [
              0.6666666666666666,
              "#ed7953"
             ],
             [
              0.7777777777777778,
              "#fb9f3a"
             ],
             [
              0.8888888888888888,
              "#fdca26"
             ],
             [
              1,
              "#f0f921"
             ]
            ],
            "type": "heatmapgl"
           }
          ],
          "histogram": [
           {
            "marker": {
             "pattern": {
              "fillmode": "overlay",
              "size": 10,
              "solidity": 0.2
             }
            },
            "type": "histogram"
           }
          ],
          "histogram2d": [
           {
            "colorbar": {
             "outlinewidth": 0,
             "ticks": ""
            },
            "colorscale": [
             [
              0,
              "#0d0887"
             ],
             [
              0.1111111111111111,
              "#46039f"
             ],
             [
              0.2222222222222222,
              "#7201a8"
             ],
             [
              0.3333333333333333,
              "#9c179e"
             ],
             [
              0.4444444444444444,
              "#bd3786"
             ],
             [
              0.5555555555555556,
              "#d8576b"
             ],
             [
              0.6666666666666666,
              "#ed7953"
             ],
             [
              0.7777777777777778,
              "#fb9f3a"
             ],
             [
              0.8888888888888888,
              "#fdca26"
             ],
             [
              1,
              "#f0f921"
             ]
            ],
            "type": "histogram2d"
           }
          ],
          "histogram2dcontour": [
           {
            "colorbar": {
             "outlinewidth": 0,
             "ticks": ""
            },
            "colorscale": [
             [
              0,
              "#0d0887"
             ],
             [
              0.1111111111111111,
              "#46039f"
             ],
             [
              0.2222222222222222,
              "#7201a8"
             ],
             [
              0.3333333333333333,
              "#9c179e"
             ],
             [
              0.4444444444444444,
              "#bd3786"
             ],
             [
              0.5555555555555556,
              "#d8576b"
             ],
             [
              0.6666666666666666,
              "#ed7953"
             ],
             [
              0.7777777777777778,
              "#fb9f3a"
             ],
             [
              0.8888888888888888,
              "#fdca26"
             ],
             [
              1,
              "#f0f921"
             ]
            ],
            "type": "histogram2dcontour"
           }
          ],
          "mesh3d": [
           {
            "colorbar": {
             "outlinewidth": 0,
             "ticks": ""
            },
            "type": "mesh3d"
           }
          ],
          "parcoords": [
           {
            "line": {
             "colorbar": {
              "outlinewidth": 0,
              "ticks": ""
             }
            },
            "type": "parcoords"
           }
          ],
          "pie": [
           {
            "automargin": true,
            "type": "pie"
           }
          ],
          "scatter": [
           {
            "fillpattern": {
             "fillmode": "overlay",
             "size": 10,
             "solidity": 0.2
            },
            "type": "scatter"
           }
          ],
          "scatter3d": [
           {
            "line": {
             "colorbar": {
              "outlinewidth": 0,
              "ticks": ""
             }
            },
            "marker": {
             "colorbar": {
              "outlinewidth": 0,
              "ticks": ""
             }
            },
            "type": "scatter3d"
           }
          ],
          "scattercarpet": [
           {
            "marker": {
             "colorbar": {
              "outlinewidth": 0,
              "ticks": ""
             }
            },
            "type": "scattercarpet"
           }
          ],
          "scattergeo": [
           {
            "marker": {
             "colorbar": {
              "outlinewidth": 0,
              "ticks": ""
             }
            },
            "type": "scattergeo"
           }
          ],
          "scattergl": [
           {
            "marker": {
             "colorbar": {
              "outlinewidth": 0,
              "ticks": ""
             }
            },
            "type": "scattergl"
           }
          ],
          "scattermapbox": [
           {
            "marker": {
             "colorbar": {
              "outlinewidth": 0,
              "ticks": ""
             }
            },
            "type": "scattermapbox"
           }
          ],
          "scatterpolar": [
           {
            "marker": {
             "colorbar": {
              "outlinewidth": 0,
              "ticks": ""
             }
            },
            "type": "scatterpolar"
           }
          ],
          "scatterpolargl": [
           {
            "marker": {
             "colorbar": {
              "outlinewidth": 0,
              "ticks": ""
             }
            },
            "type": "scatterpolargl"
           }
          ],
          "scatterternary": [
           {
            "marker": {
             "colorbar": {
              "outlinewidth": 0,
              "ticks": ""
             }
            },
            "type": "scatterternary"
           }
          ],
          "surface": [
           {
            "colorbar": {
             "outlinewidth": 0,
             "ticks": ""
            },
            "colorscale": [
             [
              0,
              "#0d0887"
             ],
             [
              0.1111111111111111,
              "#46039f"
             ],
             [
              0.2222222222222222,
              "#7201a8"
             ],
             [
              0.3333333333333333,
              "#9c179e"
             ],
             [
              0.4444444444444444,
              "#bd3786"
             ],
             [
              0.5555555555555556,
              "#d8576b"
             ],
             [
              0.6666666666666666,
              "#ed7953"
             ],
             [
              0.7777777777777778,
              "#fb9f3a"
             ],
             [
              0.8888888888888888,
              "#fdca26"
             ],
             [
              1,
              "#f0f921"
             ]
            ],
            "type": "surface"
           }
          ],
          "table": [
           {
            "cells": {
             "fill": {
              "color": "#EBF0F8"
             },
             "line": {
              "color": "white"
             }
            },
            "header": {
             "fill": {
              "color": "#C8D4E3"
             },
             "line": {
              "color": "white"
             }
            },
            "type": "table"
           }
          ]
         },
         "layout": {
          "annotationdefaults": {
           "arrowcolor": "#2a3f5f",
           "arrowhead": 0,
           "arrowwidth": 1
          },
          "autotypenumbers": "strict",
          "coloraxis": {
           "colorbar": {
            "outlinewidth": 0,
            "ticks": ""
           }
          },
          "colorscale": {
           "diverging": [
            [
             0,
             "#8e0152"
            ],
            [
             0.1,
             "#c51b7d"
            ],
            [
             0.2,
             "#de77ae"
            ],
            [
             0.3,
             "#f1b6da"
            ],
            [
             0.4,
             "#fde0ef"
            ],
            [
             0.5,
             "#f7f7f7"
            ],
            [
             0.6,
             "#e6f5d0"
            ],
            [
             0.7,
             "#b8e186"
            ],
            [
             0.8,
             "#7fbc41"
            ],
            [
             0.9,
             "#4d9221"
            ],
            [
             1,
             "#276419"
            ]
           ],
           "sequential": [
            [
             0,
             "#0d0887"
            ],
            [
             0.1111111111111111,
             "#46039f"
            ],
            [
             0.2222222222222222,
             "#7201a8"
            ],
            [
             0.3333333333333333,
             "#9c179e"
            ],
            [
             0.4444444444444444,
             "#bd3786"
            ],
            [
             0.5555555555555556,
             "#d8576b"
            ],
            [
             0.6666666666666666,
             "#ed7953"
            ],
            [
             0.7777777777777778,
             "#fb9f3a"
            ],
            [
             0.8888888888888888,
             "#fdca26"
            ],
            [
             1,
             "#f0f921"
            ]
           ],
           "sequentialminus": [
            [
             0,
             "#0d0887"
            ],
            [
             0.1111111111111111,
             "#46039f"
            ],
            [
             0.2222222222222222,
             "#7201a8"
            ],
            [
             0.3333333333333333,
             "#9c179e"
            ],
            [
             0.4444444444444444,
             "#bd3786"
            ],
            [
             0.5555555555555556,
             "#d8576b"
            ],
            [
             0.6666666666666666,
             "#ed7953"
            ],
            [
             0.7777777777777778,
             "#fb9f3a"
            ],
            [
             0.8888888888888888,
             "#fdca26"
            ],
            [
             1,
             "#f0f921"
            ]
           ]
          },
          "colorway": [
           "#636efa",
           "#EF553B",
           "#00cc96",
           "#ab63fa",
           "#FFA15A",
           "#19d3f3",
           "#FF6692",
           "#B6E880",
           "#FF97FF",
           "#FECB52"
          ],
          "font": {
           "color": "#2a3f5f"
          },
          "geo": {
           "bgcolor": "white",
           "lakecolor": "white",
           "landcolor": "#E5ECF6",
           "showlakes": true,
           "showland": true,
           "subunitcolor": "white"
          },
          "hoverlabel": {
           "align": "left"
          },
          "hovermode": "closest",
          "mapbox": {
           "style": "light"
          },
          "paper_bgcolor": "white",
          "plot_bgcolor": "#E5ECF6",
          "polar": {
           "angularaxis": {
            "gridcolor": "white",
            "linecolor": "white",
            "ticks": ""
           },
           "bgcolor": "#E5ECF6",
           "radialaxis": {
            "gridcolor": "white",
            "linecolor": "white",
            "ticks": ""
           }
          },
          "scene": {
           "xaxis": {
            "backgroundcolor": "#E5ECF6",
            "gridcolor": "white",
            "gridwidth": 2,
            "linecolor": "white",
            "showbackground": true,
            "ticks": "",
            "zerolinecolor": "white"
           },
           "yaxis": {
            "backgroundcolor": "#E5ECF6",
            "gridcolor": "white",
            "gridwidth": 2,
            "linecolor": "white",
            "showbackground": true,
            "ticks": "",
            "zerolinecolor": "white"
           },
           "zaxis": {
            "backgroundcolor": "#E5ECF6",
            "gridcolor": "white",
            "gridwidth": 2,
            "linecolor": "white",
            "showbackground": true,
            "ticks": "",
            "zerolinecolor": "white"
           }
          },
          "shapedefaults": {
           "line": {
            "color": "#2a3f5f"
           }
          },
          "ternary": {
           "aaxis": {
            "gridcolor": "white",
            "linecolor": "white",
            "ticks": ""
           },
           "baxis": {
            "gridcolor": "white",
            "linecolor": "white",
            "ticks": ""
           },
           "bgcolor": "#E5ECF6",
           "caxis": {
            "gridcolor": "white",
            "linecolor": "white",
            "ticks": ""
           }
          },
          "title": {
           "x": 0.05
          },
          "xaxis": {
           "automargin": true,
           "gridcolor": "white",
           "linecolor": "white",
           "ticks": "",
           "title": {
            "standoff": 15
           },
           "zerolinecolor": "white",
           "zerolinewidth": 2
          },
          "yaxis": {
           "automargin": true,
           "gridcolor": "white",
           "linecolor": "white",
           "ticks": "",
           "title": {
            "standoff": 15
           },
           "zerolinecolor": "white",
           "zerolinewidth": 2
          }
         }
        },
        "title": {
         "font": {
          "size": 12
         },
         "text": "TOPOLOGIC BIM MODEL (TBIM)"
        },
        "width": 1000
       }
      }
     },
     "metadata": {},
     "output_type": "display_data"
    }
   ],
   "source": [
    "vertices_file = path / 'vertices.txt'\n",
    "\n",
    "vertices = ut.read_vertices(vertices_file) \n",
    "vertices *= 1e-3 \n",
    "print(f\"Loaded {len(vertices)} vertices.\")\n",
    "\n",
    "hull = ConvexHull(vertices)\n",
    "faces = hull.simplices.tolist()  \n",
    "\n",
    "volume = ut.compute_volume(vertices, faces)\n",
    "print(f\"Computed volume: {volume:.2f} m³\")\n",
    "\n",
    "plot = True\n",
    "plot2 = False\n",
    "\n",
    "if plot:\n",
    "    ut.plot_solid(vertices, faces)\n",
    "\n",
    "if plot2:\n",
    "\n",
    "    if mesh.vertices.shape[0] > 0 and mesh.faces.shape[0] > 0:\n",
    "        print(\"Mesh loaded: Valid\")\n",
    "    else:\n",
    "        print(\"Mesh loaded: Invalid\")\n",
    "\n",
    "    print(\"Vertices:\")\n",
    "    print(mesh.vertices)  \n",
    "    print(\"\\nFaces:\")\n",
    "    print(mesh.faces) \n",
    "\n",
    "    mesh.vertices *= 1e-3  # Scale all the coordinates by 10^-3\n",
    "\n",
    "    # Ensure that faces are properly formatted for Plotly\n",
    "    faces = mesh.faces\n",
    "\n",
    "    # Extract the X, Y, Z coordinates from the vertices\n",
    "    x, y, z = mesh.vertices.T  # Transpose to get X, Y, Z in separate arrays\n",
    "\n",
    "    # Create a Plotly mesh trace for the mesh\n",
    "    mesh_trace = go.Mesh3d(\n",
    "        x=x, y=y, z=z,\n",
    "        i=faces[:, 0],  # Indices of the first vertex of each triangle\n",
    "        j=faces[:, 1],  # Indices of the second vertex of each triangle\n",
    "        k=faces[:, 2],  # Indices of the third vertex of each triangle\n",
    "        color='red',  # Set mesh color to red\n",
    "        opacity=0.5,  # Optional: Set opacity to make it more transparent\n",
    "        name='Mesh'\n",
    "    )\n",
    "\n",
    "    # Read the .las point cloud file\n",
    "    name = 'Theatre'\n",
    "    path = Path(os.getcwd()).parents[0] / 'data'\n",
    "    pcd_input_path = path / f'{name}'\n",
    "    file_name = pcd_input_path / f'{name}.las'\n",
    "\n",
    "    # Initialize an empty list for traces\n",
    "    traces = [mesh_trace]  # Start with the mesh trace\n",
    "\n",
    "    # Read LAS file data if it exists\n",
    "    if file_name.exists():\n",
    "        las_data = laspy.read(file_name)\n",
    "        # Get the XYZ coordinates from the LAS file\n",
    "        x_points = las_data.x\n",
    "        y_points = las_data.y\n",
    "        z_points = las_data.z\n",
    "\n",
    "        # Check how many points are in the point cloud\n",
    "        print(f\"Number of points in point cloud: {len(x_points)}\")\n",
    "\n",
    "        # Optional: Scale point cloud data by 10^-3 if it's on a different scale\n",
    "        x_points *= 1e-3\n",
    "        y_points *= 1e-3\n",
    "        z_points *= 1e-3\n",
    "\n",
    "        # Create a Plotly scatter trace for the point cloud with larger markers\n",
    "        point_cloud_trace = go.Scatter3d(\n",
    "            x=x_points, y=y_points, z=z_points,\n",
    "            mode='markers',\n",
    "            marker=dict(size=5, color='blue', opacity=0.7),  # Increase size and set opacity\n",
    "            name='Point Cloud'\n",
    "        )\n",
    "\n",
    "        # Add point cloud trace to the traces list\n",
    "        traces.append(point_cloud_trace)\n",
    "    else:\n",
    "        print(f\"LAS file not found at {file_name}\")\n",
    "\n",
    "    # Create a layout for the Plotly figure with adjusted camera view, smaller font, and larger plot\n",
    "    layout = go.Layout(\n",
    "        scene=dict(\n",
    "            xaxis=dict(\n",
    "                title='x',\n",
    "                titlefont=dict(size=8),  # Smaller font for axis title\n",
    "                tickfont=dict(size=8)  # Smaller font for tick labels\n",
    "            ),\n",
    "            yaxis=dict(\n",
    "                title='y',\n",
    "                titlefont=dict(size=8),  # Smaller font for axis title\n",
    "                tickfont=dict(size=8)  # Smaller font for tick labels\n",
    "            ),\n",
    "            zaxis=dict(\n",
    "                title='z',\n",
    "                titlefont=dict(size=8),  # Smaller font for axis title\n",
    "                tickfont=dict(size=8)  # Smaller font for tick labels\n",
    "            ),\n",
    "            # Optional: Adjust the camera view to zoom out and fit both mesh and point cloud\n",
    "            camera=dict(\n",
    "                eye=dict(x=1.5, y=1.5, z=1.5)\n",
    "            ),\n",
    "        ),\n",
    "        title=\"TOPOLOGIC BIM MODEL (TBIM)\",\n",
    "        titlefont=dict(size=12),  # Smaller font for the main title\n",
    "        width=1000,  # Increase the width of the plot\n",
    "        height=800,  # Increase the height of the plot\n",
    "    )\n",
    "\n",
    "    # Create the Plotly figure with all traces\n",
    "    fig = go.Figure(data=traces, layout=layout)\n",
    "\n",
    "    # Show the plot\n",
    "    fig.show()\n"
   ]
  },
  {
   "cell_type": "markdown",
   "metadata": {},
   "source": [
    "WALLS AXIS"
   ]
  },
  {
   "cell_type": "code",
   "execution_count": 9,
   "metadata": {},
   "outputs": [
    {
     "name": "stdout",
     "output_type": "stream",
     "text": [
      "Las file <LasData(1.2, point fmt: <PointFormat(2, 2 bytes of extra dims)>, 25023070 points, 1 vlrs)>\n"
     ]
    }
   ],
   "source": [
    "laz_file = Path(path / 'pcd' / 'Theatre.las')\n",
    "laz = ut.load_point_cloud(laz_file)\n",
    "print(f'Las file {laz}')\n"
   ]
  },
  {
   "cell_type": "code",
   "execution_count": 10,
   "metadata": {},
   "outputs": [
    {
     "name": "stdout",
     "output_type": "stream",
     "text": [
      "6 walls_nodes detected!\n"
     ]
    }
   ],
   "source": [
    "wall_nodes, walls_object_ids = ut.load_walls_graph(graph_path)"
   ]
  },
  {
   "cell_type": "code",
   "execution_count": 11,
   "metadata": {},
   "outputs": [
    {
     "name": "stdout",
     "output_type": "stream",
     "text": [
      "Parsed Walls Data:\n",
      "{'uri': 'file:///Theatre_Walls_0', 'object_id': rdflib.term.Literal('0', datatype=rdflib.term.URIRef('http://www.w3.org/2001/XMLSchema#integer')), 'oriented_bounds': rdflib.term.Literal('[[111.25671808  16.45092469   5.0433532 ]\\n [145.12126584  15.99443705   5.16276755]\\n [111.2228883   16.30130185  14.06512657]\\n [111.21665322  13.46572111   4.99369445]\\n [145.04737119  12.85961062  14.13488216]\\n [111.18282344  13.31609826  14.01546781]\\n [145.08120097  13.00923347   5.11310879]\\n [145.08743606  15.84481421  14.18454092]]')}\n",
      "{'uri': 'file:///Theatre_Walls_1', 'object_id': rdflib.term.Literal('1', datatype=rdflib.term.URIRef('http://www.w3.org/2001/XMLSchema#integer')), 'oriented_bounds': rdflib.term.Literal('[[118.19371065  27.60882854  15.48904597]\\n [117.26713131  15.10822779  13.59766649]\\n [118.27005487  28.87272553   7.09823349]\\n [121.03425707  27.39914767  15.48330687]\\n [120.18402195  16.16244391   5.2011149 ]\\n [121.11060129  28.66304466   7.09249439]\\n [120.10767773  14.89854692  13.59192739]\\n [117.34347553  16.37212477   5.206854  ]]')}\n",
      "{'uri': 'file:///Theatre_Walls_2', 'object_id': rdflib.term.Literal('2', datatype=rdflib.term.URIRef('http://www.w3.org/2001/XMLSchema#integer')), 'oriented_bounds': rdflib.term.Literal('[[138.99574718  28.21046133   7.03400633]\\n [138.90939497  15.97223023   6.29295255]\\n [138.69379941  27.58620841  17.37849904]\\n [137.55312973  28.2231438    6.99266278]\\n [137.16482975  15.36065977  16.59610171]\\n [137.25118196  27.59889088  17.33715549]\\n [137.46677752  15.9849127    6.251609  ]\\n [138.60744721  15.3479773   16.63744526]]')}\n",
      "{'uri': 'file:///Theatre_Walls_3', 'object_id': rdflib.term.Literal('3', datatype=rdflib.term.URIRef('http://www.w3.org/2001/XMLSchema#integer')), 'oriented_bounds': rdflib.term.Literal('[[111.3650334   28.13158767  14.26047721]\\n [145.51997062  28.12198497  13.83085307]\\n [111.25083319  27.76486595   5.18980531]\\n [111.36453289  30.33296367  14.17148322]\\n [145.4052699   29.95663924   4.67118719]\\n [111.25033268  29.96624194   5.10081133]\\n [145.51947011  30.32336097  13.74185909]\\n [145.40577041  27.75526325   4.76018118]]')}\n",
      "{'uri': 'file:///Theatre_Walls_4', 'object_id': rdflib.term.Literal('4', datatype=rdflib.term.URIRef('http://www.w3.org/2001/XMLSchema#integer')), 'oriented_bounds': rdflib.term.Literal('[[139.69481623  28.0827784   10.38710804]\\n [141.8476679   28.07533642   7.86491702]\\n [138.12248721  28.08144586   9.04502839]\\n [139.69483855  28.10585941  10.38705899]\\n [140.27536119  28.09708489   6.52278831]\\n [138.12250952  28.10452687   9.04497934]\\n [141.84769021  28.09841743   7.86486796]\\n [140.27533888  28.07400388   6.52283737]]')}\n",
      "{'uri': 'file:///Theatre_Walls_5', 'object_id': rdflib.term.Literal('5', datatype=rdflib.term.URIRef('http://www.w3.org/2001/XMLSchema#integer')), 'oriented_bounds': rdflib.term.Literal('[[131.01373179  10.25901234   1.24281632]\\n [145.24612327  27.11410479   0.3071507 ]\\n [117.61944286  22.14147952  11.55346463]\\n [135.93048286   6.69020581  11.74289427]\\n [136.7685854   35.42776544  21.11787696]\\n [122.53619392  18.57267299  22.05354258]\\n [150.16287434  23.54529826  10.80722865]\\n [131.85183433  38.99657197  10.61779901]]')}\n"
     ]
    }
   ],
   "source": [
    "walls = ut.parse_walls(graph)\n",
    "\n",
    "print(\"Parsed Walls Data:\")\n",
    "for wall in walls:\n",
    "    print(wall)\n"
   ]
  },
  {
   "cell_type": "code",
   "execution_count": 12,
   "metadata": {},
   "outputs": [
    {
     "name": "stdout",
     "output_type": "stream",
     "text": [
      "Processed Wall Information:\n",
      "{'wall_id': 1, 'start_point': (111.37, 29.21), 'end_point': (145.16, 29.04), 'length': 33.790427638607945, 'orientation': -0.2882568907193976}\n",
      "{'wall_id': 2, 'start_point': (119.69, 28.54), 'end_point': (119.52, 15.87), 'length': 12.671140438018986, 'orientation': -90.76872123649262}\n",
      "{'wall_id': 3, 'start_point': (111.86, 14.67), 'end_point': (144.93, 14.4), 'length': 33.07110218907136, 'orientation': -0.4677809720853918}\n",
      "{'wall_id': 4, 'start_point': (138.19, 28.24), 'end_point': (138.41, 15.87), 'length': 12.371956191322372, 'orientation': -88.9811040638947}\n"
     ]
    }
   ],
   "source": [
    "walls_data = [\n",
    "    ((111.37, 29.21), (145.16, 29.04)),  # Wall 1\n",
    "    ((119.69, 28.54), (119.52, 15.87)),  # Wall 2\n",
    "    ((111.86, 14.67), (144.93, 14.40)),  # Wall 3\n",
    "    ((138.19, 28.24), (138.41, 15.87)),  # Wall 4\n",
    "]\n",
    "\n",
    "processed_walls = ut.process_walls(walls_data)\n",
    "\n",
    "print(\"Processed Wall Information:\")\n",
    "for wall in processed_walls:\n",
    "    print(wall)\n"
   ]
  },
  {
   "cell_type": "markdown",
   "metadata": {},
   "source": [
    "CAMERA POSITION"
   ]
  },
  {
   "cell_type": "code",
   "execution_count": 13,
   "metadata": {},
   "outputs": [
    {
     "name": "stderr",
     "output_type": "stream",
     "text": [
      "Ignoring fixed y limits to fulfill fixed data aspect with adjustable data limits.\n",
      "Ignoring fixed x limits to fulfill fixed data aspect with adjustable data limits.\n"
     ]
    },
    {
     "name": "stdout",
     "output_type": "stream",
     "text": [
      "Saved elevation view for wall 1 to wall_elevations\\wall_1_elevation.png\n"
     ]
    },
    {
     "name": "stderr",
     "output_type": "stream",
     "text": [
      "Ignoring fixed y limits to fulfill fixed data aspect with adjustable data limits.\n"
     ]
    },
    {
     "name": "stdout",
     "output_type": "stream",
     "text": [
      "Saved elevation view for wall 2 to wall_elevations\\wall_2_elevation.png\n"
     ]
    },
    {
     "name": "stderr",
     "output_type": "stream",
     "text": [
      "Ignoring fixed x limits to fulfill fixed data aspect with adjustable data limits.\n"
     ]
    },
    {
     "name": "stdout",
     "output_type": "stream",
     "text": [
      "Saved elevation view for wall 3 to wall_elevations\\wall_3_elevation.png\n",
      "Saved elevation view for wall 4 to wall_elevations\\wall_4_elevation.png\n"
     ]
    }
   ],
   "source": [
    "walls = [\n",
    "    ((111.37, 29.21), (145.16, 29.04)),  # Wall 1\n",
    "    ((119.69, 28.54), (119.52, 15.87)),  # Wall 2\n",
    "    ((111.86, 14.67), (144.93, 14.40)),  # Wall 3\n",
    "    ((138.19, 28.24), (138.41, 15.87)),  # Wall 4\n",
    "]\n",
    "\n",
    "point_cloud = ut.load_point_cloud_(path / 'pcd' / 'Theatre_5mm.las')\n",
    "\n",
    "ut.get_wall_elevation(walls, point_cloud)\n"
   ]
  },
  {
   "cell_type": "code",
   "execution_count": 14,
   "metadata": {},
   "outputs": [
    {
     "name": "stderr",
     "output_type": "stream",
     "text": [
      "Ignoring fixed y limits to fulfill fixed data aspect with adjustable data limits.\n",
      "Ignoring fixed x limits to fulfill fixed data aspect with adjustable data limits.\n"
     ]
    },
    {
     "name": "stdout",
     "output_type": "stream",
     "text": [
      "Saved elevation view for wall 1 to wall_elevations\\wall_1_elevation_ids.png\n"
     ]
    },
    {
     "name": "stderr",
     "output_type": "stream",
     "text": [
      "Ignoring fixed y limits to fulfill fixed data aspect with adjustable data limits.\n"
     ]
    },
    {
     "name": "stdout",
     "output_type": "stream",
     "text": [
      "Saved elevation view for wall 2 to wall_elevations\\wall_2_elevation_ids.png\n"
     ]
    },
    {
     "name": "stderr",
     "output_type": "stream",
     "text": [
      "Ignoring fixed x limits to fulfill fixed data aspect with adjustable data limits.\n"
     ]
    },
    {
     "name": "stdout",
     "output_type": "stream",
     "text": [
      "Saved elevation view for wall 3 to wall_elevations\\wall_3_elevation_ids.png\n",
      "Saved elevation view for wall 4 to wall_elevations\\wall_4_elevation_ids.png\n"
     ]
    }
   ],
   "source": [
    "walls = [\n",
    "    ((111.37, 29.21), (145.16, 29.04)),  # Wall 1\n",
    "    ((119.69, 28.54), (119.52, 15.87)),  # Wall 2\n",
    "    ((111.86, 14.67), (144.93, 14.40)),  # Wall 3\n",
    "    ((138.19, 28.24), (138.41, 15.87)),  # Wall 4\n",
    "]\n",
    "\n",
    "point_cloud, objects = ut.load_point_cloud_for_geometry(path / 'pcd' / 'Theatre_5mm.las')\n",
    "\n",
    "ut.get_wall_elevation_(walls, point_cloud, objects)\n"
   ]
  },
  {
   "cell_type": "code",
   "execution_count": null,
   "metadata": {},
   "outputs": [
    {
     "name": "stdout",
     "output_type": "stream",
     "text": [
      "An error occurred while processing c:\\Users\\oscar\\OneDrive - Fondazione Bruno Kessler\\sensor_positioning\\script\\wall_elevations\\4edges\\polygons_wall_1_elevation.png: name 'DBSCAN' is not defined\n",
      "An error occurred while processing c:\\Users\\oscar\\OneDrive - Fondazione Bruno Kessler\\sensor_positioning\\script\\wall_elevations\\4edges\\segmented_2_polygons_wall_1_elevation.png: name 'DBSCAN' is not defined\n",
      "An error occurred while processing c:\\Users\\oscar\\OneDrive - Fondazione Bruno Kessler\\sensor_positioning\\script\\wall_elevations\\4edges\\wall_1_elevation.png: name 'DBSCAN' is not defined\n",
      "An error occurred while processing c:\\Users\\oscar\\OneDrive - Fondazione Bruno Kessler\\sensor_positioning\\script\\wall_elevations\\4edges\\wall_1_elevation_ids.png: name 'DBSCAN' is not defined\n",
      "An error occurred while processing c:\\Users\\oscar\\OneDrive - Fondazione Bruno Kessler\\sensor_positioning\\script\\wall_elevations\\4edges\\wall_3_elevation_ids.png: name 'DBSCAN' is not defined\n"
     ]
    }
   ],
   "source": [
    "current_directory = Path.cwd()\n",
    "wall_elevation_images = Path(current_directory / \"wall_elevations\" / \"4edges\")\n",
    "edge_images = Path(current_directory / \"edge_images\")\n",
    "edge_images.mkdir(parents=True, exist_ok=True) \n",
    "\n",
    "canny_dbscan = True\n",
    "\n",
    "if canny_dbscan:\n",
    "\n",
    "    def apply_canny_and_dbscan(image_path, output_path, eps=5, min_samples=10):\n",
    "        \"\"\"\n",
    "        Apply Canny edge detection followed by DBSCAN clustering to segment edges and save labeled pixels in JSON.\n",
    "\n",
    "        Args:\n",
    "            image_path (Path): Path to the input image.\n",
    "            output_path (Path): Path to save the clustered edges.\n",
    "            eps (float): Maximum distance between points to be considered a cluster (DBSCAN).\n",
    "            min_samples (int): Minimum number of points required to form a cluster (DBSCAN).\n",
    "        \"\"\"\n",
    "        try:\n",
    "            # Load the image\n",
    "            image = cv2.imread(str(image_path), cv2.IMREAD_UNCHANGED)\n",
    "            if image is None:\n",
    "                print(f\"Error: Could not read image {image_path}\")\n",
    "                return\n",
    "\n",
    "            # Convert to grayscale if the image is not already\n",
    "            if len(image.shape) == 3 and image.shape[2] == 4:  # RGBA\n",
    "                image = cv2.cvtColor(image, cv2.COLOR_BGRA2GRAY)\n",
    "            elif len(image.shape) == 3:  # RGB\n",
    "                image = cv2.cvtColor(image, cv2.COLOR_BGR2GRAY)\n",
    "\n",
    "            # Apply Gaussian blur to reduce noise\n",
    "            blurred_image = cv2.GaussianBlur(image, (5, 5), 1)\n",
    "\n",
    "            # Apply Canny edge detection\n",
    "            edges = cv2.Canny(blurred_image, threshold1=50, threshold2=150)\n",
    "\n",
    "            # Extract edge points (non-zero coordinates)\n",
    "            edge_points = np.column_stack(np.where(edges > 0))  # (row, col) as (y, x)\n",
    "\n",
    "            # Create blank label arrays for pixels\n",
    "            total_pixels = np.column_stack(np.where(np.ones_like(image)))  # All pixels in the image\n",
    "            pixel_labels = np.full(image.shape, \"pixels_off\", dtype=object)\n",
    "\n",
    "            if len(edge_points) == 0:\n",
    "                print(f\"No edges detected in {image_path}\")\n",
    "                return\n",
    "\n",
    "            # Apply DBSCAN clustering to edge points\n",
    "            dbscan = DBSCAN(eps=eps, min_samples=min_samples, metric=\"euclidean\")\n",
    "            labels = dbscan.fit_predict(edge_points)\n",
    "\n",
    "            # Get unique cluster labels (exclude noise, labeled as -1)\n",
    "            unique_labels = np.unique(labels)\n",
    "            unique_labels = unique_labels[unique_labels >= 0]\n",
    "\n",
    "            # Assign \"pixels_on\" to pixels belonging to clusters\n",
    "            pixels_on_list = []\n",
    "            for cluster_label in unique_labels:\n",
    "                cluster_mask = (labels == cluster_label)\n",
    "                cluster_points = edge_points[cluster_mask]\n",
    "                pixels_on_list.extend(cluster_points.tolist())\n",
    "                for point in cluster_points:\n",
    "                    pixel_labels[point[0], point[1]] = \"pixels_on\"\n",
    "\n",
    "            # Calculate pixels_off as the difference between total pixels and pixels_on\n",
    "            pixels_on_set = set(tuple(p) for p in pixels_on_list)\n",
    "            pixels_off_list = [list(map(int, p)) for p in total_pixels if tuple(p) not in pixels_on_set]\n",
    "\n",
    "            # Convert `pixels_on` to Python-native types\n",
    "            pixels_on_list = [list(map(int, p)) for p in pixels_on_list]\n",
    "\n",
    "            # Save the pixel labels as a JSON file\n",
    "            json_data = {\n",
    "                \"pixels_on\": pixels_on_list,\n",
    "                \"pixels_off\": pixels_off_list,\n",
    "            }\n",
    "            json_path = output_path / f\"{image_path.stem}_labeled_pixels.json\"\n",
    "            with open(json_path, \"w\") as json_file:\n",
    "                json.dump(json_data, json_file, indent=4)\n",
    "\n",
    "            # Visualize the results\n",
    "            plt.figure(figsize=(12, 6))\n",
    "            plt.subplot(1, 2, 1)\n",
    "            plt.title(\"Original Image\")\n",
    "            plt.imshow(image, cmap=\"gray\")\n",
    "            plt.axis(\"off\")\n",
    "\n",
    "            plt.subplot(1, 2, 2)\n",
    "            plt.title(\"Canny Edges with Clustering\")\n",
    "            clustered_visualization = np.where(pixel_labels == \"pixels_on\", 255, 0).astype(np.uint8)\n",
    "            plt.imshow(clustered_visualization, cmap=\"gray\")\n",
    "            plt.axis(\"off\")\n",
    "\n",
    "            plt.tight_layout()\n",
    "            plt.show()\n",
    "\n",
    "        except Exception as e:\n",
    "            print(f\"An error occurred while processing {image_path}: {e}\")\n",
    "\n",
    "    for image_file in wall_elevation_images.iterdir():\n",
    "        if image_file.suffix.lower() in [\".png\", \".jpg\", \".jpeg\"]:  # Filter for image files\n",
    "            apply_canny_and_dbscan(image_file, edge_images, eps = 150, min_samples = 10)\n",
    "\n"
   ]
  },
  {
   "cell_type": "code",
   "execution_count": 13,
   "metadata": {},
   "outputs": [
    {
     "name": "stderr",
     "output_type": "stream",
     "text": [
      "C:\\Users\\oscar\\AppData\\Local\\Temp\\ipykernel_27640\\672616901.py:11: MatplotlibDeprecationWarning:\n",
      "\n",
      "The get_cmap function was deprecated in Matplotlib 3.7 and will be removed in 3.11. Use ``matplotlib.colormaps[name]`` or ``matplotlib.colormaps.get_cmap()`` or ``pyplot.get_cmap()`` instead.\n",
      "\n"
     ]
    },
    {
     "name": "stdout",
     "output_type": "stream",
     "text": [
      "Processed c:\\Users\\oscar\\OneDrive - Fondazione Bruno Kessler\\sensor_positioning\\script\\wall_elevations\\4edges\\viridis\\wall_1_elevation.png, masks saved in c:\\Users\\oscar\\OneDrive - Fondazione Bruno Kessler\\sensor_positioning\\script\\wall_elevations\\4edges\\results\n",
      "Processed c:\\Users\\oscar\\OneDrive - Fondazione Bruno Kessler\\sensor_positioning\\script\\wall_elevations\\4edges\\viridis\\wall_2_elevation.png, masks saved in c:\\Users\\oscar\\OneDrive - Fondazione Bruno Kessler\\sensor_positioning\\script\\wall_elevations\\4edges\\results\n",
      "Processed c:\\Users\\oscar\\OneDrive - Fondazione Bruno Kessler\\sensor_positioning\\script\\wall_elevations\\4edges\\viridis\\wall_3_elevation.png, masks saved in c:\\Users\\oscar\\OneDrive - Fondazione Bruno Kessler\\sensor_positioning\\script\\wall_elevations\\4edges\\results\n",
      "Processed c:\\Users\\oscar\\OneDrive - Fondazione Bruno Kessler\\sensor_positioning\\script\\wall_elevations\\4edges\\viridis\\wall_4_elevation.png, masks saved in c:\\Users\\oscar\\OneDrive - Fondazione Bruno Kessler\\sensor_positioning\\script\\wall_elevations\\4edges\\results\n"
     ]
    }
   ],
   "source": [
    "image_folder = current_directory / 'wall_elevations' / '4edges'\n",
    "folder_path =  image_folder / 'viridis'  \n",
    "output_folder = image_folder / 'results'\n",
    "os.makedirs(output_folder, exist_ok=True)  # Create the output folder if it doesn't exist\n",
    "\n",
    "# Define Viridis colormap\n",
    "viridis = cm.get_cmap('viridis', 256)  # Compatible with older Matplotlib versions\n",
    "viridis_colors = (viridis(np.linspace(0, 1, 256))[:, :3] * 255).astype(np.uint8)  # Convert to RGB\n",
    "\n",
    "num_bins = 100  \n",
    "bins = np.linspace(0, 256, num_bins + 1, dtype=int)\n",
    "\n",
    "def process_viridis_image(image_path, output_folder, viridis_colors, bins):\n",
    "    # Load the image\n",
    "    image = cv2.imread(image_path)\n",
    "    image = cv2.cvtColor(image, cv2.COLOR_BGR2RGB)  # Convert to RGB\n",
    "\n",
    "    # Reshape the image into a 2D array of pixels [R, G, B]\n",
    "    pixels = image.reshape(-1, 3)\n",
    "\n",
    "    # Create masks for each bin\n",
    "    masks = []\n",
    "    for i in range(len(bins) - 1):\n",
    "        lower_bound = viridis_colors[bins[i]]\n",
    "        upper_bound = viridis_colors[bins[i + 1] - 1]\n",
    "\n",
    "        # Threshold pixels to create a mask\n",
    "        mask = ((pixels >= lower_bound) & (pixels <= upper_bound)).all(axis=1).reshape(image.shape[:2])\n",
    "        mask = (mask * 255).astype(np.uint8)  # Convert boolean mask to uint8\n",
    "        masks.append(mask)\n",
    "\n",
    "    # Save masks\n",
    "    base_filename = os.path.splitext(os.path.basename(image_path))[0]\n",
    "    for i, mask in enumerate(masks):\n",
    "        mask_path = os.path.join(output_folder, f\"{base_filename}_mask_bin_{i}.png\")\n",
    "        cv2.imwrite(mask_path, mask)\n",
    "\n",
    "    print(f\"Processed {image_path}, masks saved in {output_folder}\")\n",
    "\n",
    "for filename in os.listdir(folder_path):\n",
    "    file_path = os.path.join(folder_path, filename)\n",
    "    if os.path.isfile(file_path) and filename.lower().endswith(('.png', '.jpg', '.jpeg')):\n",
    "        process_viridis_image(file_path, output_folder, viridis_colors, bins)\n",
    "        \n"
   ]
  },
  {
   "cell_type": "code",
   "execution_count": null,
   "metadata": {},
   "outputs": [],
   "source": []
  },
  {
   "cell_type": "code",
   "execution_count": null,
   "metadata": {},
   "outputs": [],
   "source": []
  },
  {
   "cell_type": "markdown",
   "metadata": {},
   "source": [
    "ORIENTATION OF BUILDING"
   ]
  },
  {
   "cell_type": "code",
   "execution_count": 14,
   "metadata": {},
   "outputs": [],
   "source": [
    "downsampling_factor = 1000"
   ]
  },
  {
   "cell_type": "code",
   "execution_count": 15,
   "metadata": {},
   "outputs": [],
   "source": [
    "theatre_file = r\"C:\\Users\\oscar\\OneDrive - Fondazione Bruno Kessler\\sensor_positioning\\data\\pcd\\Theatre.las\"\n",
    "points, points_rotated, bbox_rotated, rotation_matrix = ut.compute_oriented_bounding_box(theatre_file)\n",
    "decimated_points = points[::downsampling_factor]\n",
    "decimated_rotated_points = points_rotated[::downsampling_factor]\n",
    "rotation_matrix_inverse = np.linalg.inv(rotation_matrix)\n",
    "center = np.mean(points, axis = 0)\n",
    "\n",
    "points_aligned_with_axes = ut.rotate_points_3d(decimated_rotated_points, center, rotation_matrix_inverse)\n",
    "\n",
    "# print(f'Bounding Box {bbox_rotated}\\nRotation Matrix: {rotation_matrix}')\n",
    "# print(f'Bounding Box rotated {bbox_rotated} lenght {len(bbox_rotated)} Type{type(bbox_rotated)}')\n"
   ]
  },
  {
   "cell_type": "markdown",
   "metadata": {},
   "source": [
    "WHEATER DATA"
   ]
  },
  {
   "cell_type": "code",
   "execution_count": 16,
   "metadata": {},
   "outputs": [
    {
     "name": "stdout",
     "output_type": "stream",
     "text": [
      "Weather data file uploaded!\n"
     ]
    }
   ],
   "source": [
    "weather_data = path / 'weather_data' / f'{name}.epw'\n",
    "\n",
    "if weather_data.exists():\n",
    "    print(\"Weather data file uploaded!\")\n",
    "else:\n",
    "    print(\"File not found\")\n",
    "    "
   ]
  },
  {
   "cell_type": "code",
   "execution_count": 17,
   "metadata": {},
   "outputs": [
    {
     "name": "stdout",
     "output_type": "stream",
     "text": [
      "Bounding Box [[-19.18031045 -10.13297167  -6.0088717 ]\n",
      " [ 16.34764637 -10.13297167  -6.0088717 ]\n",
      " [ 16.34764637   8.86224224  -6.0088717 ]\n",
      " [-19.18031045   8.86224224  -6.0088717 ]\n",
      " [-19.18031045 -10.13297167   6.88268739]\n",
      " [ 16.34764637 -10.13297167   6.88268739]\n",
      " [ 16.34764637   8.86224224   6.88268739]\n",
      " [-19.18031045   8.86224224   6.88268739]]\n",
      "Rotation Matrix: [[ 0.99677407  0.07374753 -0.03166633]\n",
      " [-0.07468796  0.996767   -0.02961863]\n",
      " [ 0.02937966  0.03188817  0.99905955]]\n",
      "Bounding Box rotated [[-19.18031045 -10.13297167  -6.0088717 ]\n",
      " [ 16.34764637 -10.13297167  -6.0088717 ]\n",
      " [ 16.34764637   8.86224224  -6.0088717 ]\n",
      " [-19.18031045   8.86224224  -6.0088717 ]\n",
      " [-19.18031045 -10.13297167   6.88268739]\n",
      " [ 16.34764637 -10.13297167   6.88268739]\n",
      " [ 16.34764637   8.86224224   6.88268739]\n",
      " [-19.18031045   8.86224224   6.88268739]] lenght 8 Type<class 'numpy.ndarray'>\n",
      "Exposition angle of buildings N/S: -4.285\n",
      "Building's Rotated Bounding Box (after applying β angle rotation): [[-16.33785947 -21.16820277  -6.0088717 ]\n",
      " [ 19.09078027 -18.51354626  -6.0088717 ]\n",
      " [ 17.67145384   0.42856724  -6.0088717 ]\n",
      " [-17.75718591  -2.22608927  -6.0088717 ]\n",
      " [-16.33785947 -21.16820277   6.88268739]] Len 8\n",
      "Rotation Matrix used for β angle rotation: [[ 0.99720454  0.07472021  0.        ]\n",
      " [-0.07472021  0.99720454  0.        ]\n",
      " [ 0.          0.          1.        ]]\n"
     ]
    }
   ],
   "source": [
    "points, points_rotated, bbox_rotated, rotation_matrix = ut.compute_oriented_bounding_box(theatre_file)\n",
    "decimated_points = points[::downsampling_factor]\n",
    "decimated_rotated_points = points_rotated[::downsampling_factor]\n",
    "rotation_matrix_inverse = np.linalg.inv(rotation_matrix)\n",
    "center = np.mean(points, axis = 0)\n",
    "\n",
    "points_aligned_with_axes = ut.rotate_points_3d(decimated_rotated_points, center, rotation_matrix_inverse)\n",
    "\n",
    "print(f'Bounding Box {bbox_rotated}\\nRotation Matrix: {rotation_matrix}')\n",
    "print(f'Bounding Box rotated {bbox_rotated} lenght {len(bbox_rotated)} Type{type(bbox_rotated)}')\n",
    "\n",
    "beta_angle = ut.extract_beta_angle_from_rotation_matrix(rotation_matrix) \n",
    "\n",
    "rotation_matrix_building = ut.rotation_matrix_z(beta_angle)\n",
    "center_of_bbox = np.mean(decimated_points, axis=0)  # Assuming you rotate around the center of the building\n",
    "rotated_bbox = ut.rotate_points_3d(bbox_rotated, center_of_bbox, rotation_matrix_building) \n",
    "\n",
    "print (f\"Exposition angle of buildings N/S: {round(beta_angle, 3)}\")\n",
    "print(f\"Building's Rotated Bounding Box (after applying β angle rotation): {rotated_bbox[:5]} Len {len(rotated_bbox)}\") \n",
    "print(f'Rotation Matrix used for β angle rotation: {rotation_matrix_building}')\n"
   ]
  },
  {
   "cell_type": "markdown",
   "metadata": {},
   "source": [
    "BOUNDARY CONDITIONS"
   ]
  },
  {
   "cell_type": "code",
   "execution_count": 18,
   "metadata": {},
   "outputs": [
    {
     "name": "stdout",
     "output_type": "stream",
     "text": [
      "Location: {'LocationName': 'Trento', 'Latitude': 46.1029536, 'Longitude': 11.12974249416882}\n",
      "Summer Max Temperature: 30.8\n",
      "Summer Min Temperature: 9.8\n",
      "Winter Max Temperature: 13.0\n",
      "Winter Min Temperature: -7.8\n"
     ]
    }
   ],
   "source": [
    "location = ut.extract_location_from_epw(weather_data)\n",
    "summer_winter_temps = ut.extract_seasonal_temperatures(weather_data)\n",
    "\n",
    "summer_max_temp = float(summer_winter_temps['summer_max_temp'])\n",
    "summer_min_temp = float(summer_winter_temps['summer_min_temp'])\n",
    "winter_max_temp = float(summer_winter_temps['winter_max_temp'])\n",
    "winter_min_temp = float(summer_winter_temps['winter_min_temp'])\n",
    "\n",
    "print(f\"Location: {location}\")\n",
    "print(f\"Summer Max Temperature: {summer_winter_temps['summer_max_temp']}\\nSummer Min Temperature: {summer_winter_temps['summer_min_temp']}\")\n",
    "print(f\"Winter Max Temperature: {summer_winter_temps['winter_max_temp']}\\nWinter Min Temperature: {summer_winter_temps['winter_min_temp']}\")\n"
   ]
  },
  {
   "cell_type": "markdown",
   "metadata": {},
   "source": [
    "Average hourly temperature for months\n"
   ]
  },
  {
   "cell_type": "code",
   "execution_count": 19,
   "metadata": {},
   "outputs": [
    {
     "name": "stdout",
     "output_type": "stream",
     "text": [
      "\n",
      "Month: 1\n",
      "Hour   1    2    3    4    5    6    7    8    9    10  ...   15   16   17  \\\n",
      "Day                                                     ...                  \n",
      "1     2.5  2.6  1.5  1.0  1.2  1.0  0.9  0.8  0.7 -2.7  ...  4.7  5.7  4.7   \n",
      "2     2.6  1.8  1.4  1.6  2.3  2.2  1.8  0.4  0.5  0.6  ...  0.6  0.4  7.6   \n",
      "3     5.1  4.6  4.3  4.0  4.0  3.5  3.3  2.8  2.0  3.8  ...  8.0  7.7  6.9   \n",
      "4     3.2  3.3  2.5 -0.7 -1.8 -2.8 -3.1 -3.4 -4.2 -4.2  ...  0.9  1.4  2.0   \n",
      "5     1.5 -2.8 -2.9 -4.0 -4.3 -4.8 -4.5 -4.8 -5.0 -4.3  ...  4.1  4.6  4.4   \n",
      "6     8.4  0.2  6.8  5.2  2.3  1.4  0.9 -0.4 -0.5 -1.0  ...  5.7  6.3  5.4   \n",
      "7     0.8  0.3  1.7  0.3 -0.6 -1.5 -1.2 -1.7 -1.2 -1.9  ...  5.5  5.1  4.9   \n",
      "8     0.6  0.2 -1.4 -1.9 -2.6 -2.1 -2.1 -1.6 -1.2 -1.4  ...  3.2  3.0  2.9   \n",
      "9     2.2  2.3  1.8  1.7  0.7 -3.9 -3.7  0.4 -2.1 -2.1  ...  0.4  0.5  7.9   \n",
      "10    4.8  4.3  4.9  3.7  2.0  1.3  0.6  1.4  3.6  4.0  ...  0.1  0.2  0.3   \n",
      "11    4.0  3.8  3.8  3.5  3.3  2.6  2.5  2.5  2.5  2.1  ...  7.5  0.1  6.6   \n",
      "12    0.9  0.2 -0.1 -1.7 -1.8 -2.5 -2.1 -2.2 -1.9 -2.0  ...  3.9  4.4  4.1   \n",
      "13   -1.8 -1.2 -1.4 -1.8 -2.6 -3.2 -3.7 -3.3 -1.7 -1.2  ...  6.1  5.7  6.0   \n",
      "14    1.3  0.7 -0.6  0.8  1.1  0.8  1.2  2.3  3.2  0.6  ...  6.1  5.9  5.7   \n",
      "15    5.6  0.4  1.2  0.2  3.1  3.8  4.2  5.2  5.2  5.1  ...  4.7  4.7  4.5   \n",
      "16   -0.1 -0.4  0.1 -0.1 -1.1 -1.8 -1.8 -1.7 -1.9 -1.8  ...  7.6  6.4  5.2   \n",
      "17    3.8  3.7  4.0  0.4  0.8  1.1  0.8  1.1  1.2  1.5  ...  4.9  4.7  3.5   \n",
      "18    1.9  1.8  1.6  1.2  0.1  2.7  2.4  3.8  4.1  4.5  ...  2.3  2.2  1.1   \n",
      "19    4.6  4.3  4.0  3.7  3.7  3.3  3.0  2.4  2.1  2.5  ...  1.5  1.0  0.4   \n",
      "20   -1.3 -1.7 -1.3 -0.3 -1.8 -3.0 -3.5 -3.5 -3.8 -3.8  ...  1.8  1.9  1.1   \n",
      "21   -3.3 -3.5 -3.7 -4.3 -4.3 -4.4 -4.3 -4.2 -3.5 -2.3  ...  1.5  1.6  1.0   \n",
      "22   -3.3 -3.3 -3.4 -4.4 -4.9 -4.7 -4.8 -4.7 -4.7 -4.2  ...  1.4  1.6  1.0   \n",
      "23   -2.3 -2.4 -2.3 -2.5 -3.2 -2.7 -2.6 -2.0 -1.0 -0.6  ...  2.4  2.5  2.3   \n",
      "24   -2.6 -2.9 -1.5  0.0 -0.2 -0.5 -0.3  0.0  0.0  0.0  ...  2.0  2.3  1.7   \n",
      "25    2.8  2.9  2.0  2.1  1.8  1.2  1.1  1.1  1.1  1.8  ...  0.2  0.6  0.1   \n",
      "26    3.8  4.3  4.4  3.7  3.1  0.7 -1.0 -1.8 -2.5 -2.4  ...  5.8  6.2  6.7   \n",
      "27   -1.5 -2.1 -2.3 -2.4 -2.5 -2.7 -3.3 -3.6 -3.8 -2.6  ...  0.7  0.9  0.2   \n",
      "28    0.2  0.2  0.0  0.6  0.4  0.7 -0.4 -0.4  0.8  2.3  ...  6.4  6.7  5.2   \n",
      "29   -3.7 -5.0 -5.4 -5.9 -6.4 -6.3 -6.1 -5.5 -4.7 -4.3  ...  1.8  2.2  1.4   \n",
      "30   -1.9 -2.8 -3.1 -3.6 -3.6 -3.8 -2.7 -2.2 -1.1  0.0  ...  0.7  0.9  0.5   \n",
      "31    0.8  0.7  0.6  0.5  0.4  0.3  0.1  0.0  0.1  0.5  ...  0.8  0.6  0.2   \n",
      "\n",
      "Hour   18   19   20   21    22   23   24  \n",
      "Day                                       \n",
      "1     5.1  4.5  4.2  3.8   3.4  2.8  2.9  \n",
      "2     6.5  4.6  3.8  3.1   5.1  5.2  5.2  \n",
      "3     5.4  4.3  4.6  4.1   4.2  4.3  3.8  \n",
      "4     1.8  1.3  0.8  0.2   0.1 -1.3 -1.3  \n",
      "5     3.4  2.6  1.0  0.4  10.2  9.7  9.6  \n",
      "6     5.7  4.1  3.1  2.1   1.9  1.1  1.8  \n",
      "7     4.1  3.0  2.4  2.2   1.8  0.7  1.5  \n",
      "8     3.5  2.4  2.3  2.5   2.2  2.1  2.6  \n",
      "9     7.2  6.5  7.0  6.7   6.4  6.2  5.5  \n",
      "10    0.4  7.2  6.6  6.3   5.9  5.4  4.7  \n",
      "11    4.6  3.4  3.6  3.5   2.9  2.2  1.5  \n",
      "12    4.3  3.0  2.4  1.8   1.3  0.6 -1.2  \n",
      "13    6.5  5.4  4.6  3.8   3.0  2.2  2.0  \n",
      "14    6.7  5.8  5.1  4.2   2.0  0.8  6.7  \n",
      "15    3.5  2.3  2.0  1.4   0.1  0.5  0.2  \n",
      "16    5.9  3.7  3.8  3.1   1.8  0.6  0.3  \n",
      "17    2.4  1.3  1.3  1.5   1.4  1.8  1.5  \n",
      "18    0.6  5.7  4.6  3.6   3.5  4.3  4.9  \n",
      "19    4.5  3.1  1.9  0.5  -0.2 -0.8 -1.0  \n",
      "20    1.4  0.8  0.4  0.2  -1.7 -2.3 -2.8  \n",
      "21    1.2  0.5 -1.0 -1.6  -2.2 -2.7 -3.3  \n",
      "22    1.5  1.2  0.1 -0.3  -0.5 -0.9 -1.6  \n",
      "23    0.8 -0.7 -1.2 -1.2  -1.8 -2.3 -2.7  \n",
      "24    2.0  1.1  1.1  0.1  -0.8  1.0  2.8  \n",
      "25    8.2  7.4  7.1  6.6   5.8  4.8  3.7  \n",
      "26    5.6  3.8  3.4  2.4   1.7 -0.4 -1.0  \n",
      "27    0.0  0.7  0.7  0.5   0.2  0.7  0.7  \n",
      "28    1.5  0.9  0.7 -0.4  -1.4 -2.2 -3.1  \n",
      "29    5.3  5.5  4.7  3.3   1.5 -0.3 -1.2  \n",
      "30    3.7  2.4  0.9 -0.2  -0.3  0.0  0.3  \n",
      "31    0.1  2.7  2.6  2.7   2.2  1.7  1.2  \n",
      "\n",
      "[31 rows x 24 columns]\n",
      "\n",
      "Month: 2\n",
      "Hour   1    2    3    4    5    6    7    8    9    10  ...    15    16    17  \\\n",
      "Day                                                     ...                     \n",
      "1     1.0  1.5  1.9  2.6  2.6  2.7  2.8  2.6  2.9  0.3  ...   2.4   2.3   2.0   \n",
      "2     1.4  1.5  1.6  1.5  1.3  1.1  1.0  1.0  0.8  2.2  ...   3.1   3.2   3.2   \n",
      "3     1.5  1.6  1.5  1.9  1.5  1.6  1.5  0.5  0.8  1.1  ...   2.4   2.1   2.3   \n",
      "4     4.1  4.0  4.0  4.0  3.9  3.5  3.3  1.8  0.5  1.0  ...   5.1   4.8   4.5   \n",
      "5     3.1  3.5  3.4  3.5  3.4  3.5  3.6  3.7  3.4  3.2  ...   5.0   5.2   5.6   \n",
      "6     3.7  2.6  3.1  3.5  2.7  2.6  2.3  2.0  1.7  1.5  ...   4.9   4.7   5.1   \n",
      "7     3.6  3.8  3.5  3.0  2.9  3.2  2.7  2.5  2.4  2.3  ...   1.9   1.7   1.9   \n",
      "8     2.5  2.6  1.9  1.4  0.6  4.9  4.9  4.9  4.6  4.9  ...   2.8   3.0   2.1   \n",
      "9     0.7  0.5  0.5  0.9  1.0  1.1  1.3  1.6  1.5  1.8  ...   3.9   2.9   2.8   \n",
      "10    1.5  1.8  2.0  1.9  1.7  1.6  1.4  1.4  1.3  1.1  ...   1.8   1.8   1.6   \n",
      "11    2.4  2.3  1.9  1.4  1.4  1.4  1.2  0.9 -0.1  0.0  ...   3.9   4.2   3.4   \n",
      "12   -1.4 -2.1 -2.7 -3.0 -3.4 -3.3 -3.7 -4.2 -3.7 -4.0  ...  -3.5  -3.5  -3.6   \n",
      "13   -6.0 -6.1 -6.1 -6.3 -6.7 -6.6 -7.4 -7.8 -7.7 -7.3  ...   5.2   5.8   6.3   \n",
      "14   -2.8 -2.2 -1.5 -1.1 -1.3 -1.6 -1.9 -2.4 -2.7 -2.0  ...   4.3   4.9   5.2   \n",
      "15   -2.9 -3.4 -3.6 -3.7 -4.1 -3.9 -3.4 -3.3 -2.6 -1.2  ...   5.0   5.5   0.4   \n",
      "16   -2.3 -2.7 -3.1 -3.1 -3.3 -3.3 -3.3 -3.4 -3.1 -1.1  ...   4.9   3.8   3.0   \n",
      "17    0.6  0.3  0.0 -0.2 -0.4 -0.6 -0.3 -0.7  0.0  1.6  ...   8.1   8.2   7.8   \n",
      "18    2.9  2.9  2.8  2.6  1.9  1.2  0.8  0.3 -0.2  0.5  ...   4.8   4.6   4.2   \n",
      "19    2.6  3.0  2.4  2.7  2.6  2.6  2.3  2.0  1.6  2.2  ...   5.7   5.1   4.7   \n",
      "20    3.3  2.8  2.5  1.8  1.4  0.8  0.6 -0.1 -0.5  1.4  ...   5.1   5.0   6.0   \n",
      "21    3.0  2.7  2.3  2.2  1.7  1.8  1.8  1.7  1.1  1.7  ...   6.3   6.3   6.6   \n",
      "22    3.8  3.1  2.5  1.5  1.2  0.8  4.3  3.6  3.8  0.9  ...   6.9   7.1   8.4   \n",
      "23    2.9  2.2  1.7  1.3  0.3  3.2  2.9  3.1  3.4  1.9  ...  10.1  10.2  10.0   \n",
      "24    2.5  2.3  2.0  1.6  2.0  1.7  1.8  2.0  1.5  3.0  ...  11.4  12.0  11.6   \n",
      "25    5.7  4.9  4.7  3.1  3.0  2.4  2.2  1.7  1.1  3.0  ...  12.4  12.4  12.2   \n",
      "26    4.0  3.3  3.3  2.5  2.0  1.8  1.5  1.1  0.2  3.2  ...  12.1  12.1  12.5   \n",
      "27    3.0  2.1  1.9  1.6  1.3  1.2  1.3  1.5  1.6  3.3  ...   8.6   9.6   9.6   \n",
      "28    3.3  3.0  2.6  2.6  2.2  1.7  1.0  2.6  2.6  1.1  ...   6.7   7.0   7.4   \n",
      "\n",
      "Hour    18    19    20   21   22   23   24  \n",
      "Day                                         \n",
      "1      2.9   2.2   2.4  2.7  2.4  2.9  1.5  \n",
      "2      4.1   2.5   1.9  1.7  1.4  1.3  1.5  \n",
      "3      2.7   2.7   2.7  2.9  4.0  3.9  4.1  \n",
      "4      5.1   4.1   3.6  3.3  2.7  2.0  2.9  \n",
      "5      6.1   5.4   5.9  4.6  4.0  4.2  3.0  \n",
      "6      5.8   5.0   4.8  4.2  4.1  3.7  3.8  \n",
      "7      2.1   2.3   2.3  2.4  2.7  2.0  2.2  \n",
      "8      0.8   0.8   1.4  1.9  1.7  1.0  1.2  \n",
      "9      3.5   3.3   3.0  3.2  3.0  2.4  1.5  \n",
      "10     1.8   2.4   2.3  2.2  2.2  2.0  2.2  \n",
      "11     1.6   0.6  -0.1 -0.4 -0.6 -1.0 -1.1  \n",
      "12    -4.4  -5.1  -5.5 -5.6 -5.6 -5.8 -6.0  \n",
      "13     3.4   2.1   1.4  1.0  0.4 -1.4 -2.2  \n",
      "14     3.3   1.8  -0.3 -1.7 -2.1 -2.5 -2.9  \n",
      "15     1.7   0.6   0.5 -0.3 -0.9 -1.6 -2.0  \n",
      "16     4.9   4.6   3.8  3.1  3.1  2.0  1.0  \n",
      "17     7.1   4.9   3.7  4.7  3.5  2.6  3.1  \n",
      "18     4.4   4.8   4.6  4.2  4.0  3.6  2.2  \n",
      "19     5.3   5.9   5.8  5.6  5.2  4.8  3.5  \n",
      "20     6.7   6.6   5.7  4.9  4.1  3.6  3.0  \n",
      "21     7.4   7.2   6.3  5.9  6.2  4.6  4.3  \n",
      "22     9.2   7.9   6.8  5.8  6.3  5.7  3.5  \n",
      "23     9.7   8.7   7.5  6.7  5.1  3.9  2.9  \n",
      "24    11.8  10.0  10.6  9.2  8.2  5.1  4.8  \n",
      "25    12.6   9.9   8.2  9.1  6.2  7.4  5.1  \n",
      "26    12.5  10.1   8.2  7.2  6.0  5.4  4.1  \n",
      "27     9.7   8.5   7.6  6.7  4.4  3.8  4.1  \n",
      "28     7.0   4.4   3.5  2.9  1.8  0.7 -0.1  \n",
      "\n",
      "[28 rows x 24 columns]\n",
      "\n",
      "Month: 3\n",
      "Hour   1    2    3    4    5    6    7    8    9    10  ...    15    16    17  \\\n",
      "Day                                                     ...                     \n",
      "1    -0.9 -0.9 -0.9 -0.7 -0.5 -0.6 -0.3 -0.4 -0.9 -0.3  ...   4.9   5.7   5.6   \n",
      "2     0.8  0.3  0.0 -0.7 -1.2 -1.5 -1.9 -2.2 -2.3  1.1  ...   7.9   7.9   7.4   \n",
      "3     2.9  2.7  2.6  2.1  1.3  1.1  0.4  0.2  0.1  2.6  ...   8.9   9.1   8.9   \n",
      "4     2.2  1.7  1.0  0.1 -0.6 -1.4 -1.9 -1.9 -1.1  1.0  ...   4.7   4.5   3.7   \n",
      "5    -1.0 -0.6 -0.6 -0.8 -0.8 -0.9 -1.0 -1.2 -2.1 -1.7  ...   3.7   3.6   2.9   \n",
      "6    -0.8 -0.8 -0.4 -0.6 -0.6 -0.8 -1.0 -1.2 -1.7 -1.5  ...   1.9   2.3   2.5   \n",
      "7    -2.1 -2.4 -2.3 -2.4 -2.7 -2.7 -2.6 -3.3 -2.8 -1.5  ...   4.9   5.3   5.5   \n",
      "8    -0.7 -0.9 -0.9 -1.9 -1.5 -1.5 -2.4 -2.6 -2.5 -2.0  ...   1.9   2.7   3.2   \n",
      "9    -1.1 -1.4 -1.5 -2.3 -2.6 -2.6 -2.6 -2.5 -1.8  1.1  ...   8.5   9.0   8.9   \n",
      "10    2.4  2.2  2.0  1.5  1.1  0.6  0.0 -0.9 -0.4  3.0  ...  10.4  10.7  10.1   \n",
      "11    1.4  0.2 -0.5 -0.4 -0.2  0.1 -0.3 -0.3 -0.2  0.4  ...   3.8   3.3   3.5   \n",
      "12    0.6  0.3 -0.2 -0.7 -0.9 -0.9 -0.7 -0.7 -1.3 -0.4  ...   4.4   4.5   4.8   \n",
      "13   -1.2 -1.2 -1.3 -1.6 -1.8 -1.7 -1.4 -2.0 -1.9  0.2  ...   5.5   5.7   5.4   \n",
      "14    1.0  0.9  0.4  0.4  0.9  1.3  1.0  1.1  1.8  3.3  ...  10.8  10.4  10.2   \n",
      "15    3.9  3.6  3.3  3.4  3.3  3.4  3.1  2.9  3.7  4.7  ...   7.8   7.8   7.2   \n",
      "16    4.4  4.5  4.5  4.8  4.3  4.0  4.0  3.1  4.1  6.5  ...  13.6  13.6  12.5   \n",
      "17    7.3  7.1  6.7  6.5  6.3  6.2  5.9  6.1  5.3  5.2  ...   8.6   9.4   9.6   \n",
      "18    6.0  5.8  5.8  5.4  4.6  4.7  4.8  4.7  4.1  5.2  ...   8.9   9.0   8.5   \n",
      "19    3.3  3.0  3.4  3.0  3.0  2.6  2.2  1.6  1.2  3.0  ...   8.3   7.9   7.2   \n",
      "20    2.8  2.2  1.6  1.2  0.7  0.7  0.9 -0.1  0.2  1.8  ...   7.0   7.2   7.0   \n",
      "21    1.9  2.0  1.9  1.5  1.1  1.4  0.9  0.5  0.5  2.4  ...   8.0   8.4   8.2   \n",
      "22    3.2  3.0  3.1  2.9  2.7  2.3  2.7  1.4  2.1  4.3  ...  10.2  10.6  10.6   \n",
      "23    5.9  5.4  5.2  4.7  4.2  4.0  3.9  1.6  3.5  6.2  ...  13.8  14.3  14.3   \n",
      "24    8.1  7.1  6.4  5.6  5.2  5.0  4.7  1.5  4.0  7.2  ...  15.5  15.8  15.5   \n",
      "25    7.8  7.1  6.5  5.7  5.3  5.1  5.0  2.5  4.0  7.5  ...  14.2  14.2  14.1   \n",
      "26    8.1  7.8  7.8  7.0  6.6  6.3  5.7  3.7  4.0  7.4  ...  14.2  14.5  14.5   \n",
      "27    8.5  7.9  7.6  6.8  6.1  5.5  4.6  2.1  4.3  7.6  ...  14.1  14.3  14.3   \n",
      "28    8.4  7.6  7.4  6.3  5.7  5.5  5.2  1.8  4.0  6.9  ...  14.1  14.1  13.9   \n",
      "29    7.5  6.8  6.6  6.0  6.0  5.7  5.3  3.4  4.1  6.2  ...  11.6  11.6  11.5   \n",
      "30    5.1  5.2  4.9  4.6  4.1  3.4  3.3  3.1  3.9  5.1  ...   6.0   6.4   6.9   \n",
      "31    5.0  4.9  4.9  4.4  4.2  4.6  4.9  4.2  3.9  3.8  ...   7.0   7.3   7.9   \n",
      "\n",
      "Hour    18    19    20    21   22   23    24  \n",
      "Day                                           \n",
      "1      4.5   2.1   1.4   1.7  1.4  0.9   0.9  \n",
      "2      6.2   4.1   4.1   4.4  4.1  3.6   3.3  \n",
      "3      7.7   5.3   4.4   4.6  4.9  4.6   2.9  \n",
      "4      3.1   2.1   1.6   1.0  0.5  0.2  -1.1  \n",
      "5      2.3   0.7  -0.2  -1.2 -1.5 -1.4  -1.0  \n",
      "6      2.4  -0.3  -0.7   0.4  0.1 -0.6  -1.8  \n",
      "7      4.7   2.2   1.0   0.5  0.4  0.4  -0.6  \n",
      "8      2.3   0.6   0.2  -0.3 -0.5 -0.6  -1.2  \n",
      "9      7.8   4.4   5.0   4.0  3.6  3.3   2.4  \n",
      "10     8.8   5.9   6.3   6.6  5.2  3.4   3.1  \n",
      "11     2.9   2.7   2.2   1.9  1.3  0.9   0.7  \n",
      "12     4.1   2.6   1.0   0.3 -0.2  0.1  -0.8  \n",
      "13     4.6   2.6   2.0   2.2  1.8  1.6   0.5  \n",
      "14     9.0   5.7   4.4   4.2  3.8  4.3   4.2  \n",
      "15     7.1   6.9   6.1   5.8  5.2  5.1   4.1  \n",
      "16    11.3   8.7   7.2   7.9  7.9  7.6   7.7  \n",
      "17     9.5   7.9   6.7   6.8  6.3  5.7   5.5  \n",
      "18     8.1   7.3   5.6   4.8  4.1  4.1   3.6  \n",
      "19     6.4   5.4   3.6   3.3  3.6  2.9   2.7  \n",
      "20     6.4   4.3   2.5   2.8  3.4  3.3   2.5  \n",
      "21     7.8   4.9   4.8   4.7  4.4  3.8   3.6  \n",
      "22     9.8   7.2   8.2   7.0  6.7  6.5   6.2  \n",
      "23    13.4  12.1  11.3  10.0  9.3  9.0   8.5  \n",
      "24    14.7  11.9  11.6  10.5  9.5  8.5   7.9  \n",
      "25    13.6  11.1  11.1  10.1  9.1  8.5   8.4  \n",
      "26    13.9  11.8  11.7  10.4  9.3  8.9   8.8  \n",
      "27    13.6  10.8  11.6  10.2  9.0  8.4   8.4  \n",
      "28    12.9  10.4  10.1  10.3  9.7  8.6   8.2  \n",
      "29    10.8   9.3   7.3   7.7  7.7  6.9   5.4  \n",
      "30     7.0   6.6   5.5   5.4  5.4  5.4   5.0  \n",
      "31     7.7   6.2   5.8   5.7  7.5  8.9  10.1  \n",
      "\n",
      "[31 rows x 24 columns]\n",
      "\n",
      "Month: 4\n",
      "Hour    1     2     3     4     5     6     7    8     9     10  ...    15  \\\n",
      "Day                                                              ...         \n",
      "1     11.2  10.4   9.3   8.4   7.3   6.8   7.0  5.3   7.6  10.5  ...  14.1   \n",
      "2      7.6   7.1   6.6   6.1   4.4   3.7   3.7  5.1   6.8   8.9  ...  13.0   \n",
      "3      7.6   5.5   5.2   5.3   5.0   5.2   4.8  4.7   7.0   9.7  ...  17.2   \n",
      "4     11.0  10.6  10.0  12.4  12.3  11.0  10.5  8.2   8.4   9.3  ...  11.9   \n",
      "5      7.7   7.3   7.3   6.5   6.5   6.3   5.7  5.9   5.0   5.0  ...   9.6   \n",
      "6      7.9   7.5   7.3   6.0   5.9   5.7   6.8  6.9   8.7   9.8  ...  14.0   \n",
      "7      7.9   7.2   6.8   7.3   6.3   6.0   5.4  5.3   5.5   7.0  ...  14.4   \n",
      "8      9.7   8.6   7.6   6.8   6.4   6.2   7.1  4.9   7.2  10.3  ...  15.9   \n",
      "9     10.8   9.8   9.1   8.4   8.1   7.8   7.7  7.8   8.3  11.0  ...  15.9   \n",
      "10    11.8  10.7  10.3   6.2   5.1   4.6   4.2  4.9   8.4  11.6  ...  16.3   \n",
      "11    12.7  11.7  11.0   8.5   9.8   9.4   7.0  6.6   9.4  12.2  ...  13.8   \n",
      "12     9.1  10.9  10.6   8.3   9.9   9.1   8.9  6.8   7.5   9.3  ...  13.9   \n",
      "13    12.5  11.7  10.4   9.8   9.1   8.9   8.7  6.4   8.8  11.8  ...  16.6   \n",
      "14    11.4  11.1  10.5  10.2   9.8   9.2  10.7  8.4   9.4  11.5  ...  14.3   \n",
      "15     8.9   8.1   7.2   7.5   7.4   7.6   7.4  8.1   9.7  10.9  ...  11.0   \n",
      "16     8.4   7.3   6.0   5.0   4.4   4.3   3.7  6.1  10.3  13.6  ...  13.4   \n",
      "17     6.1   5.5   4.9   4.4   3.9   3.8   3.5  4.2   5.0   6.6  ...   8.9   \n",
      "18     5.3   5.0   4.7   4.6   3.8   3.2   2.1  3.5   4.7   5.4  ...   6.8   \n",
      "19     7.0   0.0   0.1   0.3   0.2   0.0   0.3  2.0   2.8   3.4  ...   5.1   \n",
      "20     0.2   0.1   7.5   7.2   6.8   6.0   4.5  0.1   1.1   2.7  ...   7.7   \n",
      "21     3.1   2.4   2.3   1.4   0.9   1.1   0.5  1.4   2.4   3.3  ...  10.5   \n",
      "22     5.9   4.9   4.3   4.0   3.6   3.1   3.0  3.6   6.9  10.4  ...  12.7   \n",
      "23     7.7   8.3   7.4   6.4   5.5   4.9   3.6  5.2   8.9   9.1  ...  11.0   \n",
      "24     6.4   6.6   6.6   6.3   6.4   6.2   6.1  5.9   5.9   6.6  ...   9.5   \n",
      "25     8.2   8.2   8.1   7.8   7.8   7.9   7.6  7.4   7.6   8.5  ...  10.6   \n",
      "26     8.4   7.8   7.6   7.3   6.6   7.0   6.8  6.7   6.4   6.2  ...   6.8   \n",
      "27     5.7   5.9   5.6   5.7   5.9   6.3   6.4  6.6   7.3   7.6  ...   9.1   \n",
      "28     7.4   7.1   6.9   6.2   6.0   5.6   4.5  3.8   4.9   5.8  ...   6.6   \n",
      "29     3.7   2.9   2.1   1.2   0.7   0.4   1.2  2.3   3.8   5.3  ...  10.9   \n",
      "30     7.7   6.4   5.7   4.9   6.3   6.3   4.1  5.3   7.7   9.6  ...  12.6   \n",
      "\n",
      "Hour    16    17    18    19    20    21    22    23    24  \n",
      "Day                                                         \n",
      "1     13.9  13.0  12.3  11.3  10.4  11.0  10.0   9.2   8.4  \n",
      "2     11.6  12.0  11.4  10.9  11.3  10.7  10.6   9.9   8.0  \n",
      "3     15.9  14.9  14.6  14.2  12.4  11.1  11.5  11.6  11.5  \n",
      "4     10.5  11.1  10.5  10.4  10.1   8.7   8.9   7.9   7.8  \n",
      "5     10.6  11.0  11.3  10.9  12.7  10.6   9.3   8.7   8.2  \n",
      "6     14.6  14.7  13.9  12.5  12.6  11.6  10.7  11.7   8.8  \n",
      "7     14.9  14.5  13.8  15.8  15.0  14.0  12.0  10.9  10.1  \n",
      "8     15.9  15.9  15.5  13.8  13.0  12.3  11.3  10.9  11.9  \n",
      "9     16.6  17.0  15.9  14.6  13.0  12.0  11.9  11.0  10.8  \n",
      "10    15.1  14.6  14.8  13.9  13.9  13.0  11.5  10.9  10.5  \n",
      "11    12.3  12.1  12.6  12.4  12.8  11.5  10.8   9.5   8.9  \n",
      "12    14.0  14.3  14.1  13.1  12.0  10.3  11.1  11.1  10.3  \n",
      "13    16.9  17.0  16.6  15.8  14.5  15.0  13.4  12.7  11.9  \n",
      "14    14.3  13.9  13.5  12.5  11.7  11.3  10.7  10.1   9.8  \n",
      "15    10.8  10.5  10.2   9.8   9.9  10.0   9.3   8.9  11.2  \n",
      "16    12.1  11.9  11.3   9.8   8.4   8.3   7.9   7.2   5.8  \n",
      "17     9.3   7.8   7.8   7.4   7.4   6.8   6.5   6.2   5.5  \n",
      "18     5.5   5.4   5.4   4.5   2.6   1.7   1.4   0.7   7.5  \n",
      "19     4.5   4.4   4.2   3.8   2.4   1.6   0.9   0.6   0.6  \n",
      "20     8.1   8.2   7.7   7.1   4.9   3.1   2.8   2.9   3.2  \n",
      "21    11.2  11.4  11.0   9.4   6.9   6.2   6.3   6.1   5.4  \n",
      "22    12.8  12.8  12.2  11.4  10.9  10.0   9.9   9.4   8.2  \n",
      "23    11.2  10.9  10.4   9.5   8.7   8.0   7.2   6.5   7.0  \n",
      "24    10.2  10.4  10.0   9.3   8.9   8.6   8.6   8.7   8.2  \n",
      "25    10.2   9.9   9.9   9.4   8.9   7.8   8.0   7.5   8.4  \n",
      "26     7.0   6.9   6.8   6.7   6.4   6.2   6.0   5.7   5.6  \n",
      "27     8.6   9.1   8.8   8.4   8.0   7.8   7.5   7.4   7.5  \n",
      "28     5.1   4.0   4.1   4.3   4.2   3.1   3.4   2.7   4.3  \n",
      "29    10.9  10.9  10.2   9.0   5.9   7.1   6.9   7.4   6.9  \n",
      "30    12.6  12.4  11.6   9.5   9.0   8.5   8.6   8.4   7.9  \n",
      "\n",
      "[30 rows x 24 columns]\n",
      "\n",
      "Month: 5\n",
      "Hour    1     2     3     4     5     6     7     8     9     10  ...    15  \\\n",
      "Day                                                               ...         \n",
      "1      7.3   6.5   5.8   5.2   5.2   5.7   4.8   5.8   7.2   9.3  ...  12.8   \n",
      "2      7.7   7.0   6.4   6.0   5.4   4.8   5.0   4.7   4.8   5.2  ...   7.1   \n",
      "3      6.7   6.6   6.6   6.4   6.1   6.1   6.3   6.7   6.4   7.3  ...  11.4   \n",
      "4      8.9   7.9   7.4   6.6   6.6   6.6   6.2   8.2   9.5  11.6  ...  14.2   \n",
      "5      7.3   7.1   7.3   6.4   6.2   5.6   7.3   8.2   8.4   9.6  ...  13.9   \n",
      "6      7.4   7.2   6.4   5.4   5.2   4.9   4.0   4.1   5.1   8.4  ...  13.7   \n",
      "7      9.3   8.4   8.3   7.8   7.5   7.1   7.1   8.1  10.0  15.0  ...  14.9   \n",
      "8     10.8  10.7   9.2   8.8   8.4   8.0   7.7   8.6  13.6  15.8  ...  15.7   \n",
      "9     10.4   9.8   9.8   8.5   8.7   8.0   7.9   8.6  13.6  16.2  ...  15.3   \n",
      "10    13.9  13.1  13.0  12.7  12.6  13.0   9.5   9.9  10.0  10.5  ...  11.6   \n",
      "11    10.2  10.3  10.1   9.9  10.0   9.8   9.7   9.7  10.1  13.7  ...  13.0   \n",
      "12    10.1  10.2  10.1   9.9  12.1   8.5   9.0   9.6  10.5  10.8  ...  10.0   \n",
      "13     9.2   9.2   9.1   9.2   9.2   9.2   8.9   8.8   8.8   9.2  ...  11.2   \n",
      "14     9.0   8.8   8.4   9.4   7.4   6.8   6.4   7.9   8.9  12.1  ...  10.8   \n",
      "15     8.9   7.8   7.1   6.9   7.0   6.7   7.3  11.1  12.3  14.9  ...  14.0   \n",
      "16     8.8  10.3   8.1   7.7   7.4   6.6   6.4   8.7  10.0  11.1  ...  12.3   \n",
      "17     7.3   6.7   6.4   7.7   7.4   6.8   5.3   5.5   6.2   7.9  ...   9.7   \n",
      "18     5.5   5.1   3.0   2.2   2.7   2.6   3.3   4.6   6.6   9.0  ...  11.0   \n",
      "19    10.1   9.0   9.4   9.5  10.2  10.0   7.5   8.4   9.5  13.6  ...  14.0   \n",
      "20     9.7   9.3   9.4   9.0   8.6   8.1   8.4   8.0   7.1   7.2  ...   6.3   \n",
      "21     6.4   6.2   6.4   6.2   6.1   5.7   7.5   8.0   9.4  11.9  ...  16.8   \n",
      "22    13.5  12.2  11.5  10.8  10.4  10.1  10.3  11.2  16.0  18.2  ...  18.0   \n",
      "23    16.5  15.0  13.6  12.9  12.1  11.6  11.6  12.7  17.2  19.9  ...  19.8   \n",
      "24    14.9  16.7  15.5  14.7  14.0  13.7   9.7  10.3  10.9  10.5  ...  10.5   \n",
      "25     6.4   6.6   6.3   6.2   6.3   6.6   9.0   9.0   8.9  10.9  ...  16.2   \n",
      "26    12.8  11.5  10.8  10.2   9.6   9.4   9.8  11.0  12.4  17.6  ...  17.8   \n",
      "27    13.8  13.0  12.1  11.6  11.3  11.2  11.5  12.9  17.7  19.4  ...  19.4   \n",
      "28    17.9  16.1  15.1  14.0  13.4  12.9  13.4  14.9  18.3  20.0  ...  21.6   \n",
      "29    20.2  18.3  18.3  17.8  16.6  15.4  15.3  16.6  19.9  18.0  ...  21.6   \n",
      "30    21.0  19.9  13.3  12.6  12.4  12.4  12.6  13.2  13.3  13.6  ...  15.3   \n",
      "31    10.9  10.6  10.4  10.1  10.2  10.4  10.5  10.6  11.1  11.6  ...  12.6   \n",
      "\n",
      "Hour    16    17    18    19    20    21    22    23    24  \n",
      "Day                                                         \n",
      "1     12.5  11.7  11.4  10.6  10.0   9.4   8.9   8.4   8.4  \n",
      "2      8.1   8.5   7.9   7.7   7.4   7.3   7.2   7.2   6.9  \n",
      "3     11.6  12.6  12.6  12.3  12.5  14.7  13.1  11.4  11.9  \n",
      "4     14.4  14.5  12.6  11.7  11.7  11.4   9.7   9.5   7.3  \n",
      "5     14.5  14.6  14.1  13.1  12.3  12.9  10.5   9.6   8.0  \n",
      "6     13.8  14.0  13.6  13.3  13.4  14.6  12.3  11.2  10.2  \n",
      "7     14.9  15.0  14.8  13.8  12.9  12.7  12.0  13.7  11.8  \n",
      "8     15.6  15.4  15.1  17.8  16.4  13.8  12.5  11.5  10.9  \n",
      "9     15.0  15.1  14.7  13.8  12.5  12.2  12.8  15.9  13.9  \n",
      "10    11.6  11.5  11.8  11.8  11.2  10.8  10.7  10.9  10.4  \n",
      "11    13.9  14.7  14.3  13.6  12.9  12.0  11.4  10.8  10.0  \n",
      "12    10.2  10.4  10.3  10.0   9.9   9.7   9.0   9.3   9.4  \n",
      "13    11.0  11.2  10.9  10.4  10.1  10.0  11.1  10.8   9.8  \n",
      "14    10.9  10.9  11.2  11.2  11.4  13.1   8.2   7.8  11.5  \n",
      "15    12.2  11.8  14.2  10.4  10.1  13.2  10.2   9.5  11.6  \n",
      "16    11.4  10.5  10.1   9.5   9.1   8.6   7.4   7.4   7.3  \n",
      "17     9.2   9.1   9.2   8.4   8.2   8.1   7.5   6.8   5.8  \n",
      "18    11.6  10.7  11.2  11.1  10.1  10.4   9.5   8.8   9.3  \n",
      "19    14.5  14.4  13.6  13.1  12.4  11.2  10.4  10.0   9.6  \n",
      "20     6.2   6.5   7.1   7.6   7.7   6.2   6.6   6.8   6.9  \n",
      "21    16.9  16.4  16.9  16.4  15.1  15.4  13.9  16.6  14.8  \n",
      "22    19.0  18.9  19.1  18.3  16.7  17.2  16.3  15.4  17.9  \n",
      "23    20.0  19.6  19.3  18.5  17.5  16.4  15.7  15.3  15.6  \n",
      "24     9.8  10.3  11.5   8.6   8.0   7.8   7.6   6.7   6.5  \n",
      "25    16.2  15.6  15.5  15.2  14.0  17.3  16.7  15.6  14.2  \n",
      "26    18.0  17.5  17.6  17.2  16.0  20.6  18.2  16.4  14.6  \n",
      "27    19.2  19.2  19.4  18.4  17.7  16.6  16.8  20.5  20.5  \n",
      "28    21.4  21.4  21.4  20.3  19.6  18.5  17.3  18.2  17.2  \n",
      "29    21.5  21.5  20.9  19.8  18.7  17.8  18.5  18.1  17.3  \n",
      "30    15.7  13.0  12.1  11.6  11.6  11.4  11.1  10.8  10.8  \n",
      "31    12.8  13.1  12.9  12.1  11.6  11.4  13.2  14.7  16.1  \n",
      "\n",
      "[31 rows x 24 columns]\n",
      "\n",
      "Month: 6\n",
      "Hour    1     2     3     4     5     6     7     8     9     10  ...    15  \\\n",
      "Day                                                               ...         \n",
      "1     17.5  16.8  16.4  15.5  15.8  16.8  13.2  17.8  20.1  18.0  ...  21.2   \n",
      "2     18.7  17.7  17.2  17.2  16.6  16.5  17.0  19.0  19.9  22.9  ...  20.1   \n",
      "3     16.0  15.3  15.2  14.2  14.1  13.8  14.0  15.2  18.3  20.7  ...  21.4   \n",
      "4     18.8  18.0  17.3  16.7  16.3  15.9  16.5  18.3  16.5  17.8  ...  21.3   \n",
      "5     15.9  15.0  14.6  14.1  13.6  13.6  14.2  15.5  19.0  20.9  ...  20.6   \n",
      "6     18.6  17.0  16.8  16.5  16.3  11.7  16.1  18.0  20.6  18.0  ...  18.6   \n",
      "7     16.3  15.9  15.6  15.1  15.0  14.5  13.6  15.0  16.6  17.6  ...  21.3   \n",
      "8     14.2  14.0  13.7  13.4  12.8  11.9  12.4  13.3  16.9  17.1  ...  17.4   \n",
      "9     17.5  16.7  16.2  12.2  11.5  10.4  11.9  17.5  20.5  22.2  ...  21.7   \n",
      "10    19.5  18.4  17.6  17.0  16.7  16.3  16.6  18.5  21.6  24.3  ...  22.7   \n",
      "11    18.4  22.6  21.5  20.6  20.3  16.0  15.6  21.6  23.6  25.7  ...  21.9   \n",
      "12    16.0  15.5  15.1  14.4  13.5  13.8  13.9  15.8  17.0  18.1  ...  17.3   \n",
      "13    13.3  12.9  11.1  10.3  10.0  10.2  11.0  13.2  19.1  20.2  ...  15.6   \n",
      "14    13.2  12.5  12.5  11.5  11.9  11.8  11.8  12.0  12.4  13.4  ...  19.0   \n",
      "15    15.5  14.9  13.9  16.6  15.2  13.8  13.8  14.9  17.2  19.2  ...  20.1   \n",
      "16    15.7  18.4  16.8  15.1  14.8  14.6  15.5  17.3  15.8  17.2  ...  20.9   \n",
      "17    19.2  18.2  18.1  17.3  16.3  16.3  16.6  14.8  17.0  18.7  ...  21.7   \n",
      "18    20.5  20.1  19.6  19.4  18.8  17.9  18.0  18.1  20.3  16.8  ...  21.0   \n",
      "19    18.7  17.5  16.6  16.0  15.6  15.1  15.4  17.8  17.3  18.5  ...  23.4   \n",
      "20    21.5  20.8  20.3  19.4  19.8  20.4  16.6  16.8  18.1  19.5  ...  23.5   \n",
      "21    22.4  21.1  20.1  19.2  18.5  14.6  18.5  20.6  24.0  25.9  ...  22.9   \n",
      "22    17.3  16.6  16.0  14.8  14.4  14.2  15.1  16.3  17.4  18.3  ...  20.4   \n",
      "23    12.8  14.8  13.9  12.6  11.1  10.7  10.8  12.6  13.2  14.0  ...  17.0   \n",
      "24    16.8  15.4  14.6  13.5  13.1  13.0  13.2  15.7  13.4  15.2  ...  17.6   \n",
      "25    13.3  13.0  12.4  12.0  11.8  10.9  11.1  11.9  12.6  14.1  ...  18.2   \n",
      "26    13.4  15.9  15.0  14.3  14.1  13.7  13.8  12.2  13.5  14.9  ...  19.5   \n",
      "27    18.1  16.2  15.1  14.3  13.7  13.2  13.5  15.9  15.9  17.3  ...  20.5   \n",
      "28    13.8  13.1  12.7  11.6  11.2  10.1  10.8  11.7  13.1  15.1  ...  18.9   \n",
      "29    15.6  15.3  14.7  14.0  13.6  16.3  16.7  14.8  15.8  17.5  ...  23.8   \n",
      "30    19.1  18.7  17.6  16.7  16.4  16.2  16.7  17.9  22.5  25.4  ...  25.4   \n",
      "\n",
      "Hour    16    17    18    19    20    21    22    23    24  \n",
      "Day                                                         \n",
      "1     21.3  21.4  20.8  20.2  19.4  24.0  22.3  20.0  19.2  \n",
      "2     19.5  19.4  18.9  18.1  20.6  20.5  18.1  17.5  16.7  \n",
      "3     21.5  21.1  20.5  20.4  19.9  19.8  22.3  21.2  19.5  \n",
      "4     18.9  18.1  19.1  20.0  19.9  15.5  18.5  16.9  16.8  \n",
      "5     20.8  20.8  19.9  19.1  18.1  18.8  18.1  16.6  16.0  \n",
      "6     18.2  19.5  19.6  19.1  18.0  17.2  17.2  17.3  16.5  \n",
      "7     23.4  19.0  17.8  17.4  15.9  14.8  13.9  13.8  17.7  \n",
      "8     18.8  18.6  19.0  18.5  17.7  17.4  15.6  15.3  18.6  \n",
      "9     22.5  26.9  27.2  26.3  24.0  26.1  24.3  22.1  20.8  \n",
      "10    23.2  23.0  22.1  21.8  21.5  21.1  20.4  19.9  18.3  \n",
      "11    20.8  20.6  20.5  20.6  20.2  19.7  19.3  17.3  15.8  \n",
      "12    18.6  23.6  17.8  16.6  16.1  15.2  14.8  13.7  13.6  \n",
      "13    15.6  15.8  15.9  19.6  15.3  14.1  13.4  13.5  12.9  \n",
      "14    19.7  23.5  22.5  22.1  22.0  17.2  21.3  16.8  16.2  \n",
      "15    20.6  24.2  22.9  22.9  22.4  17.3  16.5  16.2  15.5  \n",
      "16    20.6  20.9  20.3  19.4  19.2  18.6  18.6  18.2  20.4  \n",
      "17    21.9  21.7  21.2  21.0  20.2  19.8  19.5  23.8  21.1  \n",
      "18    21.1  22.1  21.9  21.1  20.9  26.3  23.1  21.2  20.4  \n",
      "19    24.4  23.9  23.3  22.5  21.8  20.9  20.0  19.5  22.4  \n",
      "20    23.7  23.9  23.6  22.9  22.1  21.9  21.2  20.7  19.6  \n",
      "21    21.7  22.1  21.2  20.9  20.7  21.3  25.5  24.8  18.0  \n",
      "22    24.2  19.0  18.2  17.6  17.0  16.1  15.1  14.7  13.5  \n",
      "23    17.1  17.0  16.7  16.7  16.6  15.6  15.2  14.9  13.7  \n",
      "24    16.8  15.8  15.7  14.9  14.5  14.6  14.2  13.8  13.6  \n",
      "25    17.3  17.3  16.7  16.5  15.8  14.9  14.6  13.4  13.3  \n",
      "26    20.6  20.7  20.5  19.5  18.9  17.3  17.2  22.0  19.4  \n",
      "27    19.4  18.0  17.7  17.0  16.1  14.9  13.5  13.1  14.1  \n",
      "28    18.7  18.8  18.5  17.7  17.3  16.1  15.7  14.8  16.1  \n",
      "29    23.9  24.3  24.2  23.9  28.1  25.8  23.6  21.8  20.4  \n",
      "30    25.0  24.9  24.1  23.1  22.3  21.4  20.5  19.8  19.2  \n",
      "\n",
      "[30 rows x 24 columns]\n",
      "\n",
      "Month: 7\n",
      "Hour    1     2     3     4     5     6     7     8     9     10  ...    15  \\\n",
      "Day                                                               ...         \n",
      "1     18.7  19.4  19.9  20.4  20.2  19.1  20.6  17.4  17.9  18.9  ...  21.7   \n",
      "2     17.5  17.3  17.0  16.6  16.2  16.3  16.2  15.9  16.3  16.7  ...  21.7   \n",
      "3     18.5  18.4  18.0  18.1  22.3  21.8  21.7  22.0  22.3  23.5  ...  19.1   \n",
      "4     18.0  17.5  13.6  13.1  12.8  12.7  17.7  18.7  19.5  21.8  ...  21.5   \n",
      "5     18.2  17.7  17.0  17.3  17.5  18.2  18.1  18.5  15.6  21.3  ...  21.1   \n",
      "6     18.2  17.4  17.2  16.9  16.3  12.7  16.2  16.8  19.8  22.3  ...  20.1   \n",
      "7     15.0  14.6  14.3  14.1  13.6  13.6  13.9  15.2  15.8  17.5  ...  21.4   \n",
      "8     19.4  13.9  13.1  11.9  11.1  10.7  12.2  17.5  16.8  18.6  ...  22.3   \n",
      "9     20.1  19.5  15.1  17.9  17.6  17.0  17.2  18.3  16.6  18.5  ...  22.4   \n",
      "10    21.5  20.9  20.4  16.1  15.9  19.1  15.0  15.3  16.7  17.4  ...  19.5   \n",
      "11    18.8  14.7  18.1  14.1  14.0  13.8  13.9  14.6  15.2  16.2  ...  17.7   \n",
      "12    14.6  14.1  14.0  14.1  14.1  13.4  13.8  14.6  15.7  16.6  ...  19.8   \n",
      "13    19.2  18.9  18.7  14.5  14.5  14.4  13.8  18.2  20.9  22.8  ...  22.2   \n",
      "14    17.9  19.5  19.1  18.8  18.2  18.3  19.0  19.5  21.9  23.8  ...  22.1   \n",
      "15    20.5  16.1  15.4  16.2  16.5  15.2  15.2  16.1  17.5  18.9  ...  21.2   \n",
      "16    16.5  16.6  15.1  15.4  15.2  14.2  13.4  14.5  16.7  18.5  ...  20.1   \n",
      "17    12.5  12.1  11.5  11.0  10.8  10.4  11.0  13.5  16.4  19.2  ...  22.6   \n",
      "18    18.9  18.2  17.3  16.6  16.3  15.0  14.2  15.3  17.6  19.7  ...  25.0   \n",
      "19    19.5  19.3  18.9  18.2  17.9  17.8  16.1  16.8  19.5  21.5  ...  24.9   \n",
      "20    19.4  19.4  19.1  18.8  18.7  18.6  18.5  17.1  19.2  20.9  ...  20.4   \n",
      "21    14.3  14.5  14.2  13.7  13.6  13.5  13.3  13.5  14.0  15.2  ...  19.2   \n",
      "22    15.4  15.6  15.4  14.0  13.5  13.2  13.9  15.8  17.6  18.8  ...  20.3   \n",
      "23    17.8  17.7  17.4  16.8  16.2  15.4  15.0  15.9  17.1  18.5  ...  22.9   \n",
      "24    19.5  19.1  18.4  17.9  17.4  16.3  14.4  15.4  17.2  19.5  ...  23.3   \n",
      "25    20.0  19.5  19.1  18.9  18.4  18.4  16.0  17.2  18.7  20.9  ...  24.4   \n",
      "26    20.8  20.6  20.3  19.9  19.7  19.2  17.3  17.7  19.2  20.7  ...  22.5   \n",
      "27    18.0  18.1  17.8  17.2  16.0  15.7  14.6  15.1  17.2  20.2  ...  23.4   \n",
      "28    17.7  17.6  17.4  16.6  16.3  15.2  14.6  15.5  17.5  19.6  ...  24.8   \n",
      "29    19.4  19.0  18.7  18.3  18.1  17.8  16.3  17.2  18.9  20.9  ...  23.9   \n",
      "30    19.6  19.6  19.4  19.2  18.8  18.1  16.8  17.9  20.1  22.6  ...  27.6   \n",
      "31    21.3  21.2  20.9  20.3  20.0  19.5  17.7  18.4  20.5  22.9  ...  27.9   \n",
      "\n",
      "Hour    16    17    18    19    20    21    22    23    24  \n",
      "Day                                                         \n",
      "1     22.5  22.1  21.5  21.4  20.8  19.2  18.1  17.5  17.7  \n",
      "2     27.6  22.7  22.0  21.3  20.9  19.8  19.8  19.5  18.5  \n",
      "3     18.6  19.7  22.7  18.8  19.0  19.1  18.7  18.1  18.1  \n",
      "4     21.4  20.5  20.5  19.7  22.4  21.5  20.5  19.9  19.0  \n",
      "5     19.7  19.6  19.9  18.9  18.4  18.1  17.4  17.9  18.6  \n",
      "6     19.8  19.0  18.0  17.6  17.2  16.0  15.3  15.0  15.3  \n",
      "7     21.5  22.4  27.2  26.4  24.9  22.9  24.0  21.9  20.6  \n",
      "8     22.4  22.1  21.5  21.0  20.7  20.6  19.0  17.9  16.6  \n",
      "9     22.1  21.8  21.5  21.1  20.5  20.0  18.5  18.0  17.2  \n",
      "10    18.6  19.1  19.3  18.9  18.2  21.1  20.1  19.0  18.9  \n",
      "11    17.5  17.9  17.9  17.9  17.2  17.3  16.2  14.0  15.3  \n",
      "12    19.7  19.0  19.2  18.9  18.7  18.5  18.1  19.9  19.4  \n",
      "13    22.6  21.8  20.3  20.5  20.4  19.1  18.0  17.9  18.0  \n",
      "14    21.2  22.2  21.7  20.1  19.5  17.6  17.7  17.3  16.9  \n",
      "15    21.1  21.8  21.9  20.5  19.4  19.4  19.0  16.5  16.6  \n",
      "16    19.6  17.8  17.1  16.6  16.3  16.4  16.8  16.4  12.5  \n",
      "17    23.1  23.3  22.4  22.0  21.3  20.8  19.6  20.0  19.5  \n",
      "18    25.1  25.1  25.1  24.7  23.7  23.1  21.2  20.8  19.7  \n",
      "19    25.1  25.4  25.1  24.0  23.6  22.6  20.7  20.5  19.9  \n",
      "20    21.8  22.1  19.7  16.6  15.7  14.6  14.7  15.4  14.3  \n",
      "21    17.8  17.4  17.8  17.2  16.7  16.6  16.1  15.6  14.8  \n",
      "22    19.9  19.7  19.3  18.6  17.7  16.4  16.8  17.7  19.1  \n",
      "23    23.6  23.4  23.0  22.6  21.8  21.8  20.5  20.1  19.3  \n",
      "24    23.4  23.0  22.6  22.2  21.9  21.1  20.0  19.4  20.0  \n",
      "25    24.4  23.8  23.7  23.9  23.1  23.0  21.7  21.0  21.0  \n",
      "26    21.4  20.5  20.9  20.5  19.6  19.4  18.6  18.4  17.7  \n",
      "27    23.6  23.4  21.2  20.7  21.0  20.2  19.4  18.8  17.8  \n",
      "28    23.2  20.6  20.2  20.0  19.2  19.6  18.7  18.5  19.7  \n",
      "29    23.8  24.0  23.7  23.0  22.0  21.2  20.6  19.9  20.2  \n",
      "30    25.7  25.1  25.1  24.7  24.5  23.4  22.2  21.8  21.4  \n",
      "31    28.1  27.2  27.0  25.6  25.1  24.3  23.5  22.6  21.6  \n",
      "\n",
      "[31 rows x 24 columns]\n",
      "\n",
      "Month: 8\n",
      "Hour    1     2     3     4     5     6     7     8     9     10  ...    15  \\\n",
      "Day                                                               ...         \n",
      "1     21.0  20.5  20.1  19.8  19.6  19.2  19.4  19.6  18.5  18.3  ...  18.7   \n",
      "2     14.0  13.8  13.1  13.3  12.6  12.2  12.6  13.5  14.1  15.8  ...  19.1   \n",
      "3     20.3  19.8  19.1  18.1  17.3  17.1  18.0  15.1  15.7  21.4  ...  19.8   \n",
      "4     19.5  19.4  18.9  18.3  17.8  17.2  16.9  17.5  20.6  23.6  ...  22.6   \n",
      "5     22.3  21.6  21.1  20.7  20.5  20.6  19.9  20.3  22.2  24.6  ...  23.0   \n",
      "6     18.0  17.8  16.9  16.4  15.8  15.7  15.3  15.7  15.9  17.7  ...  17.6   \n",
      "7     11.1  11.4  11.3  10.4   9.9   9.8  10.9  11.8  13.0  15.7  ...  20.9   \n",
      "8     19.9  19.5  15.7  15.0  14.8  13.7  13.2  13.9  14.7  16.7  ...  22.2   \n",
      "9     17.7  16.9  16.4  15.6  15.0  14.8  14.7  15.5  18.9  21.1  ...  29.4   \n",
      "10    19.4  18.8  18.2  17.7  16.9  17.0  17.4  18.5  21.1  23.8  ...  22.1   \n",
      "11    14.8  14.3  13.6  12.9  13.0  13.1  12.6  12.1  11.8  11.7  ...  18.2   \n",
      "12    12.5  12.0  14.9  13.6  12.2  11.0  10.7  10.8  13.9  13.2  ...  17.0   \n",
      "13    13.7  13.5  12.8  12.8  12.3  11.8  11.4  13.1  11.9  13.6  ...  17.4   \n",
      "14    15.0  14.4  13.7  13.5  12.9  12.7  12.6  12.7  16.6  19.2  ...  21.3   \n",
      "15    17.5  16.5  15.8  15.5  15.0  14.8  14.9  15.3  18.5  21.6  ...  23.0   \n",
      "16    21.1  21.1  20.4  20.0  16.0  15.8  14.9  15.9  17.2  23.0  ...  27.0   \n",
      "17    13.7  13.0  12.6  12.5  12.8  12.2  13.1  14.2  15.7  22.5  ...  21.4   \n",
      "18    17.6  16.7  16.0  15.6  15.2  15.1  15.0  15.6  18.6  21.1  ...  21.7   \n",
      "19    17.7  17.2  17.1  17.2  17.1  17.2  13.6  14.0  15.4  20.5  ...  19.1   \n",
      "20    19.1  18.9  18.9  19.0  18.9  14.8  14.6  14.5  20.3  21.5  ...  20.4   \n",
      "21    20.8  20.7  20.4  20.2  19.9  19.7  19.6  19.6  17.0  18.7  ...  20.0   \n",
      "22    15.8  15.7  15.8  15.7  15.8  16.1  15.6  16.3  20.9  22.4  ...  19.7   \n",
      "23    13.6  12.7  12.8  11.8  10.9  10.6  10.3  11.3  11.6  14.1  ...  20.8   \n",
      "24    15.0  14.6  14.1  14.8  13.5  13.1  14.0  13.9  17.5  20.2  ...  23.2   \n",
      "25    17.4  16.9  16.1  15.9  15.3  15.2  14.9  15.4  18.6  21.4  ...  23.8   \n",
      "26    18.9  18.0  17.5  17.1  16.5  16.3  16.0  16.5  19.6  22.8  ...  30.5   \n",
      "27    21.1  19.7  19.5  18.8  17.8  17.9  18.0  18.5  20.3  22.7  ...  30.2   \n",
      "28    19.6  18.7  18.1  17.8  17.1  16.8  16.4  16.9  19.4  22.4  ...  24.5   \n",
      "29    19.6  18.8  18.2  17.9  13.7  16.9  16.9  17.3  15.8  22.8  ...  25.1   \n",
      "30    23.2  21.6  20.3  20.0  19.4  19.3  19.1  19.9  17.8  24.2  ...  22.0   \n",
      "31    17.2  16.5  16.1  16.1  19.9  19.5  15.3  15.6  15.8  21.0  ...  18.1   \n",
      "\n",
      "Hour    16    17    18    19    20    21    22    23    24  \n",
      "Day                                                         \n",
      "1     20.2  21.5  22.8  17.6  16.7  20.1  19.5  14.8  14.3  \n",
      "2     18.8  19.2  19.3  18.5  18.2  17.9  17.3  16.8  16.3  \n",
      "3     20.1  20.4  20.3  19.8  19.6  23.2  20.9  20.7  20.6  \n",
      "4     22.7  22.4  22.4  22.1  21.4  26.0  24.4  23.6  23.2  \n",
      "5     23.3  23.8  22.9  22.0  21.5  21.2  20.7  19.5  18.6  \n",
      "6     16.8  17.4  14.5  14.8  14.4  13.8  12.9  12.4  11.5  \n",
      "7     20.9  20.5  20.8  20.2  20.2  19.9  23.2  22.2  17.0  \n",
      "8     22.2  22.6  22.1  21.0  19.3  19.2  17.5  20.8  18.9  \n",
      "9     24.0  23.9  23.1  22.2  20.7  25.2  22.8  21.1  20.4  \n",
      "10    22.3  21.9  21.5  20.3  24.0  21.4  19.6  18.8  14.9  \n",
      "11    18.6  18.9  18.1  17.0  16.1  15.6  15.2  14.9  13.6  \n",
      "12    17.0  16.6  16.3  15.5  14.4  13.8  12.8  12.8  11.2  \n",
      "13    18.3  17.9  18.0  17.6  16.9  20.4  18.6  17.2  16.3  \n",
      "14    21.3  21.6  21.0  20.2  18.8  18.3  20.4  19.1  18.2  \n",
      "15    23.1  23.4  22.9  21.9  21.2  25.7  22.9  22.0  21.3  \n",
      "16    27.6  22.0  21.5  20.2  18.8  18.5  23.6  18.9  14.4  \n",
      "17    20.9  20.1  23.2  21.5  21.6  21.1  18.9  18.3  18.5  \n",
      "18    19.6  23.6  22.0  17.7  20.9  19.2  18.2  14.6  14.1  \n",
      "19    18.8  18.6  18.4  17.7  16.2  16.5  16.2  16.2  19.5  \n",
      "20    20.2  19.2  19.1  18.7  17.5  17.2  17.1  17.1  17.3  \n",
      "21    19.6  19.0  18.3  17.5  16.7  16.2  16.2  16.1  15.9  \n",
      "22    19.0  20.8  22.0  21.6  20.6  19.2  18.7  13.6  15.1  \n",
      "23    21.7  22.2  22.0  20.7  18.9  21.3  18.5  16.9  15.7  \n",
      "24    23.4  23.4  23.0  27.0  19.6  22.4  20.8  19.2  18.3  \n",
      "25    23.7  23.7  23.3  22.1  19.8  18.8  22.8  20.8  20.0  \n",
      "26    30.8  24.5  23.6  21.9  20.3  18.7  18.0  18.2  18.0  \n",
      "27    24.6  24.0  23.1  21.9  20.2  20.2  24.4  22.4  21.5  \n",
      "28    25.1  25.1  24.6  28.4  21.8  25.8  23.4  21.5  20.5  \n",
      "29    25.2  25.0  24.4  23.2  28.1  21.8  20.3  23.7  23.2  \n",
      "30    21.8  20.8  19.2  18.6  17.4  18.7  18.6  22.8  16.7  \n",
      "31    19.1  20.0  19.4  21.8  22.4  21.8  20.6  19.4  18.1  \n",
      "\n",
      "[31 rows x 24 columns]\n",
      "\n",
      "Month: 9\n",
      "Hour    1     2     3     4     5     6     7     8     9     10  ...    15  \\\n",
      "Day                                                               ...         \n",
      "1     16.8  16.4  15.9  15.3  14.9  14.8  13.8  14.6  15.8  17.8  ...  21.8   \n",
      "2     17.2  16.8  16.1  14.8  14.2  13.3  13.0  14.6  15.2  15.9  ...  18.0   \n",
      "3     14.2  14.3  13.9  13.3  13.3  12.8  12.0  12.0  13.1  14.9  ...  20.4   \n",
      "4     14.4  14.3  13.5  13.8  14.1  14.3  14.5  13.8  13.7  15.4  ...  20.4   \n",
      "5     14.9  14.8  14.7  13.5  12.7  10.6  10.4  11.1  13.7  16.6  ...  20.2   \n",
      "6     11.9  11.5  11.6  10.6  10.3  10.0   9.9  10.2  10.1  10.7  ...  12.2   \n",
      "7     10.4  10.4  10.7  10.4  10.1  10.2  10.0  10.6  11.6  13.2  ...  15.1   \n",
      "8     12.6  12.7  12.4  12.1  10.7   9.9   9.7   9.7   9.2   8.9  ...   9.4   \n",
      "9      8.5   8.6   8.6   8.5   7.7   7.5   7.2   8.2   9.1  11.0  ...  16.0   \n",
      "10    10.9  11.6  11.3  11.4  11.1  10.7  10.4   9.3  11.3  13.0  ...  17.4   \n",
      "11    13.9  13.6  13.8  13.1  12.8  12.8  12.2  11.0  12.5  14.8  ...  20.1   \n",
      "12    15.4  15.1  14.6  13.6  13.1  12.2  11.9  11.8  13.3  15.4  ...  20.9   \n",
      "13    16.6  16.6  16.3  15.8  15.4  15.4  14.9  13.6  15.3  16.8  ...  23.0   \n",
      "14    16.5  16.5  16.2  16.1  15.9  15.2  15.1  13.7  15.1  17.6  ...  22.0   \n",
      "15    17.5  17.0  16.4  15.6  15.0  14.9  14.9  14.5  15.5  16.7  ...  22.6   \n",
      "16    16.9  16.2  15.7  15.6  15.5  15.4  15.3  14.0  16.3  18.6  ...  23.5   \n",
      "17    18.3  18.4  18.2  18.2  17.5  17.4  17.3  16.3  16.2  17.9  ...  21.8   \n",
      "18    17.0  17.0  16.5  16.0  15.2  14.9  14.5  14.2  15.8  17.7  ...  18.6   \n",
      "19    13.0  12.5  12.3  12.5  12.1  12.3  12.4  12.1  12.0  12.2  ...  15.9   \n",
      "20    10.5  11.1  11.1  10.7  10.6  10.2   9.6   9.5   8.8   9.6  ...  13.6   \n",
      "21     9.7   9.2   8.8   7.6   7.0   6.5   5.9   5.8   7.9  10.7  ...  16.5   \n",
      "22    11.3  11.1  10.0  10.3   9.8  10.7  10.3  10.7  10.6  10.8  ...  13.2   \n",
      "23    12.1  12.2  12.1  12.0  11.7  11.8  11.8  11.2  11.8  12.9  ...  12.3   \n",
      "24     9.9   9.8  10.1  10.1   9.3   9.2   8.6   7.7   9.6  11.4  ...  16.3   \n",
      "25    11.6  10.7  10.7  10.7  10.6  10.7  10.5   9.5  10.7  12.2  ...  16.3   \n",
      "26    10.1   9.9   9.8   9.5   7.9   7.8   7.7   7.8  10.1  12.5  ...  17.0   \n",
      "27    13.9  13.1  12.9  12.8  12.6  12.5  12.4  11.6  11.9  13.2  ...  16.4   \n",
      "28    13.3  13.1  13.1  13.0  12.9  12.7  12.6  12.8  13.3  14.7  ...  18.9   \n",
      "29    13.4  12.9  13.3  13.2  12.9  12.1  11.8  11.4  12.0  14.2  ...  18.2   \n",
      "30    13.3  12.9  13.2  13.5  13.1  11.1   9.6   9.3  11.1  14.6  ...  21.2   \n",
      "\n",
      "Hour    16    17    18    19    20    21    22    23    24  \n",
      "Day                                                         \n",
      "1     21.6  20.9  20.7  20.0  19.5  19.8  19.3  18.4  17.4  \n",
      "2     18.2  19.0  18.7  17.7  18.1  17.5  16.6  15.8  14.4  \n",
      "3     20.5  20.2  19.6  18.2  16.5  16.3  15.8  15.9  14.0  \n",
      "4     20.7  20.9  20.3  19.1  17.2  16.8  16.5  15.8  15.1  \n",
      "5     20.5  20.0  20.1  18.5  18.0  15.6  15.1  13.7  13.5  \n",
      "6     12.4  11.8  11.7  11.4  10.9  10.9  11.2  11.1  10.5  \n",
      "7     15.6  14.0  13.2  12.9  11.8  12.5  12.3  12.7  12.5  \n",
      "8      9.8  10.2  10.1   9.6   9.3   9.0   8.9   8.4   8.8  \n",
      "9     16.5  16.5  15.6  13.7  11.7  12.1  12.9  13.0  11.2  \n",
      "10    17.7  17.6  16.7  15.2  15.1  15.6  15.0  14.4  14.0  \n",
      "11    20.2  19.8  18.9  18.5  17.9  17.4  17.0  16.3  15.8  \n",
      "12    21.4  20.8  20.4  19.0  17.7  17.3  17.0  16.8  16.3  \n",
      "13    23.3  22.9  21.9  19.9  18.0  18.3  17.7  17.1  16.5  \n",
      "14    22.0  21.3  20.6  19.6  18.1  17.8  17.9  17.8  17.5  \n",
      "15    23.0  23.1  22.2  20.3  18.2  18.6  18.3  17.6  17.2  \n",
      "16    23.1  22.8  22.1  20.6  20.3  19.9  19.1  18.4  18.0  \n",
      "17    21.7  21.6  20.8  20.0  19.6  19.2  19.1  18.5  18.1  \n",
      "18    18.1  17.5  16.6  15.6  14.6  13.9  13.8  13.4  13.2  \n",
      "19    15.7  15.1  14.6  13.9  13.0  11.7  11.2  10.7  10.2  \n",
      "20    13.7  13.6  13.4  12.0  10.2  10.4  10.5  10.4  10.1  \n",
      "21    16.3  15.9  15.0  12.7  12.1  11.6  12.1  11.9  11.2  \n",
      "22    13.7  13.3  12.7  11.5  11.4  11.4  11.6  11.4  11.8  \n",
      "23    12.2  11.7  11.7  10.9  10.2  10.4  10.3  10.1  10.2  \n",
      "24    16.7  16.5  15.9  13.9  13.8  13.2  13.0  12.5  11.7  \n",
      "25    16.1  15.4  14.2  13.6  12.3  12.2  12.4  11.6  10.5  \n",
      "26    17.4  17.4  16.7  16.5  15.7  15.4  15.1  14.5  14.2  \n",
      "27    16.4  16.3  15.8  14.6  13.4  13.6  13.6  13.3  13.3  \n",
      "28    19.0  18.2  17.5  15.4  14.7  14.9  14.8  14.0  13.3  \n",
      "29    17.9  17.6  17.0  15.3  14.3  14.0  14.4  14.0  13.2  \n",
      "30    21.0  20.4  19.3  16.0  15.5  15.1  14.7  14.2  13.7  \n",
      "\n",
      "[30 rows x 24 columns]\n",
      "\n",
      "Month: 10\n",
      "Hour    1     2     3     4     5     6     7     8     9     10  ...    15  \\\n",
      "Day                                                               ...         \n",
      "1     13.1  12.6  12.4  12.1  11.7  11.6  11.8  10.5  11.9  12.6  ...  16.4   \n",
      "2     11.8  11.4  11.5  11.3  11.3  11.6  11.6  10.8  11.3  13.0  ...  15.9   \n",
      "3     13.0  12.6  12.6  12.2  11.9  11.3  10.7   9.9  11.1  13.2  ...  17.1   \n",
      "4     11.3  10.2  10.2  10.2  10.4  10.1  10.2  10.3  10.1  11.6  ...  16.6   \n",
      "5     11.9  11.5  11.4  11.0  11.0  10.5  10.5  10.1  10.9  12.1  ...  16.0   \n",
      "6     12.6  12.0  11.5  10.9  10.4  10.0   9.3   9.2   9.9  11.4  ...  16.7   \n",
      "7     12.3  12.1  11.9  11.4  11.2  10.1   9.5   9.3  10.1  11.9  ...  17.9   \n",
      "8     13.6  13.5  13.7  13.3  13.4  13.1  13.2  13.1  12.8  13.6  ...  19.4   \n",
      "9     12.8  11.8  11.2  10.8  10.0   9.7   9.2   8.6   9.3  10.8  ...  14.5   \n",
      "10    10.0  10.1   9.7  10.2  10.1  10.0  10.0  10.1  10.3  10.8  ...  16.5   \n",
      "11    12.6  12.6  13.1  12.9  12.6  12.4  11.9  10.9  11.0  12.4  ...  14.2   \n",
      "12     7.7   7.0   6.7   6.3   5.8   6.1   6.9   7.2   8.2   9.7  ...  11.7   \n",
      "13     9.9  10.1   9.9   9.5   9.3   9.3   8.9   8.7   9.0  10.8  ...  14.5   \n",
      "14    10.0   9.6   9.7   7.4   8.1   8.2   8.4   8.4   8.9   9.2  ...  10.4   \n",
      "15     8.6   8.1   8.1   7.7   7.3   7.1   6.6   6.2   6.9   8.1  ...  10.8   \n",
      "16     9.3   9.5   9.7   9.7   9.3   9.3   9.1   9.0   8.9   8.7  ...   9.1   \n",
      "17     4.6   4.2   4.4   4.2   4.0   4.3   4.2   4.3   4.8   6.3  ...  11.8   \n",
      "18     7.8   7.5   7.2   7.3   6.8   7.2   7.0   7.0   6.9   8.4  ...  12.5   \n",
      "19     9.6   9.4   9.5   9.0   8.6   7.9   7.6   7.1   7.0   9.1  ...  15.8   \n",
      "20     9.5   9.3   9.4   8.7   7.7   7.3   6.8   6.9   6.9  10.4  ...  17.7   \n",
      "21     9.5   9.1   9.1   8.2   7.3   6.0   5.5   5.2   5.6   9.2  ...  18.3   \n",
      "22    10.3  10.0   9.6   9.0   8.4   7.7   7.2   5.9   6.4  10.2  ...  19.4   \n",
      "23    12.4  12.1  12.1  11.7  11.4  11.1  10.9  10.4   9.5  12.7  ...  19.5   \n",
      "24    11.0  10.5  10.4   9.6   8.3   7.4   5.6   5.0   6.2   9.5  ...  17.7   \n",
      "25    10.4   9.4   8.8   7.6   6.9   6.0   5.1   4.3   4.6   7.8  ...  15.8   \n",
      "26     9.8   9.2   8.9   8.4   7.7   7.1   6.5   6.2   5.6   8.0  ...  16.0   \n",
      "27    10.1   8.9   8.4   8.5   8.2   7.8   7.4   7.0   6.7   7.8  ...   9.4   \n",
      "28     8.9   8.7   8.9   9.0   9.0   9.0   9.0   8.9   8.9   8.9  ...   9.7   \n",
      "29     3.8   3.6   3.1   2.9   2.4   2.1   1.9   1.5   1.0   0.8  ...  -0.8   \n",
      "30    -2.4  -1.6  -1.6  -1.9  -3.0  -2.8  -2.7  -2.8  -3.7  -4.0  ...   2.7   \n",
      "31     1.2   0.3   0.4   0.1   0.0   0.2   0.1   0.4   0.1   1.6  ...   5.8   \n",
      "\n",
      "Hour    16    17    18    19    20    21    22    23    24  \n",
      "Day                                                         \n",
      "1     16.5  15.4  14.6  14.6  14.3  13.6  14.0  13.5  12.0  \n",
      "2     15.6  15.2  14.8  13.7  13.5  13.4  13.1  13.3  12.8  \n",
      "3     15.9  15.6  14.6  14.4  13.2  12.9  13.0  12.8  12.0  \n",
      "4     16.5  16.0  15.3  13.0  12.9  12.9  13.1  12.8  12.2  \n",
      "5     16.1  15.8  15.5  14.3  15.2  14.9  14.5  14.2  13.1  \n",
      "6     16.8  15.8  15.2  13.2  13.3  13.4  12.6  12.7  12.5  \n",
      "7     17.8  16.8  15.9  14.1  14.9  14.4  14.4  14.5  13.9  \n",
      "8     19.5  18.8  17.7  17.2  15.5  15.8  15.2  14.7  13.8  \n",
      "9     14.2  13.6  12.9  10.8  10.2  10.5  10.4  10.5   9.9  \n",
      "10    16.9  16.9  15.4  15.6  14.6  14.2  13.9  13.2  12.2  \n",
      "11    13.9  13.7  12.9  12.3  12.7  12.7  12.1  11.9   8.9  \n",
      "12    11.7  11.4  11.2  10.4   9.8  10.1  10.1  10.0   9.8  \n",
      "13    14.9  14.6  13.3  13.4  13.1  12.5  12.0  11.5  10.7  \n",
      "14    10.4  10.5  10.3   9.9   9.6   9.0   8.8   9.2   8.3  \n",
      "15    10.6  10.4  10.1   9.6   9.3   9.5   9.1   9.2   9.6  \n",
      "16     8.6   8.1   7.7   6.6   5.4   4.8   4.5   4.2   4.7  \n",
      "17    12.4  11.8   9.8  10.9  10.9  10.3   9.6   8.8   8.3  \n",
      "18    12.2  11.8  10.7   9.6  10.6  10.2   9.9   9.9   9.5  \n",
      "19    16.0  15.1  13.3  12.7  11.7  11.0  10.5  10.1   9.6  \n",
      "20    17.6  16.1  15.1  14.1  12.4  11.6  10.8  10.8  10.2  \n",
      "21    18.0  16.8  16.1  14.3  13.1  12.6  12.0  11.5  10.7  \n",
      "22    19.3  18.2  17.7  15.5  14.5  14.3  13.9  13.5  13.0  \n",
      "23    19.5  18.4  17.7  15.7  14.6  14.3  13.3  11.8  11.8  \n",
      "24    17.4  16.4  15.6  14.1  12.9  12.5  12.0  11.6  11.4  \n",
      "25    15.5  14.1  13.1  11.6  11.0  10.6  10.4  10.2   9.8  \n",
      "26    15.9  14.4  12.2  11.2  10.8  10.4  10.5  10.3  10.6  \n",
      "27     9.0   8.8   8.8   8.6   8.4   8.6   8.5   8.8   9.0  \n",
      "28     9.9   9.3   8.9   8.7   8.4   8.1   6.9   5.7   4.3  \n",
      "29    -1.3  -1.4  -1.2  -1.0  -1.4  -1.7  -2.6  -2.1  -2.0  \n",
      "30     2.5   2.0   2.6   1.9   1.6   1.0   0.2  -1.0   1.5  \n",
      "31     5.6   4.3   2.0   1.4   1.8   1.8   2.8   3.9   4.5  \n",
      "\n",
      "[31 rows x 24 columns]\n",
      "\n",
      "Month: 11\n",
      "Hour   1    2    3    4    5    6    7    8    9    10  ...    15    16    17  \\\n",
      "Day                                                     ...                     \n",
      "1     5.5  5.3  5.2  5.1  5.1  5.2  5.2  5.2  5.6  6.2  ...   6.5   6.4   6.5   \n",
      "2     4.0  4.1  3.3  2.6  2.5  3.0  2.5  2.3  3.5  5.0  ...   9.9   9.0   7.9   \n",
      "3     6.1  5.3  4.5  3.9  3.6  3.7  4.8  4.9  5.6  6.5  ...   6.1   6.0   5.9   \n",
      "4     5.2  5.0  5.2  5.3  5.0  4.9  5.0  4.9  4.8  4.8  ...   6.3   6.5   5.7   \n",
      "5     2.7  2.6  0.9 -0.4 -1.0 -1.5 -2.4 -3.1 -2.2 -0.2  ...   6.5   6.2   5.0   \n",
      "6     1.8  0.7 -0.7 -0.6 -0.9 -2.1 -2.8 -2.5 -1.3  1.2  ...   6.6   6.8   5.6   \n",
      "7     1.8  1.9  1.5  1.0 -0.3 -0.4 -0.1  0.4 -0.1  2.8  ...  10.7  11.0  10.8   \n",
      "8     4.7  4.3  3.8  3.8  2.7  1.9  2.5  2.8  3.3  3.9  ...   5.1   5.6   5.4   \n",
      "9    -1.5 -1.7 -1.9 -1.6 -1.7 -2.0 -3.1 -3.1 -1.3  1.8  ...  10.9  10.8  10.7   \n",
      "10    6.2  4.8  4.8  5.2  5.7  6.1  6.6  9.0  6.2  9.9  ...  14.9  16.0  13.9   \n",
      "11    8.2  7.1  6.2  5.4  5.2  5.5  4.9  4.6  4.2  7.4  ...  14.9  14.9  14.3   \n",
      "12    6.8  6.2  5.9  5.6  6.0  6.0  6.3  5.9  5.1  6.8  ...  13.5  13.1  11.0   \n",
      "13    5.1  4.8  4.1  3.7  3.5  2.8  2.0  1.7  2.6  4.5  ...   9.7   8.9   8.0   \n",
      "14    6.3  6.1  5.9  5.7  5.7  5.5  5.3  5.0  4.8  4.5  ...   5.6   5.9   5.9   \n",
      "15    4.2  4.2  4.4  4.9  4.7  5.3  5.1  5.2  6.1  6.4  ...   8.1   8.6   8.5   \n",
      "16    6.2  5.8  5.0  4.9  4.5  3.7  3.4  3.2  3.1  4.3  ...   8.5   8.0   7.7   \n",
      "17    6.8  7.1  6.7  7.2  7.6  7.8  8.0  7.8  7.7  7.6  ...   9.2   9.1   8.8   \n",
      "18    5.5  4.3  3.9  3.0  2.8  2.8  2.7  3.0  3.4  4.8  ...   9.6   9.1   8.5   \n",
      "19    5.5  4.1  2.5  2.0  1.4  1.1  1.0  0.8  1.0  3.7  ...  12.4  12.4  12.4   \n",
      "20    5.9  5.4  4.7  3.8  3.1  3.0  2.8  2.6  2.4  4.7  ...  12.3  12.1  11.8   \n",
      "21    6.8  6.4  5.9  5.2  4.9  4.5  3.9  3.5  3.1  3.3  ...   8.8   7.7   5.5   \n",
      "22    4.8  4.6  4.6  4.7  4.6  4.5  4.6  4.7  4.5  4.8  ...   6.2   6.4   6.3   \n",
      "23    5.6  5.6  5.3  4.3  4.4  4.4  4.1  4.3  4.6  5.2  ...   7.0   6.9   5.8   \n",
      "24    3.3  3.4  3.3  3.1  2.9  2.8  3.0  2.5  2.3  2.7  ...   8.3   7.9   6.7   \n",
      "25    2.4  2.3  2.2  1.9  2.0  1.7  1.6  1.5  1.7  2.0  ...   3.5   3.0   2.8   \n",
      "26    4.1  3.9  3.3  3.0  2.8  2.4  2.1  1.9  1.7  2.8  ...   6.4   6.4   5.7   \n",
      "27    2.1  2.4  2.0  2.3  2.2  2.0  2.0  2.4  2.0  1.7  ...   4.6   4.5   3.1   \n",
      "28    0.5  0.1 -0.7 -1.0 -1.2 -1.4 -2.1 -1.3 -2.2 -3.6  ...   1.1   0.8   0.3   \n",
      "29   -2.2 -2.7 -3.3 -3.1 -3.1 -3.1 -3.6 -3.5 -2.7 -3.3  ...   1.9   1.9   1.4   \n",
      "30   -2.2 -2.9 -2.9 -3.1 -3.3 -3.2 -3.3 -3.6 -3.5 -1.0  ...   4.1   4.2   4.1   \n",
      "\n",
      "Hour    18    19    20   21   22   23   24  \n",
      "Day                                         \n",
      "1      6.1   6.0   6.2  6.1  5.6  4.6  3.8  \n",
      "2      7.7   6.2   7.0  7.6  6.4  6.0  5.8  \n",
      "3      5.9   6.0   5.7  5.7  5.6  5.5  5.6  \n",
      "4      5.8   4.2   3.8  3.6  3.6  2.3  2.9  \n",
      "5      4.9   4.5   4.0  4.1  4.1  3.7  2.8  \n",
      "6      6.5   5.7   5.3  4.8  3.5  2.7  2.4  \n",
      "7     10.5   8.7   7.5  7.4  6.8  5.3  5.2  \n",
      "8      5.8   5.3   5.4  5.6  2.9  0.6 -0.9  \n",
      "9      8.6   6.7   6.0  7.3  6.6  4.4  5.4  \n",
      "10    11.4   9.2   8.1  8.0  8.6  7.8  8.0  \n",
      "11    12.1  10.0   9.1  8.8  8.1  7.6  7.0  \n",
      "12    11.8  10.4   9.3  8.5  7.2  5.2  5.0  \n",
      "13     6.9   6.3   6.9  6.8  6.6  6.5  6.5  \n",
      "14     6.1   5.9   5.8  5.7  5.6  5.6  4.2  \n",
      "15     9.2   9.1   9.2  9.0  8.1  7.8  7.1  \n",
      "16     8.0   7.8   7.9  7.9  7.7  7.6  6.8  \n",
      "17     9.2   8.8   8.6  8.7  8.4  7.9  6.3  \n",
      "18     8.8   8.0   8.5  8.7  8.4  8.3  6.2  \n",
      "19    11.8  10.9  10.0  9.3  7.8  6.9  6.5  \n",
      "20    11.0   9.5   8.4  7.3  6.7  6.1  6.9  \n",
      "21     4.9   5.6   5.7  5.6  5.2  5.2  4.7  \n",
      "22     6.9   6.5   6.2  5.8  5.1  4.6  5.9  \n",
      "23     6.0   5.6   5.6  5.1  4.5  4.1  3.6  \n",
      "24     7.4   5.4   4.2  3.8  3.4  2.9  3.0  \n",
      "25     2.8   2.6   2.8  2.8  2.8  3.0  3.7  \n",
      "26     6.3   4.8   4.0  3.7  3.7  3.0  2.8  \n",
      "27     4.3   3.2   3.0  3.0  2.0  1.6  0.5  \n",
      "28     0.4  -0.4  -0.5 -0.8 -0.8 -0.7 -2.5  \n",
      "29     0.3  -0.6  -1.4 -1.1 -1.3 -1.6 -1.8  \n",
      "30     4.3   2.7   2.3  1.7  0.7 -0.3 -1.2  \n",
      "\n",
      "[30 rows x 24 columns]\n",
      "\n",
      "Month: 12\n",
      "Hour   1    2    3    4    5    6    7    8    9    10  ...   15   16    17  \\\n",
      "Day                                                     ...                   \n",
      "1    -1.9 -2.2 -2.4 -2.6 -2.7 -2.7 -2.9 -2.7 -2.4 -1.0  ...  3.4  3.6   3.5   \n",
      "2     2.2  2.2  2.1  2.0  2.1  2.0  1.7  1.8  1.8  2.1  ...  0.8  0.5   4.3   \n",
      "3     0.2  0.1  0.0 -3.0 -3.4 -4.0 -4.0 -3.9 -4.2 -3.9  ...  2.0  1.8   1.3   \n",
      "4    -4.4 -4.7 -4.6 -4.8 -5.1 -5.2 -4.4 -4.1 -3.6 -2.2  ...  2.8  3.5   4.2   \n",
      "5     1.3  1.2  1.1  0.7 -3.8 -3.8 -4.5 -4.3 -4.0 -3.7  ...  5.3  5.2   5.4   \n",
      "6     1.8  1.9  1.3  1.2  0.7  0.2 -2.1 -1.9 -1.8  0.1  ...  8.0  8.2   8.2   \n",
      "7     2.7  2.0  1.7  1.3  1.2  0.6  0.9  0.7  0.5  0.0  ...  6.4  6.3   3.2   \n",
      "8     0.5  0.4 -0.9  0.4  0.3  0.4  0.5  0.2  0.4  1.2  ...  2.9  2.3   0.9   \n",
      "9     0.1  0.0  0.6  0.1  0.6  0.2  3.5  1.4  3.5  3.5  ...  0.1  0.2   6.4   \n",
      "10   -2.3 -2.8 -3.1 -3.2 -3.8 -4.2 -4.6 -5.2 -4.4 -3.3  ...  0.1 -1.8  -2.1   \n",
      "11   -1.6 -1.6 -1.7 -1.7 -1.6  0.1  0.1  0.1  0.3  0.4  ...  0.6  1.0   1.2   \n",
      "12    2.7  2.4  2.2  2.1  2.0  1.5  1.5  1.5  2.1  2.0  ...  2.7  2.0   0.2   \n",
      "13    1.9  1.9  1.3  1.1  0.4  0.9  1.8  1.3  1.3  2.0  ...  2.8  2.0   0.1   \n",
      "14   -0.2  0.0  0.3  0.5  1.0  0.8  1.0  1.4  1.7  0.0  ...  5.1  3.8   2.4   \n",
      "15    1.2  1.2  1.7  1.8  1.7  1.8  2.0  2.2  2.8  3.3  ...  4.0  4.1   2.8   \n",
      "16    4.4  4.3  4.1  3.5  2.3  3.2  3.2  3.1  2.3  2.7  ...  2.0  1.8   0.5   \n",
      "17   -2.7 -3.5 -3.6 -3.5 -3.9 -3.9 -4.3 -4.5 -4.3 -3.9  ...  1.5  1.4   3.6   \n",
      "18   -2.1 -2.4 -0.7 -2.7 -3.9 -4.8 -4.6 -3.9 -4.0 -3.9  ...  3.0  2.5   2.1   \n",
      "19   -4.3 -4.7 -5.2 -5.6 -5.8 -5.8 -5.9 -5.6 -5.9 -5.5  ...  1.4  1.3   0.9   \n",
      "20   -1.8 -1.6 -1.9 -1.9 -2.4 -2.5 -2.2 -1.9 -2.8 -3.6  ...  2.4  1.8   1.8   \n",
      "21   -4.0 -4.8 -4.9 -5.1 -5.1 -5.6 -5.4 -4.3 -3.0 -2.9  ...  5.4  4.0   5.5   \n",
      "22    1.3  1.3  0.6 -2.5 -3.3 -3.3 -3.0 -3.4 -2.8  0.7  ...  4.6  5.0   5.5   \n",
      "23    0.5  0.3  0.4 -2.1 -2.7 -2.4 -1.9 -2.4 -2.6 -1.9  ...  7.5  7.3   7.7   \n",
      "24    2.5  2.6  2.5  2.3  1.8  1.1  1.1  0.9  0.3  0.1  ...  8.7  8.4  10.7   \n",
      "25   -0.1 -0.3 -0.7 -1.2 -1.9 -2.2 -3.0 -3.1 -3.1 -3.8  ...  7.7  6.0   7.0   \n",
      "26    1.8  1.9  1.6  1.5  0.8  0.9  1.0  1.4  1.8  1.9  ...  3.7  3.6   3.9   \n",
      "27    1.8  1.6  1.8  1.7  1.7  1.7  1.6  1.6  1.1  1.8  ...  1.5  1.1   1.0   \n",
      "28    0.3  0.3  0.1  1.3  0.4  0.2  0.2  0.3  3.8  4.1  ...  0.5  0.7   1.0   \n",
      "29    4.5  4.2  4.3  3.9  4.1  3.7  3.2  2.9  2.4  2.3  ...  5.0  5.1   3.8   \n",
      "30   -0.2  0.2  0.5 -0.1 -0.9 -1.6 -1.8 -1.2 -0.5 -0.3  ...  0.6  1.9   2.2   \n",
      "31   -1.3 -2.2 -1.3 -2.5 -2.7 -3.2 -3.1 -3.2 -3.1 -3.0  ...  2.6  2.0   2.8   \n",
      "\n",
      "Hour   18   19   20   21   22   23   24  \n",
      "Day                                      \n",
      "1     2.7  2.6  2.6  2.6  2.4  1.9  2.0  \n",
      "2     0.1  0.3  0.2  0.2  0.3  0.4 -1.4  \n",
      "3     1.2 -0.6 -1.5 -2.2 -3.1 -3.2 -3.8  \n",
      "4     4.3  3.6  3.3  2.8  2.1  1.6  1.3  \n",
      "5     4.4  3.8  3.5  3.0  2.5  1.9  2.0  \n",
      "6     7.0  6.3  5.8  5.3  4.8  4.2  3.1  \n",
      "7     3.4  1.9  1.3  0.6  0.5  0.1  0.8  \n",
      "8     1.2  1.4  1.6  1.6  0.6  0.8  0.4  \n",
      "9     5.4  3.6  2.0  1.3  0.8 -0.1 -1.9  \n",
      "10   -2.1 -2.1 -2.0 -1.9 -1.8 -1.7 -1.6  \n",
      "11    1.4  0.9  2.0  1.5  2.0  2.7  2.5  \n",
      "12    0.3  0.4  0.7  0.4  0.2  1.1  2.2  \n",
      "13    4.1  2.9  2.6  2.0  1.2  0.5 -0.1  \n",
      "14    2.0  1.5  0.9  1.5  0.8  0.1  1.5  \n",
      "15    2.7  1.8  0.6  1.3  1.3  0.9  4.5  \n",
      "16    1.3  1.1  0.5  0.2 -2.1 -2.5 -2.9  \n",
      "17    1.3 -0.2 -0.7 -1.0 -1.4 -1.7 -0.6  \n",
      "18    0.0 -1.2 -1.8 -2.5 -3.0 -3.5 -3.7  \n",
      "19    0.5 -1.3 -2.1 -2.6 -2.3 -2.0 -2.1  \n",
      "20    0.6 -0.8 -1.6 -2.3 -3.0 -3.2 -3.7  \n",
      "21    4.6  3.9  3.4  2.5  2.4  1.8  1.6  \n",
      "22    5.1  4.5  3.6  3.1  2.7  1.4  1.0  \n",
      "23    6.3  5.4  4.5  3.7  2.7  1.9  2.6  \n",
      "24    9.2  7.3  5.5  3.6  2.2  1.3  0.6  \n",
      "25    5.4  3.8  3.1  2.5  2.5  1.7  1.8  \n",
      "26    3.3  3.5  2.3  2.3  2.0  1.8  1.9  \n",
      "27    0.9  0.6  0.6  0.9  0.9  0.7  0.0  \n",
      "28    0.6  0.2  5.5  5.7  5.8  5.3  4.3  \n",
      "29    2.4  0.9  0.3 -0.2 -0.4 -0.9 -0.7  \n",
      "30    1.4  0.5 -0.3 -0.7 -1.3 -1.6 -1.5  \n",
      "31    2.7  1.4  0.6  1.8  1.9  1.9  2.1  \n",
      "\n",
      "[31 rows x 24 columns]\n"
     ]
    }
   ],
   "source": [
    "hourly_data = ut.extract_and_clean_hourly_data(weather_data)\n",
    "monthly_avg_temps = ut.compute_average_hourly_temperatures(hourly_data)\n",
    "ut.display_monthly_data(monthly_avg_temps)\n"
   ]
  },
  {
   "cell_type": "markdown",
   "metadata": {},
   "source": [
    "GEOMETRY BOUNDARY CONDITIONS"
   ]
  },
  {
   "cell_type": "code",
   "execution_count": 20,
   "metadata": {},
   "outputs": [],
   "source": [
    "setpoint_summer = 24\n",
    "setpoint_winter = 20\n",
    "\n",
    "occupancies = [50, 80, 100, 120, 250] \n",
    "max_occupancy = 250\n",
    "\n",
    "avg_wall = 0.62\n",
    "u_corr = 0.50"
   ]
  },
  {
   "cell_type": "code",
   "execution_count": 21,
   "metadata": {},
   "outputs": [
    {
     "name": "stdout",
     "output_type": "stream",
     "text": [
      "U-Values:\n",
      " - Walls: 3.31 W/m²·K\n",
      " - Windows: 3.54 W/m²·K\n",
      "U-Values validated:\n",
      " - Walls: 2.811612 W/m²·K\n",
      " - Windows: 3.040846 W/m²·K\n"
     ]
    }
   ],
   "source": [
    "wall_info = True\n",
    "\n",
    "if wall_info:\n",
    "\n",
    "    # Thermal conductivities (W/m·K)\n",
    "    lambda1 = 2.3  # Layer 1\n",
    "    lambda2 = 0.9  # Layer 2\n",
    "    lambda3 = 1.3  # Layer 3\n",
    "    lambda_avg = (lambda1 + lambda2 + lambda3) / 3  # Average thermal conductivity\n",
    "\n",
    "    # Wall thicknesses (m)\n",
    "    d1_wall = 0.45\n",
    "    d2_wall = 0.425\n",
    "    d3_wall = 0.465\n",
    "    d4_wall = 0.475\n",
    "\n",
    "    # Wall U-values\n",
    "    u1_walls = lambda_avg / d1_wall\n",
    "    u2_walls = lambda_avg / d2_wall\n",
    "    u3_walls = lambda_avg / d3_wall\n",
    "    u4_walls = lambda_avg / d4_wall\n",
    "\n",
    "    u_walls = [u1_walls, u2_walls, u3_walls, u4_walls]\n",
    "    total_u_value_walls = np.mean(u_walls)\n",
    "\n",
    "    # Thermal conductivities of window layers (W/m·K)\n",
    "    lambda1_w = 2.3   # Layer 1 (e.g., inner glass layer)\n",
    "    lambda2_w = 2.89  # Layer 2 (e.g., middle air gap)\n",
    "    lambda3_w = 2.93  # Layer 3 (e.g., outer glass layer)\n",
    "\n",
    "    # Thicknesses of window layers (m)\n",
    "    d1_window = 0.02   # Thickness of Layer 1\n",
    "    d2_window = 0.015  # Thickness of Layer 2\n",
    "    d3_window = 0.025  # Thickness of Layer 3\n",
    "\n",
    "    # Air film resistances (m²·K/W) - default values\n",
    "    R_air_inside = 0.13  # Inside air film resistance\n",
    "    R_air_outside = 0.13  # Outside air film resistance\n",
    "\n",
    "    # Calculate thermal resistances of individual layers\n",
    "    R1_window = d1_window / lambda1_w  # Resistance of Layer 1\n",
    "    R2_window = d2_window / lambda2_w  # Resistance of Layer 2\n",
    "    R3_window = d3_window / lambda3_w  # Resistance of Layer 3\n",
    "\n",
    "    # Total thermal resistance\n",
    "    R_total = R_air_inside + R_air_outside + R1_window + R2_window + R3_window\n",
    "\n",
    "    # U-value calculation (W/m²·K)\n",
    "    total_u_value_windows = 1 / R_total\n",
    "\n",
    "    # Print U-values\n",
    "    print(\"U-Values:\")\n",
    "    print(f\" - Walls: {total_u_value_walls:.2f} W/m²·K\")\n",
    "    print(f\" - Windows: {total_u_value_windows:.2f} W/m²·K\")\n",
    "\n",
    "    # Print U-values\n",
    "    print(\"U-Values validated:\")\n",
    "    print(f\" - Walls: {total_u_value_walls - u_corr:2f} W/m²·K\")\n",
    "    print(f\" - Windows: {total_u_value_windows - u_corr:2f} W/m²·K\")\n",
    "\n",
    "    total_u_value_walls = total_u_value_walls - u_corr\n",
    "    total_u_value_windows = total_u_value_windows - u_corr\n"
   ]
  },
  {
   "cell_type": "code",
   "execution_count": 22,
   "metadata": {},
   "outputs": [
    {
     "name": "stdout",
     "output_type": "stream",
     "text": [
      "Area walls 529.447667, Area walls correct 447.6\n",
      "Area windows 30.240000\n"
     ]
    }
   ],
   "source": [
    "lw1 = 33.86\n",
    "lw2 = 12.53\n",
    "lw3 = 12.23\n",
    "lw4 = 34.15\n",
    "lw = [lw1, lw2, lw3, lw4]\n",
    "l_walls = np.sum(lw)\n",
    "\n",
    "h1 = 9.02\n",
    "h2 = 8.39\n",
    "h3 = 10.34\n",
    "h4 = 9.07\n",
    "hw = [h1, h2, h3, h4]\n",
    "h_avg = np.sum(hw)/len(hw)\n",
    "\n",
    "wall_area = (l_walls * h_avg) * avg_wall \n",
    "wall_area_ = ((12.40 * 2) + (17.60 *2)) * 7.46\n",
    "print(f'Area walls {wall_area}, Area walls correct {wall_area_}')\n",
    "window_area = 12 * (1.20 * 2.10) # m² (approximate total window area)\n",
    "print(f'Area windows {window_area:2f}')\n"
   ]
  },
  {
   "cell_type": "code",
   "execution_count": 23,
   "metadata": {},
   "outputs": [
    {
     "name": "stdout",
     "output_type": "stream",
     "text": [
      "Heat loss through walls during winter: 34985.67 W\n",
      "Heat loss through windows during winter: 2556.35 W\n",
      "--> Total heat loss during winter: 37542.02 W\n",
      "------------------\n",
      "Heat gained through walls during winter: 8557.65 W\n",
      "Heat gained through windows during winter: 625.30 W\n",
      "--> Total heat gained during winter: 9182.94 W\n"
     ]
    }
   ],
   "source": [
    "area_walls = wall_area_\n",
    "area_windows = window_area\n",
    "\n",
    "delta_temp_winter = setpoint_winter - winter_min_temp\n",
    "delta_temp_summer = summer_max_temp - setpoint_summer\n",
    "\n",
    "# Winter\n",
    "Q_walls_winter = total_u_value_walls * area_walls * delta_temp_winter  # Heat loss through walls\n",
    "Q_windows_winter = total_u_value_windows * area_windows * delta_temp_winter  # Heat loss through windows\n",
    "\n",
    "Q_total_winter = Q_walls_winter + Q_windows_winter\n",
    "\n",
    "# Summer\n",
    "Q_walls_summer = total_u_value_walls * area_walls * delta_temp_summer  # Heat loss through walls\n",
    "Q_windows_summer = total_u_value_windows * area_windows * delta_temp_summer  # Heat loss through windows\n",
    "\n",
    "Q_total_summer = Q_walls_summer + Q_windows_summer\n",
    "\n",
    "print(f\"Heat loss through walls during winter: {Q_walls_winter:.2f} W\")\n",
    "print(f\"Heat loss through windows during winter: {Q_windows_winter:.2f} W\")\n",
    "print(f\"--> Total heat loss during winter: {Q_total_winter:.2f} W\")\n",
    "print('------------------')\n",
    "print(f\"Heat gained through walls during winter: {Q_walls_summer:.2f} W\")\n",
    "print(f\"Heat gained through windows during winter: {Q_windows_summer:.2f} W\")\n",
    "print(f\"--> Total heat gained during winter: {Q_total_summer:.2f} W\")\n"
   ]
  },
  {
   "cell_type": "markdown",
   "metadata": {},
   "source": [
    "HEAT GAINED / LOST"
   ]
  },
  {
   "cell_type": "code",
   "execution_count": 24,
   "metadata": {},
   "outputs": [
    {
     "name": "stdout",
     "output_type": "stream",
     "text": [
      "Occupancy: 20, Ventilation Intensity: 1231.12 W\n",
      "Occupancy: 50, Ventilation Intensity: 3077.81 W\n",
      "Occupancy: 80, Ventilation Intensity: 4924.50 W\n",
      "Occupancy: 100, Ventilation Intensity: 6155.62 W\n",
      "Occupancy: 120, Ventilation Intensity: 7386.75 W\n",
      "Occupancy: 150, Ventilation Intensity: 9233.44 W\n",
      "Occupancy: 175, Ventilation Intensity: 10772.34 W\n",
      "Occupancy: 200, Ventilation Intensity: 12311.25 W\n",
      "Occupancy: 250, Ventilation Intensity: 15389.06 W\n"
     ]
    }
   ],
   "source": [
    "air_density = 1.225  # kg/m³ (standard air density)\n",
    "air_specific_heat = 1005  # J/kg·K (specific heat capacity of air)\n",
    "ventilation_delta_t = 5  # Example temperature difference (supply - indoor) in °C\n",
    "occupancies = [20, 50, 80, 100, 120, 150, 175, 200, 250]  # Occupancy levels\n",
    "\n",
    "# Calculate ventilation airflow rate for each occupancy\n",
    "ventilation_airflow_rate = [0.01 * occupancy for occupancy in occupancies]  # 10 L/s per occupant\n",
    "\n",
    "# Calculate mass flow rate and ventilation intensity for each occupancy\n",
    "ventilation_intensities = [\n",
    "    airflow_rate * air_density * air_specific_heat * ventilation_delta_t\n",
    "    for airflow_rate in ventilation_airflow_rate\n",
    "]\n",
    "\n",
    "# Display results\n",
    "for occupancy, intensity in zip(occupancies, ventilation_intensities):\n",
    "    print(f\"Occupancy: {occupancy}, Ventilation Intensity: {intensity:.2f} W\")\n",
    "\n",
    "# Ventilation spread (example value)\n",
    "ventilation_spread = 2  # meters (Gaussian airflow spread)\n",
    "radiator_intensity = 1200  # in W\n",
    "radiator_spread = 5  # meters\n"
   ]
  },
  {
   "cell_type": "code",
   "execution_count": 25,
   "metadata": {},
   "outputs": [
    {
     "name": "stdout",
     "output_type": "stream",
     "text": [
      "Number of radiators: 8\n",
      "Ventilator Positions (x, y, z):\n",
      "[[111.1080837  21.6753268  16.5971623]\n",
      " [111.1080837  22.0786419  16.5971623]\n",
      " [136.0935059  21.6753268  16.5971623]\n",
      " [136.0935059  22.0786419  16.5971623]]\n"
     ]
    }
   ],
   "source": [
    "vertices = ut.read_vertices(vertices_file)\n",
    "vertices *= 1e-3  # Scale to meters\n",
    "\n",
    "radiator_positions = [\n",
    "    np.array([116.82, 14.47, 7.50]),\n",
    "    np.array([129.37, 15.03, 7.50]),\n",
    "    np.array([121.02, 14.76, 7.50]),\n",
    "    np.array([139.16, 15.03, 7.50]),\n",
    "\n",
    "    np.array([139.30, 28.20, 7.50]),\n",
    "    np.array([132.75, 28.43, 7.50]),\n",
    "    np.array([124.75, 28.66, 7.50]),\n",
    "    np.array([120.90, 28.69, 7.50])\n",
    "]\n",
    "\n",
    "num_radiators = len(radiator_positions)\n",
    "print(f'Number of radiators: {num_radiators}')\n",
    "\n",
    "num_ventilators = len(radiator_positions)\n",
    "ventilator_positions = ut.distribute_ventilators_on_ceiling(vertices, num_ventilators)\n",
    "\n",
    "print(\"Ventilator Positions (x, y, z):\")\n",
    "print(ventilator_positions)\n"
   ]
  },
  {
   "cell_type": "code",
   "execution_count": 26,
   "metadata": {},
   "outputs": [
    {
     "name": "stdout",
     "output_type": "stream",
     "text": [
      "\n",
      "Winter Conditions:\n",
      "{'location': 'Sample Location', 'indoor_temp': 20, 'walls': {'type': 'no-slip', 'u_value': np.float64(2.8116115716235557), 'temperature': 2.2}, 'windows': {'type': 'heat_flux', 'u_value': 3.040846, 'value': -50}, 'air': {'density': 1.225, 'specific_heat_capacity': 1005, 'temperature': None, 'humidity': None}, 'occupants': {'heat_source': 85}}\n",
      "\n",
      "Summer Conditions:\n",
      "{'location': 'Sample Location', 'indoor_temp': 24, 'walls': {'type': 'no-slip', 'u_value': np.float64(2.8116115716235557), 'temperature': 18.8}, 'windows': {'type': 'heat_flux', 'u_value': 3.040846, 'value': -50}, 'air': {'density': 1.225, 'specific_heat_capacity': 1005, 'temperature': None, 'humidity': None}, 'occupants': {'heat_source': 85}}\n",
      "\n",
      "Generated Scenarios:\n",
      "--------------------------------------------------\n",
      "\n",
      "Scenario 1: {'location': 'Sample Location', 'indoor_temp': 24, 'walls': {'type': 'no-slip', 'u_value': np.float64(2.8116115716235557), 'temperature': 2.2}, 'windows': {'type': 'heat_flux', 'u_value': 3.040846, 'value': -50, 'temperature': None}, 'air': {'density': 1.225, 'specific_heat_capacity': 1005, 'temperature': None, 'humidity': 50}, 'occupants': {'count': 20, 'heat_source': 1700, 'CO2_generation_rate': 0.1}, 'season': 'Winter', 'ventilation': {'airflow_rate': 0.2, 'intensity': 1231.125, 'spread': 2}}\n",
      "\n",
      "Scenario 2: {'location': 'Sample Location', 'indoor_temp': 24, 'walls': {'type': 'no-slip', 'u_value': np.float64(2.8116115716235557), 'temperature': 2.2}, 'windows': {'type': 'heat_flux', 'u_value': 3.040846, 'value': -50, 'temperature': None}, 'air': {'density': 1.225, 'specific_heat_capacity': 1005, 'temperature': None, 'humidity': 50}, 'occupants': {'count': 50, 'heat_source': 4250, 'CO2_generation_rate': 0.25}, 'season': 'Winter', 'ventilation': {'airflow_rate': 0.5, 'intensity': 3077.8125, 'spread': 2}}\n",
      "\n",
      "Scenario 3: {'location': 'Sample Location', 'indoor_temp': 24, 'walls': {'type': 'no-slip', 'u_value': np.float64(2.8116115716235557), 'temperature': 2.2}, 'windows': {'type': 'heat_flux', 'u_value': 3.040846, 'value': -50, 'temperature': None}, 'air': {'density': 1.225, 'specific_heat_capacity': 1005, 'temperature': None, 'humidity': 50}, 'occupants': {'count': 80, 'heat_source': 6800, 'CO2_generation_rate': 0.4}, 'season': 'Winter', 'ventilation': {'airflow_rate': 0.8, 'intensity': 4924.5, 'spread': 2}}\n",
      "\n",
      "Scenario 4: {'location': 'Sample Location', 'indoor_temp': 24, 'walls': {'type': 'no-slip', 'u_value': np.float64(2.8116115716235557), 'temperature': 2.2}, 'windows': {'type': 'heat_flux', 'u_value': 3.040846, 'value': -50, 'temperature': None}, 'air': {'density': 1.225, 'specific_heat_capacity': 1005, 'temperature': None, 'humidity': 50}, 'occupants': {'count': 100, 'heat_source': 8500, 'CO2_generation_rate': 0.5}, 'season': 'Winter', 'ventilation': {'airflow_rate': 1.0, 'intensity': 6155.625, 'spread': 2}}\n",
      "\n",
      "Scenario 5: {'location': 'Sample Location', 'indoor_temp': 24, 'walls': {'type': 'no-slip', 'u_value': np.float64(2.8116115716235557), 'temperature': 2.2}, 'windows': {'type': 'heat_flux', 'u_value': 3.040846, 'value': -50, 'temperature': None}, 'air': {'density': 1.225, 'specific_heat_capacity': 1005, 'temperature': None, 'humidity': 50}, 'occupants': {'count': 120, 'heat_source': 10200, 'CO2_generation_rate': 0.6}, 'season': 'Winter', 'ventilation': {'airflow_rate': 1.2, 'intensity': 7386.75, 'spread': 2}}\n",
      "\n",
      "Scenario 6: {'location': 'Sample Location', 'indoor_temp': 24, 'walls': {'type': 'no-slip', 'u_value': np.float64(2.8116115716235557), 'temperature': 2.2}, 'windows': {'type': 'heat_flux', 'u_value': 3.040846, 'value': -50, 'temperature': None}, 'air': {'density': 1.225, 'specific_heat_capacity': 1005, 'temperature': None, 'humidity': 50}, 'occupants': {'count': 150, 'heat_source': 12750, 'CO2_generation_rate': 0.75}, 'season': 'Winter', 'ventilation': {'airflow_rate': 1.5, 'intensity': 9233.437500000002, 'spread': 2}}\n",
      "\n",
      "Scenario 7: {'location': 'Sample Location', 'indoor_temp': 24, 'walls': {'type': 'no-slip', 'u_value': np.float64(2.8116115716235557), 'temperature': 2.2}, 'windows': {'type': 'heat_flux', 'u_value': 3.040846, 'value': -50, 'temperature': None}, 'air': {'density': 1.225, 'specific_heat_capacity': 1005, 'temperature': None, 'humidity': 50}, 'occupants': {'count': 175, 'heat_source': 14875, 'CO2_generation_rate': 0.875}, 'season': 'Winter', 'ventilation': {'airflow_rate': 1.75, 'intensity': 10772.343750000002, 'spread': 2}}\n",
      "\n",
      "Scenario 8: {'location': 'Sample Location', 'indoor_temp': 24, 'walls': {'type': 'no-slip', 'u_value': np.float64(2.8116115716235557), 'temperature': 2.2}, 'windows': {'type': 'heat_flux', 'u_value': 3.040846, 'value': -50, 'temperature': None}, 'air': {'density': 1.225, 'specific_heat_capacity': 1005, 'temperature': None, 'humidity': 50}, 'occupants': {'count': 200, 'heat_source': 17000, 'CO2_generation_rate': 1.0}, 'season': 'Winter', 'ventilation': {'airflow_rate': 2.0, 'intensity': 12311.25, 'spread': 2}}\n",
      "\n",
      "Scenario 9: {'location': 'Sample Location', 'indoor_temp': 24, 'walls': {'type': 'no-slip', 'u_value': np.float64(2.8116115716235557), 'temperature': 2.2}, 'windows': {'type': 'heat_flux', 'u_value': 3.040846, 'value': -50, 'temperature': None}, 'air': {'density': 1.225, 'specific_heat_capacity': 1005, 'temperature': None, 'humidity': 50}, 'occupants': {'count': 250, 'heat_source': 21250, 'CO2_generation_rate': 1.25}, 'season': 'Winter', 'ventilation': {'airflow_rate': 2.5, 'intensity': 15389.0625, 'spread': 2}}\n",
      "\n",
      "Scenario 10: {'location': 'Sample Location', 'indoor_temp': 24, 'walls': {'type': 'no-slip', 'u_value': np.float64(2.8116115716235557), 'temperature': 18.8}, 'windows': {'type': 'heat_flux', 'u_value': 3.040846, 'value': -50, 'temperature': None}, 'air': {'density': 1.225, 'specific_heat_capacity': 1005, 'temperature': None, 'humidity': 50}, 'occupants': {'count': 20, 'heat_source': 1700, 'CO2_generation_rate': 0.1}, 'season': 'Summer', 'ventilation': {'airflow_rate': 0.2, 'intensity': 1231.125, 'spread': 2}}\n",
      "\n",
      "Scenario 11: {'location': 'Sample Location', 'indoor_temp': 24, 'walls': {'type': 'no-slip', 'u_value': np.float64(2.8116115716235557), 'temperature': 18.8}, 'windows': {'type': 'heat_flux', 'u_value': 3.040846, 'value': -50, 'temperature': None}, 'air': {'density': 1.225, 'specific_heat_capacity': 1005, 'temperature': None, 'humidity': 50}, 'occupants': {'count': 50, 'heat_source': 4250, 'CO2_generation_rate': 0.25}, 'season': 'Summer', 'ventilation': {'airflow_rate': 0.5, 'intensity': 3077.8125, 'spread': 2}}\n",
      "\n",
      "Scenario 12: {'location': 'Sample Location', 'indoor_temp': 24, 'walls': {'type': 'no-slip', 'u_value': np.float64(2.8116115716235557), 'temperature': 18.8}, 'windows': {'type': 'heat_flux', 'u_value': 3.040846, 'value': -50, 'temperature': None}, 'air': {'density': 1.225, 'specific_heat_capacity': 1005, 'temperature': None, 'humidity': 50}, 'occupants': {'count': 80, 'heat_source': 6800, 'CO2_generation_rate': 0.4}, 'season': 'Summer', 'ventilation': {'airflow_rate': 0.8, 'intensity': 4924.5, 'spread': 2}}\n",
      "\n",
      "Scenario 13: {'location': 'Sample Location', 'indoor_temp': 24, 'walls': {'type': 'no-slip', 'u_value': np.float64(2.8116115716235557), 'temperature': 18.8}, 'windows': {'type': 'heat_flux', 'u_value': 3.040846, 'value': -50, 'temperature': None}, 'air': {'density': 1.225, 'specific_heat_capacity': 1005, 'temperature': None, 'humidity': 50}, 'occupants': {'count': 100, 'heat_source': 8500, 'CO2_generation_rate': 0.5}, 'season': 'Summer', 'ventilation': {'airflow_rate': 1.0, 'intensity': 6155.625, 'spread': 2}}\n",
      "\n",
      "Scenario 14: {'location': 'Sample Location', 'indoor_temp': 24, 'walls': {'type': 'no-slip', 'u_value': np.float64(2.8116115716235557), 'temperature': 18.8}, 'windows': {'type': 'heat_flux', 'u_value': 3.040846, 'value': -50, 'temperature': None}, 'air': {'density': 1.225, 'specific_heat_capacity': 1005, 'temperature': None, 'humidity': 50}, 'occupants': {'count': 120, 'heat_source': 10200, 'CO2_generation_rate': 0.6}, 'season': 'Summer', 'ventilation': {'airflow_rate': 1.2, 'intensity': 7386.75, 'spread': 2}}\n",
      "\n",
      "Scenario 15: {'location': 'Sample Location', 'indoor_temp': 24, 'walls': {'type': 'no-slip', 'u_value': np.float64(2.8116115716235557), 'temperature': 18.8}, 'windows': {'type': 'heat_flux', 'u_value': 3.040846, 'value': -50, 'temperature': None}, 'air': {'density': 1.225, 'specific_heat_capacity': 1005, 'temperature': None, 'humidity': 50}, 'occupants': {'count': 150, 'heat_source': 12750, 'CO2_generation_rate': 0.75}, 'season': 'Summer', 'ventilation': {'airflow_rate': 1.5, 'intensity': 9233.437500000002, 'spread': 2}}\n",
      "\n",
      "Scenario 16: {'location': 'Sample Location', 'indoor_temp': 24, 'walls': {'type': 'no-slip', 'u_value': np.float64(2.8116115716235557), 'temperature': 18.8}, 'windows': {'type': 'heat_flux', 'u_value': 3.040846, 'value': -50, 'temperature': None}, 'air': {'density': 1.225, 'specific_heat_capacity': 1005, 'temperature': None, 'humidity': 50}, 'occupants': {'count': 175, 'heat_source': 14875, 'CO2_generation_rate': 0.875}, 'season': 'Summer', 'ventilation': {'airflow_rate': 1.75, 'intensity': 10772.343750000002, 'spread': 2}}\n",
      "\n",
      "Scenario 17: {'location': 'Sample Location', 'indoor_temp': 24, 'walls': {'type': 'no-slip', 'u_value': np.float64(2.8116115716235557), 'temperature': 18.8}, 'windows': {'type': 'heat_flux', 'u_value': 3.040846, 'value': -50, 'temperature': None}, 'air': {'density': 1.225, 'specific_heat_capacity': 1005, 'temperature': None, 'humidity': 50}, 'occupants': {'count': 200, 'heat_source': 17000, 'CO2_generation_rate': 1.0}, 'season': 'Summer', 'ventilation': {'airflow_rate': 2.0, 'intensity': 12311.25, 'spread': 2}}\n",
      "\n",
      "Scenario 18: {'location': 'Sample Location', 'indoor_temp': 24, 'walls': {'type': 'no-slip', 'u_value': np.float64(2.8116115716235557), 'temperature': 18.8}, 'windows': {'type': 'heat_flux', 'u_value': 3.040846, 'value': -50, 'temperature': None}, 'air': {'density': 1.225, 'specific_heat_capacity': 1005, 'temperature': None, 'humidity': 50}, 'occupants': {'count': 250, 'heat_source': 21250, 'CO2_generation_rate': 1.25}, 'season': 'Summer', 'ventilation': {'airflow_rate': 2.5, 'intensity': 15389.0625, 'spread': 2}}\n"
     ]
    }
   ],
   "source": [
    "base_conditions = {\n",
    "    \"location\": \"Sample Location\",\n",
    "    \"indoor_temp\": None,  # This will be updated for each season (e.g., setpoint_summer or setpoint_winter)\n",
    "    \"walls\": {\n",
    "        \"type\": \"no-slip\", \n",
    "        \"u_value\": None,  # This will be updated to `total_u_value_walls` dynamically\n",
    "        \"temperature\": None,  # Wall temperature\n",
    "    },\n",
    "    \"windows\": {\n",
    "        \"type\": \"heat_flux\", \n",
    "        \"u_value\": 3.040846,  # Windows U-value in W/m²·K\n",
    "        \"value\": -50,  # Cooling effect in W/m²\n",
    "    },\n",
    "    \"air\": {\n",
    "        \"density\": 1.225,  # Air density in kg/m³\n",
    "        \"specific_heat_capacity\": 1005,  # Air specific heat capacity in J/kg·K\n",
    "        \"temperature\": None,  # Will be updated dynamically\n",
    "        \"humidity\": None,  # Will be updated dynamically\n",
    "    },\n",
    "    \"occupants\": {\n",
    "        \"heat_source\": 85,  # Heat per person in W\n",
    "    }\n",
    "}\n",
    "\n",
    "seasons = {\n",
    "    \"Winter\": {\"indoor_temp\": setpoint_winter, \"wall_temperature\": winter_min_temp + setpoint_winter/2, \"u_value\": total_u_value_walls},\n",
    "    \"Summer\": {\"indoor_temp\": setpoint_summer, \"wall_temperature\": summer_max_temp - setpoint_summer/2, \"u_value\": total_u_value_walls},\n",
    "}\n",
    "\n",
    "for season, data in seasons.items():\n",
    "    print(f\"\\n{season} Conditions:\")\n",
    "    base_conditions[\"indoor_temp\"] = data[\"indoor_temp\"]\n",
    "    base_conditions[\"walls\"][\"u_value\"] = data[\"u_value\"]\n",
    "    base_conditions[\"walls\"][\"temperature\"] = data[\"wall_temperature\"]\n",
    "    print(base_conditions)\n",
    "\n",
    "def create_scenarios(seasons, occupancies, base_conditions):\n",
    "    \"\"\"\n",
    "    Generate scenarios for different seasons and occupancies with all relevant details for CFD analysis.\n",
    "    \"\"\"\n",
    "    if not isinstance(seasons, dict):\n",
    "        raise ValueError(\"Seasons must be a dictionary with season names and data.\")\n",
    "    if not all(isinstance(o, (int, float)) and o > 0 for o in occupancies):\n",
    "        raise ValueError(\"Occupancies must be a list of positive numbers.\")\n",
    "    if \"walls\" not in base_conditions or \"windows\" not in base_conditions or \"air\" not in base_conditions:\n",
    "        raise ValueError(\"Base conditions must define 'walls', 'windows', and 'air'.\")\n",
    "\n",
    "    scenarios = []\n",
    "\n",
    "    for season, season_data in seasons.items():\n",
    "        for occupancy in occupancies:\n",
    "            scenario = deepcopy(base_conditions)\n",
    "            scenario[\"season\"] = season\n",
    "            scenario[\"walls\"][\"temperature\"] = season_data.get(\"wall_temperature\")\n",
    "            scenario[\"windows\"][\"temperature\"] = season_data.get(\"outdoor_temp\")\n",
    "            scenario[\"air\"][\"temperature\"] = season_data.get(\"outdoor_temp\")\n",
    "            scenario[\"air\"][\"humidity\"] = season_data.get(\"humidity\", 50)\n",
    "            scenario[\"occupants\"] = {\n",
    "                \"count\": occupancy,\n",
    "                \"heat_source\": occupancy * base_conditions[\"occupants\"][\"heat_source\"],\n",
    "                \"CO2_generation_rate\": 0.005 * occupancy,  # CO2 generation (L/s per person)\n",
    "            }\n",
    "            scenario[\"ventilation\"] = {\n",
    "                \"airflow_rate\": ventilation_airflow_rate[occupancies.index(occupancy)],\n",
    "                \"intensity\": ventilation_intensities[occupancies.index(occupancy)],\n",
    "                \"spread\": ventilation_spread,\n",
    "            }\n",
    "            scenarios.append(scenario)\n",
    "\n",
    "    return scenarios\n",
    "\n",
    "print(\"\\nGenerated Scenarios:\\n\" + \"-\" * 50)\n",
    "scenarios = create_scenarios(seasons, occupancies, base_conditions)\n",
    "\n",
    "for i, scenario in enumerate(scenarios, start=1):\n",
    "    print(f\"\\nScenario {i}: {scenario}\")\n"
   ]
  },
  {
   "cell_type": "markdown",
   "metadata": {},
   "source": [
    "A1_ IMPLEMENTATION"
   ]
  },
  {
   "cell_type": "code",
   "execution_count": 28,
   "metadata": {},
   "outputs": [
    {
     "name": "stdout",
     "output_type": "stream",
     "text": [
      "Elevation: 190.0 meters\n",
      "Solar Zenith: 70.1721156020615°\n",
      "Solar Azimuth: 151.09572809863892°\n",
      "GHI: 284.4872461266306 W/m²\n",
      "DNI: 677.132182944577 W/m²\n",
      "DHI: 54.80686524632796 W/m²\n"
     ]
    }
   ],
   "source": [
    "solar_info = True\n",
    "\n",
    "if solar_info:\n",
    "\n",
    "    epw_path = weather_data\n",
    "    elevation = ut.get_elevation_from_epw(epw_path)\n",
    "    print(f\"Elevation: {elevation} meters\")\n",
    "\n",
    "    beta_angle = (180 - beta_angle)\n",
    "    latitude = location['Latitude']\n",
    "    longitude = location['Longitude']\n",
    "\n",
    "    time = datetime.now()\n",
    "\n",
    "    # Solar position calculation\n",
    "    solar_position = pvlib.solarposition.get_solarposition(\n",
    "        time, latitude, longitude, altitude=elevation\n",
    "    )\n",
    "\n",
    "    solar_zenith = solar_position['apparent_zenith'].iloc[0]\n",
    "    solar_azimuth = solar_position['azimuth'].iloc[0]\n",
    "\n",
    "    # Calculate relative airmass\n",
    "    airmass_relative = pvlib.atmosphere.get_relative_airmass(solar_zenith)\n",
    "    # Calculate atmospheric pressure from elevation\n",
    "    pressure = pvlib.atmosphere.alt2pres(elevation)  # Atmospheric pressure in Pascals\n",
    "    # Calculate absolute airmass\n",
    "    airmass_absolute = pvlib.atmosphere.get_absolute_airmass(airmass_relative, pressure)\n",
    "    # Assume Linke turbidity \n",
    "    linke_turbidity = 3  # Typical value for clear skies\n",
    "    # Calculate clear-sky irradiance using the Ineichen model\n",
    "    clearsky_model = pvlib.clearsky.ineichen(\n",
    "        solar_position['apparent_zenith'],\n",
    "        airmass_absolute,\n",
    "        linke_turbidity,\n",
    "        altitude=elevation\n",
    "    )\n",
    "\n",
    "    ghi = clearsky_model['ghi'].iloc[0]\n",
    "    dni = clearsky_model['dni'].iloc[0]\n",
    "    dhi = clearsky_model['dhi'].iloc[0]\n",
    "\n",
    "    print(f\"Solar Zenith: {solar_zenith}°\")\n",
    "    print(f\"Solar Azimuth: {solar_azimuth}°\")\n",
    "    print(f\"GHI: {ghi} W/m²\") # GHI (Global Horizontal Irradiance):\n",
    "    print(f\"DNI: {dni} W/m²\") # DNI (Direct Normal Irradiance):\n",
    "    print(f\"DHI: {dhi} W/m²\") # DHI (Diffuse Horizontal Irradiance):\n"
   ]
  },
  {
   "cell_type": "code",
   "execution_count": 29,
   "metadata": {},
   "outputs": [],
   "source": [
    "time_hours = 8\n",
    "shgc = 0.6  \n",
    "air = {\"u_value\": 0.35}  \n",
    "\n",
    "delta_temp_winter = setpoint_winter - winter_min_temp \n",
    "delta_temp_summer = summer_max_temp - setpoint_summer\n",
    "\n",
    "wall_material = \"medium\"\n",
    "if wall_material == \"light\":\n",
    "    wall_shgc = 0.3\n",
    "elif wall_material == \"medium\":\n",
    "    wall_shgc = 0.5\n",
    "else:\n",
    "    wall_shgc = 0.7  \n",
    "\n",
    "wall_shgc = 0.5\n"
   ]
  },
  {
   "cell_type": "markdown",
   "metadata": {},
   "source": [
    "SEASON TEMPERATURES"
   ]
  },
  {
   "cell_type": "code",
   "execution_count": 30,
   "metadata": {},
   "outputs": [
    {
     "name": "stdout",
     "output_type": "stream",
     "text": [
      "0       1.5\n",
      "1       1.0\n",
      "2       1.2\n",
      "3       1.0\n",
      "4       0.9\n",
      "       ... \n",
      "8753    0.6\n",
      "8754    1.8\n",
      "8755    1.9\n",
      "8756    1.9\n",
      "8757    2.1\n",
      "Name: Dry Bulb Temperature, Length: 8758, dtype: float64\n",
      "2208\n",
      "Average Summer Temperature (Celsius): 18.87\n",
      "Average Winter Temperature (Celsius): 2.38\n"
     ]
    }
   ],
   "source": [
    "with open(weather_data, 'r') as file:\n",
    "    lines = file.readlines()\n",
    "\n",
    "data_start_index = 0\n",
    "\n",
    "for i, line in enumerate(lines):\n",
    "    if line.startswith(\"DATA PERIODS\"):\n",
    "        data_start_index = i + 3\n",
    "        break\n",
    "\n",
    "column_names = [\n",
    "    \"Year\", \"Month\", \"Day\", \"Hour\", \"Minute\", \"Data Source\", \"Dry Bulb Temperature\", \n",
    "    \"Dew Point Temperature\", \"Relative Humidity\", \"Atmospheric Pressure\", \"Extraterrestrial Horizontal Radiation\", \n",
    "    \"Extraterrestrial Direct Normal Radiation\", \"Horizontal Infrared Radiation Intensity\", \n",
    "    \"Global Horizontal Radiation\", \"Direct Normal Radiation\", \"Diffuse Horizontal Radiation\", \n",
    "    \"Global Horizontal Illuminance\", \"Direct Normal Illuminance\", \"Diffuse Horizontal Illuminance\", \n",
    "    \"Zenith Luminance\", \"Wind Direction\", \"Wind Speed\", \"Total Sky Cover\", \"Opaque Sky Cover\", \n",
    "    \"Visibility\", \"Ceiling Height\", \"Present Weather Observation\", \"Present Weather Codes\", \n",
    "    \"Precipitable Water\", \"Aerosol Optical Depth\", \"Snow Depth\", \"Days Since Last Snowfall\", \n",
    "    \"Albedo\", \"Liquid Precipitation Depth\", \"Liquid Precipitation Quantity\"\n",
    "]\n",
    "\n",
    "data = pd.read_csv(\n",
    "    weather_data, \n",
    "    skiprows=data_start_index, \n",
    "    header=None, \n",
    "    names=column_names\n",
    ")\n",
    "\n",
    "metadata = data[[\"Year\", \"Month\", \"Day\", \"Hour\", \"Dry Bulb Temperature\"]]\n",
    "\n",
    "summer_months = [6, 7, 8]\n",
    "winter_months = [1, 11, 12]\n",
    "temperatures = data[\"Dry Bulb Temperature\"]\n",
    "print(temperatures)\n",
    "\n",
    "metadata.loc[:, \"Dry Bulb Temperature\"] = metadata[\"Dry Bulb Temperature\"]\n",
    "\n",
    "summer_temperatures = metadata[metadata[\"Month\"].isin(summer_months)]\n",
    "winter_temperatures = metadata[metadata[\"Month\"].isin(winter_months)]\n",
    "print(len(summer_temperatures))\n",
    "\n",
    "average_summer_temperature = summer_temperatures[\"Dry Bulb Temperature\"].mean()\n",
    "average_winter_temperature = winter_temperatures[\"Dry Bulb Temperature\"].mean()\n",
    "print(f\"Average Summer Temperature (Celsius): {average_summer_temperature:.2f}\")\n",
    "print(f\"Average Winter Temperature (Celsius): {average_winter_temperature:.2f}\")\n"
   ]
  },
  {
   "cell_type": "code",
   "execution_count": 31,
   "metadata": {},
   "outputs": [],
   "source": [
    "import pvlib\n",
    "from datetime import datetime\n",
    "from typing import Dict\n",
    "\n",
    "# Constants\n",
    "days_in_season = 90  \n",
    "hours_in_day = 24\n",
    "\n",
    "def wall_heat(walls_obj_path: str, ghi: float, air: Dict, wall_shgc: float, time_hours: int, setpoint: float, outdoor_temp: float, season: str):\n",
    "    \"\"\"\n",
    "    Calculate heat gain/loss through walls for summer or winter.\n",
    "    \"\"\"\n",
    "    try:\n",
    "        walls_mesh = trimesh.load(walls_obj_path)\n",
    "        walls_area = walls_mesh.area  # m²\n",
    "    except Exception as e:\n",
    "        raise ValueError(f\"Error loading wall geometry: {e}\")\n",
    "\n",
    "    delta_temp = setpoint - outdoor_temp if season == 'winter' else outdoor_temp - setpoint\n",
    "\n",
    "    # Conduction through walls\n",
    "    conduction_heat = walls_area * delta_temp * air[\"u_value\"]  # W\n",
    "\n",
    "    # Solar radiance gain (only in summer or optional for winter with ghi)\n",
    "    radiance_heat = ghi * walls_area * wall_shgc * time_hours if ghi and season == 'summer' else 0  # W\n",
    "\n",
    "    # Total wall heat\n",
    "    total_walls_heat = conduction_heat + radiance_heat\n",
    "    average_daily_wall_heat = total_walls_heat / (hours_in_day * days_in_season)\n",
    "\n",
    "    print(f\"Total wall heat daily ({season}): {average_daily_wall_heat:.2f} W\")\n",
    "    return total_walls_heat\n",
    "\n",
    "def windows_heat(windows_area: float, delta_temp: float, ghi: float, air: Dict, shgc: float, time_hours: int, season: str, occupancy: Dict, ventilation: Dict):\n",
    "    \"\"\"\n",
    "    Calculate heat load through windows and consider occupancy and ventilation losses.\n",
    "    \"\"\"\n",
    "    # Heat transfer through windows\n",
    "    conduction_heat = windows_area * delta_temp * air[\"u_value\"]  # W\n",
    "    radiance_heat = ghi * windows_area * shgc * time_hours if season == 'summer' else 0  # W\n",
    "\n",
    "    # Internal heat from occupants\n",
    "    occupancy_gain = occupancy[\"count\"] * occupancy[\"heat_source\"]  # W\n",
    "\n",
    "    # Ventilation loss\n",
    "    ventilation_loss = (\n",
    "        ventilation[\"airflow_rate\"] * air[\"specific_heat_capacity\"] * ventilation[\"delta_t\"]\n",
    "    )  # W\n",
    "\n",
    "    # Total heat load for windows\n",
    "    total_load = conduction_heat + radiance_heat + occupancy_gain - ventilation_loss\n",
    "    average_daily_windows_heat = total_load / (days_in_season * hours_in_day)\n",
    "\n",
    "    print(f\"Total windows daily heat ({season}): {average_daily_windows_heat:.2f} W\")\n",
    "    return total_load\n",
    "\n",
    "def calculate_ceiling_heat(ceiling_area: float, delta_temp: float, ghi: float, air: Dict, shgc: float, time_hours: int, season: str):\n",
    "    \"\"\"\n",
    "    Calculate heat load through ceilings for summer or winter.\n",
    "    \"\"\"\n",
    "    conduction_heat = ceiling_area * delta_temp * air[\"u_value\"]  # W\n",
    "    radiance_heat = ghi * ceiling_area * shgc * time_hours if season == 'summer' else 0  # W\n",
    "\n",
    "    total_ceiling_heat = conduction_heat + radiance_heat\n",
    "    average_daily_ceiling_heat = total_ceiling_heat / (days_in_season * hours_in_day)\n",
    "\n",
    "    print(f\"Ceiling heat load ({season}): {average_daily_ceiling_heat:.2f} W\")\n",
    "    return total_ceiling_heat\n",
    "\n",
    "def calculate_heat_load(walls_obj_path: str, windows_obj_path: str, ceiling_area: float, air: Dict, occupancy: Dict, ventilation: Dict, ghi: float, shgc: float, time_hours: int, setpoint: float, outdoor_temp: float, season: str):\n",
    "    \"\"\"\n",
    "    Calculate the total heat load for walls, windows, and ceilings for a given season.\n",
    "    \"\"\"\n",
    "    try:\n",
    "        walls_mesh = trimesh.load(walls_obj_path)\n",
    "        walls_area = walls_mesh.area  # m²\n",
    "        windows_mesh = trimesh.load(windows_obj_path)\n",
    "        windows_area = windows_mesh.area  # m²\n",
    "    except Exception as e:\n",
    "        raise ValueError(f\"Error loading geometry: {e}\")\n",
    "\n",
    "    delta_temp = setpoint - outdoor_temp if season == 'winter' else outdoor_temp - setpoint\n",
    "\n",
    "    # Calculate heat for each component\n",
    "    walls_heat = wall_heat(walls_obj_path, ghi, air, shgc, time_hours, setpoint, outdoor_temp, season)\n",
    "    windows_heat_load = windows_heat(windows_area, delta_temp, ghi, air, shgc, time_hours, season, occupancy, ventilation)\n",
    "    ceiling_heat_load = calculate_ceiling_heat(ceiling_area, delta_temp, ghi, air, shgc, time_hours, season)\n",
    "\n",
    "    # Total heat load\n",
    "    total_heat_load = walls_heat + windows_heat_load + ceiling_heat_load\n",
    "\n",
    "    print(f\"Total heat load ({season}): {total_heat_load:.2f} W\")\n",
    "    return total_heat_load\n"
   ]
  },
  {
   "cell_type": "code",
   "execution_count": 32,
   "metadata": {},
   "outputs": [],
   "source": [
    "air = {\"u_value\": 0.5, \"specific_heat_capacity\": 1005, \"temperature\": 35, \"indoor_temperature\": 22}\n",
    "occupancy = {\"count\": 4, \"heat_source\": 100}  # 100 W per person\n",
    "ventilation = {\"airflow_rate\": 0.1}  # m³/s\n",
    "ghi = 500  # W/m²\n",
    "shgc = 0.5\n",
    "time_hours = 8\n",
    "ceiling_area = 50  # m²\n",
    "\n",
    "specific_heat_capacity = 1005\n"
   ]
  },
  {
   "cell_type": "code",
   "execution_count": 33,
   "metadata": {},
   "outputs": [
    {
     "name": "stdout",
     "output_type": "stream",
     "text": [
      "Scenario 1 | Season: Winter | Occupancy: 20 | Heat Load: -44535.86 W\n",
      "Scenario 2 | Season: Winter | Occupancy: 50 | Heat Load: 16379.14 W\n",
      "Scenario 3 | Season: Winter | Occupancy: 80 | Heat Load: 230294.14 W\n",
      "Scenario 4 | Season: Winter | Occupancy: 100 | Heat Load: 457904.14 W\n",
      "Scenario 5 | Season: Winter | Occupancy: 120 | Heat Load: 753514.14 W\n",
      "Scenario 6 | Season: Winter | Occupancy: 150 | Heat Load: 1324429.14 W\n",
      "Scenario 7 | Season: Winter | Occupancy: 175 | Heat Load: 1917066.64 W\n",
      "Scenario 8 | Season: Winter | Occupancy: 200 | Heat Load: 2615954.14 W\n",
      "Scenario 9 | Season: Winter | Occupancy: 250 | Heat Load: 4332479.14 W\n",
      "Scenario 10 | Season: Summer | Occupancy: 20 | Heat Load: 122340.82 W\n",
      "Scenario 11 | Season: Summer | Occupancy: 50 | Heat Load: 433500.82 W\n",
      "Scenario 12 | Season: Summer | Occupancy: 80 | Heat Load: 897660.82 W\n",
      "Scenario 13 | Season: Summer | Occupancy: 100 | Heat Load: 1292100.82 W\n",
      "Scenario 14 | Season: Summer | Occupancy: 120 | Heat Load: 1754540.82 W\n",
      "Scenario 15 | Season: Summer | Occupancy: 150 | Heat Load: 2575700.82 W\n",
      "Scenario 16 | Season: Summer | Occupancy: 175 | Heat Load: 3376875.82 W\n",
      "Scenario 17 | Season: Summer | Occupancy: 200 | Heat Load: 4284300.82 W\n",
      "Scenario 18 | Season: Summer | Occupancy: 250 | Heat Load: 6417900.82 W\n"
     ]
    }
   ],
   "source": [
    "from copy import deepcopy\n",
    "\n",
    "def calculate_heat_load(walls, windows, air, occupancy, ventilation):\n",
    "    \"\"\"\n",
    "    Calculate total heat load based on building parameters.\n",
    "    \"\"\"\n",
    "    conduction = walls[\"u_value\"] * walls[\"temperature\"]\n",
    "    window_loss = windows[\"u_value\"] * windows[\"value\"]\n",
    "    occupancy_gain = occupancy[\"count\"] * occupancy[\"heat_source\"]\n",
    "    ventilation_loss = ventilation[\"airflow_rate\"] * air[\"specific_heat_capacity\"] * (air[\"temperature\"] - walls[\"temperature\"])\n",
    "    total_load = conduction + window_loss + occupancy_gain - ventilation_loss\n",
    "    return total_load\n",
    "\n",
    "def calculate_heat_summer(walls_obj_path, windows_obj_path, air, occupancy, ventilation, ghi, shgc, time_hours):\n",
    "    # Load the mesh for walls and calculate the total surface area\n",
    "    walls_mesh = trimesh.load(walls_obj_path)\n",
    "    walls_area = walls_mesh.area  # Total surface area of walls in m²\n",
    "\n",
    "    # Load the mesh for windows and calculate the total surface area\n",
    "    windows_mesh = trimesh.load(windows_obj_path)\n",
    "    windows_area = windows_mesh.area  # Total surface area of windows in m²\n",
    "\n",
    "    walls_heat = walls_area * air[\"temperature\"] * air[\"u_value\"]  # Basic conduction formula\n",
    "\n",
    "    windows_heat = (\n",
    "        windows_area * air[\"temperature\"] * air[\"u_value\"] + ghi * windows_area * shgc * time_hours\n",
    "    )\n",
    "    total_windows_heat = windows_heat / 1000  # Convert from W to kW\n",
    "\n",
    "    occupancy_gain = occupancy[\"count\"] * occupancy[\"heat_source\"]\n",
    "\n",
    "    ventilation_loss = (\n",
    "        ventilation[\"airflow_rate\"] * air[\"specific_heat_capacity\"] * (air[\"temperature\"] - air[\"indoor_temperature\"])\n",
    "    )\n",
    "\n",
    "    total_load = walls_heat + total_windows_heat + occupancy_gain - ventilation_loss\n",
    "\n",
    "    return {\n",
    "        \"walls_heat\": walls_heat / 1000,  # Convert to kW\n",
    "        \"windows_heat\": total_windows_heat,\n",
    "        \"occupancy_gain\": occupancy_gain,\n",
    "        \"ventilation_loss\": ventilation_loss / 1000,  # Convert to kW\n",
    "        \"total_load\": total_load / 1000,  # Convert to kW\n",
    "    }\n",
    "\n",
    "def create_scenarios(seasons, occupancies, base_conditions):\n",
    "    \"\"\"\n",
    "    Generate scenarios for different seasons and occupancies with all relevant details for CFD and energy analysis.\n",
    "    \"\"\"\n",
    "    scenarios = []\n",
    "    for season, season_data in seasons.items():\n",
    "        for occupancy in occupancies:\n",
    "            scenario = deepcopy(base_conditions)\n",
    "            scenario[\"season\"] = season\n",
    "            \n",
    "            # Ensure wall temperature is calculated\n",
    "            if season == 'Winter':\n",
    "                scenario[\"walls\"][\"temperature\"] = season_data.get(\"wall_temperature\", winter_min_temp + setpoint_winter / 2)\n",
    "            elif season == 'Summer':\n",
    "                scenario[\"walls\"][\"temperature\"] = season_data.get(\"wall_temperature\", summer_max_temp - setpoint_summer / 2)\n",
    "\n",
    "            # Ensure air temperature is set\n",
    "            scenario[\"air\"][\"temperature\"] = season_data.get(\"outdoor_temp\", 10)  # Default to 10°C if not provided\n",
    "\n",
    "            # Set default humidity if not provided\n",
    "            scenario[\"air\"][\"humidity\"] = season_data.get(\"humidity\", 50)\n",
    "\n",
    "            # Set occupants' heat source\n",
    "            scenario[\"occupants\"] = {\n",
    "                \"count\": occupancy,\n",
    "                \"heat_source\": occupancy * base_conditions[\"occupants\"][\"heat_source\"],\n",
    "            }\n",
    "\n",
    "            # Set ventilation parameters\n",
    "            scenario[\"ventilation\"] = {\n",
    "                \"airflow_rate\": 0.5 * occupancy,  # Example formula\n",
    "                \"spread\": \"uniform\",  # Placeholder\n",
    "            }\n",
    "\n",
    "            # Calculate heat load\n",
    "            try:\n",
    "                scenario[\"heat_load\"] = calculate_heat_load(\n",
    "                    scenario[\"walls\"], scenario[\"windows\"], scenario[\"air\"], scenario[\"occupants\"], scenario[\"ventilation\"]\n",
    "                )\n",
    "            except TypeError as e:\n",
    "                print(f\"Error in heat load calculation for scenario: {scenario}\")\n",
    "                raise e\n",
    "            \n",
    "            scenarios.append(scenario)\n",
    "    return scenarios\n",
    "\n",
    "scenarios = create_scenarios(seasons, occupancies, base_conditions)\n",
    "\n",
    "for i, scenario in enumerate(scenarios, start=1):\n",
    "    print(f\"Scenario {i} | Season: {scenario['season']} | Occupancy: {scenario['occupants']['count']} | Heat Load: {scenario['heat_load']:.2f} W\")\n"
   ]
  },
  {
   "cell_type": "code",
   "execution_count": 34,
   "metadata": {},
   "outputs": [
    {
     "name": "stdout",
     "output_type": "stream",
     "text": [
      "Current Working Directory: c:\\Users\\oscar\\OneDrive - Fondazione Bruno Kessler\\sensor_positioning\\script\n",
      "Walls Path: c:\\Users\\oscar\\OneDrive - Fondazione Bruno Kessler\\sensor_positioning\\model\\Walls.obj\n",
      "Windows Path: c:\\Users\\oscar\\OneDrive - Fondazione Bruno Kessler\\sensor_positioning\\model\\Windows.obj\n",
      "Walls.obj exists: True\n",
      "Windows.obj exists: True\n",
      "Walls Area (adjusted): 426.9605893214077\n",
      "Windows Area (adjusted): 15.09754096121111\n"
     ]
    }
   ],
   "source": [
    "if model_path == Path(r\"C:\\Users\\oscar\\OneDrive - Fondazione Bruno Kessler\\sensor_positioning\\model\"):\n",
    "   \n",
    "    walls_obj_path = model_path / \"Walls.obj\"\n",
    "    windows_obj_path = model_path / \"Windows.obj\"\n",
    "\n",
    "    print(f\"Current Working Directory: {os.getcwd()}\")\n",
    "    print(f\"Walls Path: {walls_obj_path}\")\n",
    "    print(f\"Windows Path: {windows_obj_path}\")\n",
    "    print(f\"Walls.obj exists: {walls_obj_path.exists()}\")\n",
    "    print(f\"Windows.obj exists: {windows_obj_path.exists()}\")\n",
    "\n",
    "    if walls_obj_path.exists():\n",
    "        walls_mesh = trimesh.load(walls_obj_path)\n",
    "        walls_area_adjusted = (walls_mesh.area * 10e-7)/2\n",
    "        print(f\"Walls Area (adjusted): {walls_area_adjusted}\")\n",
    "    else:\n",
    "        print(\"Walls.obj not found.\")\n",
    "\n",
    "    if windows_obj_path.exists():\n",
    "        windows_mesh = trimesh.load(windows_obj_path)\n",
    "        windows_area_adjusted = (windows_mesh.area * 10e-7)/2\n",
    "        print(f\"Windows Area (adjusted): {windows_area_adjusted}\")\n",
    "    else:\n",
    "        print(\"Windows.obj not found.\")\n"
   ]
  },
  {
   "cell_type": "code",
   "execution_count": 35,
   "metadata": {},
   "outputs": [],
   "source": [
    "from concurrent.futures import ProcessPoolExecutor\n",
    "from pathlib import Path\n",
    "from datetime import datetime, timedelta\n",
    "import json\n",
    "\n",
    "from math import ceil\n",
    "\n",
    "def load_mesh_area(mesh_path: Path, default_area: float = 50.0) -> float:\n",
    "    \"\"\"\n",
    "    Load a mesh file and return its area. If the file is missing, return a default area.\n",
    "    \"\"\"\n",
    "    if mesh_path.exists():\n",
    "        try:\n",
    "            mesh = trimesh.load(mesh_path)\n",
    "            return mesh.area\n",
    "        except Exception as e:\n",
    "            print(f\"Error loading mesh from {mesh_path}: {e}. Using default area: {default_area}\")\n",
    "    else:\n",
    "        print(f\"Warning: Mesh file '{mesh_path}' not found. Using default area: {default_area}\")\n",
    "        \n",
    "    return default_area\n",
    "\n",
    "def load_cached_areas(model_path):\n",
    "    \"\"\"\n",
    "    Load and cache mesh areas for walls and windows.\n",
    "    \"\"\"\n",
    "    try:\n",
    "        walls_area = load_mesh_area(model_path / 'Walls.obj', default_area=100.0) * 10e-6\n",
    "        windows_area = load_mesh_area(model_path / 'Windows.obj', default_area=25.0) * 10e-6\n",
    "    except Exception as e:\n",
    "        print(f\"Error loading mesh areas: {e}\")\n",
    "        walls_area = 100.0 * 10e-6\n",
    "        windows_area = 25.0 * 10e-6\n",
    "    return walls_area, windows_area\n",
    "\n",
    "def calculate_heat_balance(\n",
    "    walls_obj_path: Path,\n",
    "    windows_obj_path: Path,\n",
    "    air: dict,\n",
    "    occupancy: dict,\n",
    "    ventilation: dict,\n",
    "    ghi: float,\n",
    "    shgc: float,\n",
    "    time_hours: int,\n",
    "    setpoint: float,\n",
    "    outdoor_temp: float,\n",
    "    season: str,\n",
    "    ceiling_area: float = 50.0,\n",
    "    ceiling_u_value: float = 0.3\n",
    "):\n",
    "    \"\"\"\n",
    "    Calculate heat loss (Winter) or heat gain (Summer) based on building components and seasonal conditions.\n",
    "    \"\"\"\n",
    "    # Load wall and window areas\n",
    "    walls_area = load_mesh_area(walls_obj_path, default_area=100.0) * 10e-6  # Convert mm² to m²\n",
    "    windows_area = load_mesh_area(windows_obj_path, default_area=25.0) * 10e-6  # Convert mm² to m²\n",
    "    print(f\"Walls area: {walls_area:.2f} m²\")\n",
    "    print(f\"Windows area: {windows_area:.2f} m²\")\n",
    "\n",
    "    # Determine delta temperature based on the season\n",
    "    delta_temp = setpoint - outdoor_temp if season.lower() == \"winter\" else outdoor_temp - setpoint\n",
    "    print(f\"Delta temperature ({season}): {delta_temp:.2f} °C\")\n",
    "\n",
    "    # Heat loss/gain through walls\n",
    "    walls_heat = walls_area * delta_temp * air[\"u_value\"]\n",
    "    print(f\"Walls heat transfer: {walls_heat:.2f} W\")\n",
    "\n",
    "    # Heat loss/gain through windows\n",
    "    windows_heat = windows_area * delta_temp * air[\"u_value\"]\n",
    "    print(f\"Windows heat transfer: {windows_heat:.2f} W\")\n",
    "\n",
    "    # Heat loss/gain through ceiling\n",
    "    ceiling_heat = ceiling_area * delta_temp * ceiling_u_value\n",
    "    print(f\"Ceiling heat transfer: {ceiling_heat:.2f} W\")\n",
    "\n",
    "    # Solar radiance heat gain (applicable only for summer)\n",
    "    solar_heat = ghi * windows_area * shgc * time_hours if season.lower() == \"summer\" else 0\n",
    "    print(f\"Solar heat gain (Summer): {solar_heat:.2f} W\")\n",
    "\n",
    "    # Internal heat gain from occupants\n",
    "    internal_heat = occupancy[\"count\"] * occupancy[\"heat_source\"]\n",
    "    print(f\"Internal heat gain: {internal_heat:.2f} W\")\n",
    "\n",
    "    # Heat loss/gain through ventilation\n",
    "    ventilation_heat = ventilation[\"airflow_rate\"] * air[\"specific_heat_capacity\"] * delta_temp\n",
    "    print(f\"Ventilation heat transfer: {ventilation_heat:.2f} W\")\n",
    "\n",
    "    # Calculate total heat loss (winter) or heat gain (summer)\n",
    "    if season.lower() == \"winter\":\n",
    "        total_heat_loss = (\n",
    "            internal_heat\n",
    "            - walls_heat\n",
    "            - windows_heat\n",
    "            - ceiling_heat\n",
    "            - ventilation_heat\n",
    "        )\n",
    "        print(f\"Total heat loss (Winter): {total_heat_loss:.2f} W\")\n",
    "        return {\n",
    "            \"Walls Heat Loss\": -walls_heat,\n",
    "            \"Windows Heat Loss\": -windows_heat,\n",
    "            \"Ceiling Heat Loss\": -ceiling_heat,\n",
    "            \"Ventilation Heat Loss\": -ventilation_heat,\n",
    "            \"Internal Heat Gain\": internal_heat,\n",
    "            \"Total Heat Loss (Winter)\": total_heat_loss,\n",
    "        }\n",
    "    elif season.lower() == \"summer\":\n",
    "        total_heat_gain = (\n",
    "            walls_heat\n",
    "            + windows_heat\n",
    "            + ceiling_heat\n",
    "            + solar_heat\n",
    "            + internal_heat\n",
    "            - ventilation_heat\n",
    "        )\n",
    "        print(f\"Total heat gain (Summer): {total_heat_gain:.2f} W\")\n",
    "        return {\n",
    "            \"Walls Heat Gain\": walls_heat,\n",
    "            \"Windows Heat Gain\": windows_heat,\n",
    "            \"Ceiling Heat Gain\": ceiling_heat,\n",
    "            \"Solar Heat Gain\": solar_heat,\n",
    "            \"Internal Heat Gain\": internal_heat,\n",
    "            \"Ventilation Heat Loss\": -ventilation_heat,\n",
    "            \"Total Heat Gain (Summer)\": total_heat_gain,\n",
    "        }\n",
    "    else:\n",
    "        raise ValueError(f\"Invalid season: {season}. Must be 'winter' or 'summer'.\")\n",
    "\n",
    "def calculate_scenario(scenario, hourly_temperatures, walls_area, windows_area):\n",
    "    \"\"\"\n",
    "    Calculate heat load for a single scenario.\n",
    "    \"\"\"\n",
    "    season = scenario[\"season\"]\n",
    "    air = {\n",
    "        \"u_value\": scenario[\"walls\"][\"u_value\"],\n",
    "        \"specific_heat_capacity\": specific_heat_capacity,\n",
    "        \"temperature\": scenario[\"air\"][\"temperature\"],\n",
    "        \"indoor_temperature\": scenario.get(\"indoor_temp\", setpoint_summer if season == 'summer' else setpoint_winter),\n",
    "    }\n",
    "    occupancy = {\n",
    "        \"count\": scenario[\"occupants\"][\"count\"],\n",
    "        \"heat_source\": scenario[\"occupants\"][\"heat_source\"],\n",
    "    }\n",
    "    ventilation = scenario.get(\"ventilation\", {\"airflow_rate\": 0.01 * occupancy[\"count\"], \"delta_t\": 5.0})\n",
    "    ghi = scenario.get(\"ghi\", 500)\n",
    "    shgc = scenario.get(\"shgc\", 0.5)\n",
    "    time_hours = 1\n",
    "\n",
    "    start_time = datetime.strptime(\"07:00\", \"%H:%M\")\n",
    "    end_time = datetime.strptime(\"19:00\", \"%H:%M\")\n",
    "    current_time = start_time\n",
    "    hourly_results = []\n",
    "\n",
    "    while current_time <= end_time:\n",
    "        hour = current_time.hour\n",
    "        outdoor_temp = hourly_temperatures.get(hour, scenario[\"air\"][\"temperature\"])\n",
    "        current_occupancy = occupancy[\"count\"] if 7 <= hour <= 19 else 0\n",
    "        heat_load = calculate_heat_balance(\n",
    "            walls_obj_path=None,\n",
    "            windows_obj_path=None,\n",
    "            air=air,\n",
    "            occupancy={\"count\": current_occupancy, \"heat_source\": occupancy[\"heat_source\"]},\n",
    "            ventilation=ventilation,\n",
    "            ghi=ghi,\n",
    "            shgc=shgc,\n",
    "            time_hours=time_hours,\n",
    "            setpoint=air[\"indoor_temperature\"],\n",
    "            outdoor_temp=outdoor_temp,\n",
    "            season=season,\n",
    "            ceiling_area=50.0,\n",
    "            ceiling_u_value=0.3,\n",
    "            walls_area=walls_area,\n",
    "            windows_area=windows_area,\n",
    "        )\n",
    "        hourly_results.append({\n",
    "            \"hour\": current_time.strftime(\"%H:%M\"),\n",
    "            \"outdoor_temp\": outdoor_temp,\n",
    "            \"occupancy\": current_occupancy,\n",
    "            \"heat_load\": heat_load,\n",
    "        })\n",
    "        current_time += timedelta(hours=1)\n",
    "\n",
    "    total_heat_load = sum(\n",
    "        hr[\"heat_load\"][\"Total Heat Loss (Winter)\" if season.lower() == \"winter\" else \"Total Heat Gain (Summer)\"]\n",
    "        for hr in hourly_results\n",
    "    )\n",
    "\n",
    "    return {\n",
    "        \"season\": season,\n",
    "        \"occupancy\": occupancy[\"count\"],\n",
    "        \"walls_u_value\": air[\"u_value\"],\n",
    "        \"windows_u_value\": scenario[\"windows\"][\"u_value\"],\n",
    "        \"ghi\": ghi,\n",
    "        \"shgc\": shgc,\n",
    "        \"hourly_results\": hourly_results,\n",
    "        \"total_heat_load\": total_heat_load,\n",
    "    }\n",
    "\n",
    "def calculate_scenario(scenario, hourly_temperatures, walls_area, windows_area):\n",
    "    \"\"\"\n",
    "    Calculate heat load for a single scenario.\n",
    "    \"\"\"\n",
    "    season = scenario[\"season\"]\n",
    "    air = {\n",
    "        \"u_value\": scenario[\"walls\"][\"u_value\"],\n",
    "        \"specific_heat_capacity\": specific_heat_capacity,\n",
    "        \"temperature\": scenario[\"air\"][\"temperature\"],\n",
    "        \"indoor_temperature\": scenario.get(\"indoor_temp\", setpoint_summer if season == 'summer' else setpoint_winter),\n",
    "    }\n",
    "    occupancy = {\n",
    "        \"count\": scenario[\"occupants\"][\"count\"],\n",
    "        \"heat_source\": scenario[\"occupants\"][\"heat_source\"],\n",
    "    }\n",
    "    ventilation = scenario.get(\"ventilation\", {\"airflow_rate\": 0.01 * occupancy[\"count\"], \"delta_t\": 5.0})\n",
    "    ghi = scenario.get(\"ghi\", 500)\n",
    "    shgc = scenario.get(\"shgc\", 0.5)\n",
    "    time_hours = 1\n",
    "\n",
    "    start_time = datetime.strptime(\"07:00\", \"%H:%M\")\n",
    "    end_time = datetime.strptime(\"19:00\", \"%H:%M\")\n",
    "    current_time = start_time\n",
    "    hourly_results = []\n",
    "\n",
    "    while current_time <= end_time:\n",
    "        hour = current_time.hour\n",
    "        outdoor_temp = hourly_temperatures.get(hour, scenario[\"air\"][\"temperature\"])\n",
    "        current_occupancy = occupancy[\"count\"] if 7 <= hour <= 19 else 0\n",
    "        heat_load = calculate_heat_balance(\n",
    "            walls_obj_path=None,\n",
    "            windows_obj_path=None,\n",
    "            air=air,\n",
    "            occupancy={\"count\": current_occupancy, \"heat_source\": occupancy[\"heat_source\"]},\n",
    "            ventilation=ventilation,\n",
    "            ghi=ghi,\n",
    "            shgc=shgc,\n",
    "            time_hours=time_hours,\n",
    "            setpoint=air[\"indoor_temperature\"],\n",
    "            outdoor_temp=outdoor_temp,\n",
    "            season=season,\n",
    "            ceiling_area=50.0,\n",
    "            ceiling_u_value=0.3,\n",
    "            walls_area=walls_area,\n",
    "            windows_area=windows_area,\n",
    "        )\n",
    "        hourly_results.append({\n",
    "            \"hour\": current_time.strftime(\"%H:%M\"),\n",
    "            \"outdoor_temp\": outdoor_temp,\n",
    "            \"occupancy\": current_occupancy,\n",
    "            \"heat_load\": heat_load,\n",
    "        })\n",
    "        current_time += timedelta(hours=1)\n",
    "\n",
    "    total_heat_load = sum(\n",
    "        hr[\"heat_load\"][\"Total Heat Loss (Winter)\" if season.lower() == \"winter\" else \"Total Heat Gain (Summer)\"]\n",
    "        for hr in hourly_results\n",
    "    )\n",
    "\n",
    "    return {\n",
    "        \"season\": season,\n",
    "        \"occupancy\": occupancy[\"count\"],\n",
    "        \"walls_u_value\": air[\"u_value\"],\n",
    "        \"windows_u_value\": scenario[\"windows\"][\"u_value\"],\n",
    "        \"ghi\": ghi,\n",
    "        \"shgc\": shgc,\n",
    "        \"hourly_results\": hourly_results,\n",
    "        \"total_heat_load\": total_heat_load,\n",
    "    }\n",
    "\n",
    "def calculate_all_scenarios_batched(scenarios, hourly_temperatures, model_path, batch_size=5):\n",
    "    \"\"\"\n",
    "    Split scenarios into batches and process each batch.\n",
    "    \"\"\"\n",
    "    walls_area, windows_area = load_cached_areas(model_path)\n",
    "    total_batches = ceil(len(scenarios) / batch_size)\n",
    "    results = []\n",
    "\n",
    "    for batch_num in range(total_batches):\n",
    "        batch = scenarios[batch_num * batch_size: (batch_num + 1) * batch_size]\n",
    "        print(f\"Processing batch {batch_num + 1} of {total_batches}...\")\n",
    "\n",
    "        with ProcessPoolExecutor() as executor:\n",
    "            tasks = [\n",
    "                executor.submit(calculate_scenario, scenario, hourly_temperatures, walls_area, windows_area)\n",
    "                for scenario in batch\n",
    "            ]\n",
    "            results.extend([task.result() for task in tasks])\n",
    "\n",
    "        # Save intermediate results after each batch\n",
    "        with open(f\"results_batch_{batch_num + 1}.json\", \"w\") as file:\n",
    "            json.dump(results, file)\n",
    "\n",
    "    return results\n"
   ]
  },
  {
   "cell_type": "code",
   "execution_count": 36,
   "metadata": {},
   "outputs": [
    {
     "name": "stderr",
     "output_type": "stream",
     "text": [
      "Processing Scenarios: 100%|██████████| 1/1 [00:00<00:00, 2046.00it/s]\n"
     ]
    }
   ],
   "source": [
    "from pathlib import Path\n",
    "from datetime import datetime, timedelta\n",
    "import numpy as np\n",
    "from tqdm import tqdm\n",
    "\n",
    "# Precompute constants\n",
    "def load_mesh_area(mesh_path: Path, default_area: float = 50.0) -> float:\n",
    "    \"\"\"\n",
    "    Load a mesh file and return its area. If the file is missing, return a default area.\n",
    "    \"\"\"\n",
    "    if mesh_path.exists():\n",
    "        try:\n",
    "            mesh = trimesh.load(mesh_path)\n",
    "            return mesh.area\n",
    "        except Exception as e:\n",
    "            print(f\"Error loading mesh from {mesh_path}: {e}. Using default area: {default_area}\")\n",
    "    else:\n",
    "        print(f\"Warning: Mesh file '{mesh_path}' not found. Using default area: {default_area}\")\n",
    "    return default_area\n",
    "\n",
    "def calculate_heat_balance_precomputed(\n",
    "    walls_heat_coeff, windows_heat_coeff, ceiling_area, ceiling_u_value, \n",
    "    ventilation_coeff, ghi, shgc, time_hours, setpoint, outdoor_temp, season):\n",
    "    \"\"\"\n",
    "    Calculate heat loss (Winter) or heat gain (Summer) based on precomputed coefficients.\n",
    "    \"\"\"\n",
    "    # Temperature difference\n",
    "    delta_temp = setpoint - outdoor_temp if season.lower() == \"winter\" else outdoor_temp - setpoint\n",
    "\n",
    "    # Heat transfer through components\n",
    "    walls_heat = walls_heat_coeff * delta_temp\n",
    "    windows_heat = windows_heat_coeff * delta_temp\n",
    "    ceiling_heat = ceiling_area * ceiling_u_value * delta_temp\n",
    "    ventilation_heat = ventilation_coeff * delta_temp\n",
    "    solar_heat = ghi * windows_heat_coeff * shgc * time_hours if season.lower() == \"summer\" else 0\n",
    "\n",
    "    # Total heat load\n",
    "    if season.lower() == \"winter\":\n",
    "        total_heat_load = -walls_heat - windows_heat - ceiling_heat - ventilation_heat\n",
    "    else:  # Summer\n",
    "        total_heat_load = walls_heat + windows_heat + ceiling_heat + solar_heat - ventilation_heat\n",
    "\n",
    "    return {\n",
    "        \"Walls Heat\": walls_heat,\n",
    "        \"Windows Heat\": windows_heat,\n",
    "        \"Ceiling Heat\": ceiling_heat,\n",
    "        \"Ventilation Heat\": ventilation_heat,\n",
    "        \"Solar Heat\": solar_heat,\n",
    "        \"Total Heat Load\": total_heat_load,\n",
    "    }\n",
    "\n",
    "def interpolate_hourly(results, start, end):\n",
    "    \"\"\"\n",
    "    Interpolates heat loads for missing hours.\n",
    "    \"\"\"\n",
    "    interpolated = []\n",
    "    for hour in range(start, end + 1):\n",
    "        existing = next((res for res in results if int(res[\"hour\"].split(\":\")[0]) == hour), None)\n",
    "        if existing:\n",
    "            interpolated.append(existing)\n",
    "        else:\n",
    "            # Simple linear interpolation\n",
    "            prev = next(res for res in reversed(results) if int(res[\"hour\"].split(\":\")[0]) < hour)\n",
    "            next_res = next(res for res in results if int(res[\"hour\"].split(\":\")[0]) > hour)\n",
    "            fraction = (hour - int(prev[\"hour\"].split(\":\")[0])) / (\n",
    "                int(next_res[\"hour\"].split(\":\")[0]) - int(prev[\"hour\"].split(\":\")[0])\n",
    "            )\n",
    "            interpolated_value = {\n",
    "                key: prev[key] + fraction * (next_res[key] - prev[key]) if isinstance(prev[key], (int, float)) else prev[key]\n",
    "                for key in prev\n",
    "            }\n",
    "            interpolated.append(interpolated_value)\n",
    "    return interpolated\n",
    "\n",
    "def calculate_hourly_sampled(\n",
    "    scenario, representative_hours, hourly_temperatures, walls_area, windows_area):\n",
    "    \"\"\"\n",
    "    Calculate heat load for a single scenario using representative hours.\n",
    "    \"\"\"\n",
    "    season = scenario[\"season\"]\n",
    "    air = {\n",
    "        \"u_value\": scenario[\"walls\"][\"u_value\"],\n",
    "        \"specific_heat_capacity\": scenario[\"air\"][\"specific_heat_capacity\"],\n",
    "        \"indoor_temperature\": scenario.get(\"indoor_temp\", 20.0 if season == 'winter' else 24.0),\n",
    "    }\n",
    "    occupancy = {\n",
    "        \"count\": scenario[\"occupants\"][\"count\"],\n",
    "        \"heat_source\": scenario[\"occupants\"][\"heat_source\"],\n",
    "    }\n",
    "    ventilation = scenario.get(\"ventilation\", {\"airflow_rate\": 0.01 * occupancy[\"count\"], \"delta_t\": 5.0})\n",
    "    ghi = scenario.get(\"ghi\", 500)\n",
    "    shgc = scenario.get(\"shgc\", 0.5)\n",
    "\n",
    "    # Precompute heat coefficients\n",
    "    walls_heat_coeff = walls_area * air[\"u_value\"]\n",
    "    windows_heat_coeff = windows_area * air[\"u_value\"]\n",
    "    ventilation_coeff = ventilation[\"airflow_rate\"] * air[\"specific_heat_capacity\"]\n",
    "\n",
    "    results = []\n",
    "    for hour in representative_hours:\n",
    "        outdoor_temp = hourly_temperatures.get(hour, scenario[\"air\"][\"temperature\"])\n",
    "        current_occupancy = occupancy[\"count\"] if 7 <= hour <= 19 else 0\n",
    "        heat_load = calculate_heat_balance_precomputed(\n",
    "            walls_heat_coeff, windows_heat_coeff, 50.0, 0.3, ventilation_coeff,\n",
    "            ghi, shgc, 1, air[\"indoor_temperature\"], outdoor_temp, season,\n",
    "        )\n",
    "        results.append({\n",
    "            \"hour\": f\"{hour:02d}:00\",  # Format hour as \"HH:MM\"\n",
    "            \"outdoor_temp\": outdoor_temp,\n",
    "            \"occupancy\": current_occupancy,\n",
    "            \"heat_load\": heat_load,\n",
    "        })\n",
    "\n",
    "    # Interpolate missing hours\n",
    "    interpolated_results = interpolate_hourly(results, 7, 19)\n",
    "    return interpolated_results\n",
    "\n",
    "def calculate_all_scenarios(scenarios, hourly_temperatures, model_path):\n",
    "    \"\"\"\n",
    "    Process all scenarios with optimizations for speed.\n",
    "    \"\"\"\n",
    "    # Preload areas\n",
    "    walls_area = load_mesh_area(model_path / 'Walls.obj', default_area=100.0) * 1e-6\n",
    "    windows_area = load_mesh_area(model_path / 'Windows.obj', default_area=25.0) * 1e-6\n",
    "\n",
    "    representative_hours = [7, 12, 19]  # Reduced hours for sampling\n",
    "    results = []\n",
    "    for scenario in tqdm(scenarios, desc=\"Processing Scenarios\"):\n",
    "        scenario_result = calculate_hourly_sampled(\n",
    "            scenario, representative_hours, hourly_temperatures, walls_area, windows_area)\n",
    "        results.append(scenario_result)\n",
    "    return results\n",
    "\n",
    "model_path = Path(r\"C:\\Users\\oscar\\OneDrive - Fondazione Bruno Kessler\\sensor_positioning\\model\")\n",
    "scenarios = [\n",
    "    {\n",
    "        \"season\": \"winter\",\n",
    "        \"walls\": {\"u_value\": 0.3},\n",
    "        \"windows\": {\"u_value\": 1.2},\n",
    "        \"air\": {\"specific_heat_capacity\": 1005, \"temperature\": -5.0},\n",
    "        \"occupants\": {\"count\": 4, \"heat_source\": 100},\n",
    "        \"ventilation\": {\"airflow_rate\": 0.01, \"delta_t\": 5.0},\n",
    "        \"ghi\": 200,\n",
    "        \"shgc\": 0.5,\n",
    "    },\n",
    "    # Add more scenarios as needed\n",
    "]\n",
    "hourly_temperatures = {7: -5.0, 12: -2.0, 19: -6.0}\n",
    "\n",
    "# Run calculations\n",
    "results = calculate_all_scenarios(scenarios, hourly_temperatures, model_path)\n",
    "\n"
   ]
  }
 ],
 "metadata": {
  "kernelspec": {
   "display_name": "gsw",
   "language": "python",
   "name": "python3"
  },
  "language_info": {
   "codemirror_mode": {
    "name": "ipython",
    "version": 3
   },
   "file_extension": ".py",
   "mimetype": "text/x-python",
   "name": "python",
   "nbconvert_exporter": "python",
   "pygments_lexer": "ipython3",
   "version": "3.10.15"
  }
 },
 "nbformat": 4,
 "nbformat_minor": 2
}
